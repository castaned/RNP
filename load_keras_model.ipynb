{
 "cells": [
  {
   "cell_type": "code",
   "execution_count": 16,
   "id": "stunning-abraham",
   "metadata": {},
   "outputs": [],
   "source": [
    "# Installation of required libraries\n",
    "import pandas as pd\n",
    "import numpy as np\n",
    "\n",
    "import tensorflow as tf\n",
    "from matplotlib import pyplot as plt\n",
    "from keras.models import load_model\n",
    "from keras.models import model_from_json"
   ]
  },
  {
   "cell_type": "code",
   "execution_count": 17,
   "id": "toxic-community",
   "metadata": {},
   "outputs": [
    {
     "name": "stdout",
     "output_type": "stream",
     "text": [
      "Model: \"sequential_5\"\n",
      "_________________________________________________________________\n",
      "Layer (type)                 Output Shape              Param #   \n",
      "=================================================================\n",
      "dense_15 (Dense)             (None, 30)                540       \n",
      "_________________________________________________________________\n",
      "dropout_6 (Dropout)          (None, 30)                0         \n",
      "_________________________________________________________________\n",
      "dense_16 (Dense)             (None, 20)                620       \n",
      "_________________________________________________________________\n",
      "dropout_7 (Dropout)          (None, 20)                0         \n",
      "_________________________________________________________________\n",
      "dense_17 (Dense)             (None, 1)                 21        \n",
      "=================================================================\n",
      "Total params: 1,181\n",
      "Trainable params: 1,181\n",
      "Non-trainable params: 0\n",
      "_________________________________________________________________\n"
     ]
    }
   ],
   "source": [
    "model = load_model(\"model.h5\")\n",
    "\n",
    "model.summary()"
   ]
  },
  {
   "cell_type": "code",
   "execution_count": 18,
   "id": "signed-newton",
   "metadata": {},
   "outputs": [
    {
     "data": {
      "text/plain": [
       "(7000, 17)"
      ]
     },
     "execution_count": 18,
     "metadata": {},
     "output_type": "execute_result"
    }
   ],
   "source": [
    "x = pd.read_csv(\"X_train.csv\")\n",
    "y = pd.read_csv(\"y_train.csv\")\n",
    "x.shape"
   ]
  },
  {
   "cell_type": "code",
   "execution_count": 19,
   "id": "familiar-martin",
   "metadata": {},
   "outputs": [],
   "source": [
    "y = np.asarray(y, dtype = np.int)\n",
    "y = np.reshape(y, [y.shape[0],1])"
   ]
  },
  {
   "cell_type": "code",
   "execution_count": 20,
   "id": "final-platinum",
   "metadata": {},
   "outputs": [
    {
     "name": "stdout",
     "output_type": "stream",
     "text": [
      "219/219 [==============================] - 0s 626us/step - loss: 0.3185 - accuracy: 0.8644\n",
      "accuracy: 86.44%\n"
     ]
    }
   ],
   "source": [
    "#from ann_visualizer.visualize import ann_viz;\n",
    "from keras.models import model_from_json\n",
    "\n",
    "# load json and create model\n",
    "#json_file = open('model.json', 'r')\n",
    "#loaded_model_json = json_file.read()\n",
    "#json_file.close()\n",
    "#model = model_from_json(loaded_model_json)\n",
    "# load weights into new model\n",
    "#model.load_weights(\"model.h5\")\n",
    "\n",
    "#model = load_model('model.h5')\n",
    "\n",
    "# Compile a model\n",
    "#model.compile(loss='binary_crossentropy', \n",
    "#              optimizer=tf.keras.optimizers.SGD(0.01),\n",
    "#              metrics=['accuracy'])\n",
    "    \n",
    "score = model.evaluate(x,y,verbose=1)\n",
    "print(\"%s: %.2f%%\" % (model.metrics_names[1], score[1]*100))\n",
    "\n",
    "\n",
    "#ann_viz(model, title=\"Artificial Neural network - Model Visualization\")"
   ]
  },
  {
   "cell_type": "code",
   "execution_count": null,
   "id": "tamil-fifty",
   "metadata": {},
   "outputs": [],
   "source": []
  },
  {
   "cell_type": "code",
   "execution_count": null,
   "id": "hidden-minnesota",
   "metadata": {},
   "outputs": [],
   "source": []
  }
 ],
 "metadata": {
  "kernelspec": {
   "display_name": "Python 3",
   "language": "python",
   "name": "python3"
  },
  "language_info": {
   "codemirror_mode": {
    "name": "ipython",
    "version": 3
   },
   "file_extension": ".py",
   "mimetype": "text/x-python",
   "name": "python",
   "nbconvert_exporter": "python",
   "pygments_lexer": "ipython3",
   "version": "3.8.5"
  }
 },
 "nbformat": 4,
 "nbformat_minor": 5
}
