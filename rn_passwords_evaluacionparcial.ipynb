{
  "nbformat": 4,
  "nbformat_minor": 0,
  "metadata": {
    "colab": {
      "name": "rn_passwords_evaluacionparcial.ipynb",
      "provenance": [],
      "include_colab_link": true
    },
    "kernelspec": {
      "name": "python3",
      "display_name": "Python 3"
    }
  },
  "cells": [
    {
      "cell_type": "markdown",
      "metadata": {
        "id": "view-in-github",
        "colab_type": "text"
      },
      "source": [
        "<a href=\"https://colab.research.google.com/github/castaned/RNP/blob/main/rn_passwords_evaluacionparcial.ipynb\" target=\"_parent\"><img src=\"https://colab.research.google.com/assets/colab-badge.svg\" alt=\"Open In Colab\"/></a>"
      ]
    },
    {
      "cell_type": "markdown",
      "metadata": {
        "id": "5sbhP0j6D6oP"
      },
      "source": [
        "El presente código busca clasificar una serie de contraseñas en cuanto a su fortaleza. Las contraseñas provienen del 000webhost leak, disponible en\r\n",
        "https://www.kaggle.com/bhavikbb/password-strength-classifier-dataset.\r\n",
        "\r\n",
        "El dataset a utilizar presenta 670k valores distribuidos en dos columnas:\r\n",
        "\r\n",
        "password: Contraseña a analizar.\r\n",
        "\r\n",
        "strength: Clasíficación de fuerza de contraseña utilizando parámetros comerciales (0 es débil, 1 es medio, 2 es fuerte). \r\n"
      ]
    },
    {
      "cell_type": "code",
      "metadata": {
        "colab": {
          "base_uri": "https://localhost:8080/"
        },
        "id": "gpJEnqvCGQg8",
        "outputId": "f569f3ed-a024-4a30-d068-af0e63aef741"
      },
      "source": [
        "#google colab cuenta con una version de tensorflow instalada; especificamos la version a utilizar (1.x o 2.x)\r\n",
        "%tensorflow_version 1.x\r\n",
        "\r\n",
        "#verificamos la version de tensorflow utilizada\r\n",
        "import tensorflow as tf\r\n",
        "print(tf.__version__)"
      ],
      "execution_count": null,
      "outputs": [
        {
          "output_type": "stream",
          "text": [
            "TensorFlow 1.x selected.\n",
            "1.15.2\n"
          ],
          "name": "stdout"
        }
      ]
    },
    {
      "cell_type": "code",
      "metadata": {
        "id": "BfQdo4h7GUnE"
      },
      "source": [
        "#importamos las librerias necesarias\r\n",
        "import pandas as pd\r\n",
        "import seaborn as sns\r\n",
        "import numpy as np"
      ],
      "execution_count": null,
      "outputs": []
    },
    {
      "cell_type": "code",
      "metadata": {
        "id": "c3GNCyWWGgfi",
        "colab": {
          "base_uri": "https://localhost:8080/"
        },
        "outputId": "c27d5abc-a62d-456f-e442-abf19c5ed720"
      },
      "source": [
        "#importamos las funciones necesarias\r\n",
        "from sklearn.model_selection import train_test_split             #funcion que separa los datos aleatoriamente en arreglos train/test\r\n",
        "from sklearn.preprocessing import MinMaxScaler                   #funcion de rescalamiento de datos segun un factor dado\r\n",
        "from sklearn.preprocessing import Normalizer                     #funcion de normalizacion\r\n",
        "from matplotlib import pyplot as plt                             #funcion de graficacion\r\n",
        "from keras.models import Sequential                              #modelo secuencial de keras\r\n",
        "from keras.layers.core import Dense                              #funcion para añadir otra capa en keras\r\n",
        "from tensorflow.keras.callbacks import EarlyStopping             #funcion que permite detener el algoritmo si no se percibe un progreso medido con ciertos parametros"
      ],
      "execution_count": null,
      "outputs": [
        {
          "output_type": "stream",
          "text": [
            "Using TensorFlow backend.\n"
          ],
          "name": "stderr"
        }
      ]
    },
    {
      "cell_type": "code",
      "metadata": {
        "colab": {
          "base_uri": "https://localhost:8080/"
        },
        "id": "-1-3NrEjGp8E",
        "outputId": "9eabc622-54ff-41ed-e3e9-202e2fb1cfad"
      },
      "source": [
        "#montamos nuestro google drive para importar archivos\r\n",
        "from google.colab import drive\r\n",
        "drive.mount('/content/drive') "
      ],
      "execution_count": null,
      "outputs": [
        {
          "output_type": "stream",
          "text": [
            "Mounted at /content/drive\n"
          ],
          "name": "stdout"
        }
      ]
    },
    {
      "cell_type": "code",
      "metadata": {
        "colab": {
          "base_uri": "https://localhost:8080/"
        },
        "id": "B2CK1Q_tGr96",
        "outputId": "a064192d-5823-4a07-d5fc-59ecbb84a610"
      },
      "source": [
        "#importamos el dataset a utilizar de drive\r\n",
        "df = pd.read_csv('/content/drive/My Drive/Classroom/ML/passwords.csv', error_bad_lines=False)"
      ],
      "execution_count": null,
      "outputs": [
        {
          "output_type": "stream",
          "text": [
            "b'Skipping line 2810: expected 2 fields, saw 5\\nSkipping line 4641: expected 2 fields, saw 5\\nSkipping line 7171: expected 2 fields, saw 5\\nSkipping line 11220: expected 2 fields, saw 5\\nSkipping line 13809: expected 2 fields, saw 5\\nSkipping line 14132: expected 2 fields, saw 5\\nSkipping line 14293: expected 2 fields, saw 5\\nSkipping line 14865: expected 2 fields, saw 5\\nSkipping line 17419: expected 2 fields, saw 5\\nSkipping line 22801: expected 2 fields, saw 5\\nSkipping line 25001: expected 2 fields, saw 5\\nSkipping line 26603: expected 2 fields, saw 5\\nSkipping line 26742: expected 2 fields, saw 5\\nSkipping line 29702: expected 2 fields, saw 5\\nSkipping line 32767: expected 2 fields, saw 5\\nSkipping line 32878: expected 2 fields, saw 5\\nSkipping line 35643: expected 2 fields, saw 5\\nSkipping line 36550: expected 2 fields, saw 5\\nSkipping line 38732: expected 2 fields, saw 5\\nSkipping line 40567: expected 2 fields, saw 5\\nSkipping line 40576: expected 2 fields, saw 5\\nSkipping line 41864: expected 2 fields, saw 5\\nSkipping line 46861: expected 2 fields, saw 5\\nSkipping line 47939: expected 2 fields, saw 5\\nSkipping line 48628: expected 2 fields, saw 5\\nSkipping line 48908: expected 2 fields, saw 5\\nSkipping line 57582: expected 2 fields, saw 5\\nSkipping line 58782: expected 2 fields, saw 5\\nSkipping line 58984: expected 2 fields, saw 5\\nSkipping line 61518: expected 2 fields, saw 5\\nSkipping line 63451: expected 2 fields, saw 5\\nSkipping line 68141: expected 2 fields, saw 5\\nSkipping line 72083: expected 2 fields, saw 5\\nSkipping line 74027: expected 2 fields, saw 5\\nSkipping line 77811: expected 2 fields, saw 5\\nSkipping line 83958: expected 2 fields, saw 5\\nSkipping line 85295: expected 2 fields, saw 5\\nSkipping line 88665: expected 2 fields, saw 5\\nSkipping line 89198: expected 2 fields, saw 5\\nSkipping line 92499: expected 2 fields, saw 5\\nSkipping line 92751: expected 2 fields, saw 5\\nSkipping line 93689: expected 2 fields, saw 5\\nSkipping line 94776: expected 2 fields, saw 5\\nSkipping line 97334: expected 2 fields, saw 5\\nSkipping line 102316: expected 2 fields, saw 5\\nSkipping line 103421: expected 2 fields, saw 5\\nSkipping line 106872: expected 2 fields, saw 5\\nSkipping line 109363: expected 2 fields, saw 5\\nSkipping line 110117: expected 2 fields, saw 5\\nSkipping line 110465: expected 2 fields, saw 5\\nSkipping line 113843: expected 2 fields, saw 5\\nSkipping line 115634: expected 2 fields, saw 5\\nSkipping line 121518: expected 2 fields, saw 5\\nSkipping line 123692: expected 2 fields, saw 5\\nSkipping line 124708: expected 2 fields, saw 5\\nSkipping line 129608: expected 2 fields, saw 5\\nSkipping line 133176: expected 2 fields, saw 5\\nSkipping line 135532: expected 2 fields, saw 5\\nSkipping line 138042: expected 2 fields, saw 5\\nSkipping line 139485: expected 2 fields, saw 5\\nSkipping line 140401: expected 2 fields, saw 5\\nSkipping line 144093: expected 2 fields, saw 5\\nSkipping line 149850: expected 2 fields, saw 5\\nSkipping line 151831: expected 2 fields, saw 5\\nSkipping line 158014: expected 2 fields, saw 5\\nSkipping line 162047: expected 2 fields, saw 5\\nSkipping line 164515: expected 2 fields, saw 5\\nSkipping line 170313: expected 2 fields, saw 5\\nSkipping line 171325: expected 2 fields, saw 5\\nSkipping line 171424: expected 2 fields, saw 5\\nSkipping line 175920: expected 2 fields, saw 5\\nSkipping line 176210: expected 2 fields, saw 5\\nSkipping line 183603: expected 2 fields, saw 5\\nSkipping line 190264: expected 2 fields, saw 5\\nSkipping line 191683: expected 2 fields, saw 5\\nSkipping line 191988: expected 2 fields, saw 5\\nSkipping line 195450: expected 2 fields, saw 5\\nSkipping line 195754: expected 2 fields, saw 5\\nSkipping line 197124: expected 2 fields, saw 5\\nSkipping line 199263: expected 2 fields, saw 5\\nSkipping line 202603: expected 2 fields, saw 5\\nSkipping line 209960: expected 2 fields, saw 5\\nSkipping line 213218: expected 2 fields, saw 5\\nSkipping line 217060: expected 2 fields, saw 5\\nSkipping line 220121: expected 2 fields, saw 5\\nSkipping line 223518: expected 2 fields, saw 5\\nSkipping line 226293: expected 2 fields, saw 5\\nSkipping line 227035: expected 2 fields, saw 7\\nSkipping line 227341: expected 2 fields, saw 5\\nSkipping line 227808: expected 2 fields, saw 5\\nSkipping line 228516: expected 2 fields, saw 5\\nSkipping line 228733: expected 2 fields, saw 5\\nSkipping line 232043: expected 2 fields, saw 5\\nSkipping line 232426: expected 2 fields, saw 5\\nSkipping line 234490: expected 2 fields, saw 5\\nSkipping line 239626: expected 2 fields, saw 5\\nSkipping line 240461: expected 2 fields, saw 5\\nSkipping line 244518: expected 2 fields, saw 5\\nSkipping line 245395: expected 2 fields, saw 5\\nSkipping line 246168: expected 2 fields, saw 5\\nSkipping line 246655: expected 2 fields, saw 5\\nSkipping line 246752: expected 2 fields, saw 5\\nSkipping line 247189: expected 2 fields, saw 5\\nSkipping line 250276: expected 2 fields, saw 5\\nSkipping line 255327: expected 2 fields, saw 5\\nSkipping line 257094: expected 2 fields, saw 5\\n'\n",
            "b'Skipping line 264626: expected 2 fields, saw 5\\nSkipping line 265028: expected 2 fields, saw 5\\nSkipping line 269150: expected 2 fields, saw 5\\nSkipping line 271360: expected 2 fields, saw 5\\nSkipping line 273975: expected 2 fields, saw 5\\nSkipping line 274742: expected 2 fields, saw 5\\nSkipping line 276227: expected 2 fields, saw 5\\nSkipping line 279807: expected 2 fields, saw 5\\nSkipping line 283425: expected 2 fields, saw 5\\nSkipping line 287468: expected 2 fields, saw 5\\nSkipping line 292995: expected 2 fields, saw 5\\nSkipping line 293496: expected 2 fields, saw 5\\nSkipping line 293735: expected 2 fields, saw 5\\nSkipping line 295060: expected 2 fields, saw 5\\nSkipping line 296643: expected 2 fields, saw 5\\nSkipping line 296848: expected 2 fields, saw 5\\nSkipping line 308926: expected 2 fields, saw 5\\nSkipping line 310360: expected 2 fields, saw 5\\nSkipping line 317004: expected 2 fields, saw 5\\nSkipping line 318207: expected 2 fields, saw 5\\nSkipping line 331783: expected 2 fields, saw 5\\nSkipping line 333864: expected 2 fields, saw 5\\nSkipping line 335958: expected 2 fields, saw 5\\nSkipping line 336290: expected 2 fields, saw 5\\nSkipping line 343526: expected 2 fields, saw 5\\nSkipping line 343857: expected 2 fields, saw 5\\nSkipping line 344059: expected 2 fields, saw 5\\nSkipping line 348691: expected 2 fields, saw 5\\nSkipping line 353446: expected 2 fields, saw 5\\nSkipping line 357073: expected 2 fields, saw 5\\nSkipping line 359753: expected 2 fields, saw 5\\nSkipping line 359974: expected 2 fields, saw 5\\nSkipping line 366534: expected 2 fields, saw 5\\nSkipping line 369514: expected 2 fields, saw 5\\nSkipping line 377759: expected 2 fields, saw 5\\nSkipping line 379327: expected 2 fields, saw 5\\nSkipping line 380769: expected 2 fields, saw 5\\nSkipping line 381073: expected 2 fields, saw 5\\nSkipping line 381489: expected 2 fields, saw 5\\nSkipping line 386304: expected 2 fields, saw 5\\nSkipping line 387635: expected 2 fields, saw 5\\nSkipping line 389613: expected 2 fields, saw 5\\nSkipping line 392604: expected 2 fields, saw 5\\nSkipping line 393184: expected 2 fields, saw 5\\nSkipping line 395530: expected 2 fields, saw 5\\nSkipping line 396939: expected 2 fields, saw 5\\nSkipping line 397385: expected 2 fields, saw 5\\nSkipping line 397509: expected 2 fields, saw 5\\nSkipping line 402902: expected 2 fields, saw 5\\nSkipping line 405187: expected 2 fields, saw 5\\nSkipping line 408412: expected 2 fields, saw 5\\nSkipping line 419423: expected 2 fields, saw 5\\nSkipping line 420962: expected 2 fields, saw 5\\nSkipping line 425965: expected 2 fields, saw 5\\nSkipping line 427496: expected 2 fields, saw 5\\nSkipping line 438881: expected 2 fields, saw 5\\nSkipping line 439776: expected 2 fields, saw 5\\nSkipping line 440345: expected 2 fields, saw 5\\nSkipping line 445507: expected 2 fields, saw 5\\nSkipping line 445548: expected 2 fields, saw 5\\nSkipping line 447184: expected 2 fields, saw 5\\nSkipping line 448603: expected 2 fields, saw 5\\nSkipping line 451732: expected 2 fields, saw 5\\nSkipping line 458249: expected 2 fields, saw 5\\nSkipping line 460274: expected 2 fields, saw 5\\nSkipping line 467630: expected 2 fields, saw 5\\nSkipping line 473961: expected 2 fields, saw 5\\nSkipping line 476281: expected 2 fields, saw 5\\nSkipping line 478010: expected 2 fields, saw 5\\nSkipping line 478322: expected 2 fields, saw 5\\nSkipping line 479999: expected 2 fields, saw 5\\nSkipping line 480898: expected 2 fields, saw 5\\nSkipping line 481688: expected 2 fields, saw 5\\nSkipping line 485193: expected 2 fields, saw 5\\nSkipping line 485519: expected 2 fields, saw 5\\nSkipping line 486000: expected 2 fields, saw 5\\nSkipping line 489063: expected 2 fields, saw 5\\nSkipping line 494525: expected 2 fields, saw 5\\nSkipping line 495009: expected 2 fields, saw 5\\nSkipping line 501954: expected 2 fields, saw 5\\nSkipping line 508035: expected 2 fields, saw 5\\nSkipping line 508828: expected 2 fields, saw 5\\nSkipping line 509833: expected 2 fields, saw 5\\nSkipping line 510410: expected 2 fields, saw 5\\nSkipping line 518229: expected 2 fields, saw 5\\nSkipping line 520302: expected 2 fields, saw 5\\nSkipping line 520340: expected 2 fields, saw 5\\n'\n",
            "b'Skipping line 525174: expected 2 fields, saw 5\\nSkipping line 526251: expected 2 fields, saw 5\\nSkipping line 529611: expected 2 fields, saw 5\\nSkipping line 531398: expected 2 fields, saw 5\\nSkipping line 534146: expected 2 fields, saw 5\\nSkipping line 544954: expected 2 fields, saw 5\\nSkipping line 553002: expected 2 fields, saw 5\\nSkipping line 553883: expected 2 fields, saw 5\\nSkipping line 553887: expected 2 fields, saw 5\\nSkipping line 553915: expected 2 fields, saw 5\\nSkipping line 554172: expected 2 fields, saw 5\\nSkipping line 563534: expected 2 fields, saw 5\\nSkipping line 565191: expected 2 fields, saw 5\\nSkipping line 574108: expected 2 fields, saw 5\\nSkipping line 574412: expected 2 fields, saw 5\\nSkipping line 575985: expected 2 fields, saw 5\\nSkipping line 580091: expected 2 fields, saw 5\\nSkipping line 582682: expected 2 fields, saw 5\\nSkipping line 585885: expected 2 fields, saw 5\\nSkipping line 590171: expected 2 fields, saw 5\\nSkipping line 591924: expected 2 fields, saw 5\\nSkipping line 592515: expected 2 fields, saw 5\\nSkipping line 593888: expected 2 fields, saw 5\\nSkipping line 596245: expected 2 fields, saw 5\\nSkipping line 607344: expected 2 fields, saw 5\\nSkipping line 607633: expected 2 fields, saw 5\\nSkipping line 610939: expected 2 fields, saw 5\\nSkipping line 613638: expected 2 fields, saw 5\\nSkipping line 615643: expected 2 fields, saw 5\\nSkipping line 615901: expected 2 fields, saw 5\\nSkipping line 617389: expected 2 fields, saw 5\\nSkipping line 634641: expected 2 fields, saw 5\\nSkipping line 635755: expected 2 fields, saw 5\\nSkipping line 646243: expected 2 fields, saw 5\\nSkipping line 647165: expected 2 fields, saw 5\\nSkipping line 648610: expected 2 fields, saw 5\\nSkipping line 648772: expected 2 fields, saw 5\\nSkipping line 651833: expected 2 fields, saw 5\\nSkipping line 653663: expected 2 fields, saw 5\\nSkipping line 656233: expected 2 fields, saw 5\\nSkipping line 656694: expected 2 fields, saw 5\\nSkipping line 659783: expected 2 fields, saw 5\\nSkipping line 660478: expected 2 fields, saw 5\\nSkipping line 661133: expected 2 fields, saw 5\\nSkipping line 661736: expected 2 fields, saw 5\\nSkipping line 669827: expected 2 fields, saw 5\\n'\n"
          ],
          "name": "stderr"
        }
      ]
    },
    {
      "cell_type": "code",
      "metadata": {
        "colab": {
          "base_uri": "https://localhost:8080/"
        },
        "id": "QgfocTfHHqoa",
        "outputId": "78e778df-0e0d-44f1-c553-4c6cc5ce9de2"
      },
      "source": [
        "df.dtypes"
      ],
      "execution_count": null,
      "outputs": [
        {
          "output_type": "execute_result",
          "data": {
            "text/plain": [
              "password    object\n",
              "strength     int64\n",
              "dtype: object"
            ]
          },
          "metadata": {
            "tags": []
          },
          "execution_count": 6
        }
      ]
    },
    {
      "cell_type": "code",
      "metadata": {
        "colab": {
          "base_uri": "https://localhost:8080/"
        },
        "id": "bTh2ZbLSI0cc",
        "outputId": "682e7b8c-84c8-40c6-cb9b-865a5c24507a"
      },
      "source": [
        "df.index"
      ],
      "execution_count": null,
      "outputs": [
        {
          "output_type": "execute_result",
          "data": {
            "text/plain": [
              "RangeIndex(start=0, stop=669640, step=1)"
            ]
          },
          "metadata": {
            "tags": []
          },
          "execution_count": 7
        }
      ]
    },
    {
      "cell_type": "code",
      "metadata": {
        "colab": {
          "base_uri": "https://localhost:8080/",
          "height": 197
        },
        "id": "ZTwwQdQpJMk-",
        "outputId": "19822905-4dd2-4747-96aa-4f5e78ee4ae1"
      },
      "source": [
        "df.head()"
      ],
      "execution_count": null,
      "outputs": [
        {
          "output_type": "execute_result",
          "data": {
            "text/html": [
              "<div>\n",
              "<style scoped>\n",
              "    .dataframe tbody tr th:only-of-type {\n",
              "        vertical-align: middle;\n",
              "    }\n",
              "\n",
              "    .dataframe tbody tr th {\n",
              "        vertical-align: top;\n",
              "    }\n",
              "\n",
              "    .dataframe thead th {\n",
              "        text-align: right;\n",
              "    }\n",
              "</style>\n",
              "<table border=\"1\" class=\"dataframe\">\n",
              "  <thead>\n",
              "    <tr style=\"text-align: right;\">\n",
              "      <th></th>\n",
              "      <th>password</th>\n",
              "      <th>strength</th>\n",
              "    </tr>\n",
              "  </thead>\n",
              "  <tbody>\n",
              "    <tr>\n",
              "      <th>0</th>\n",
              "      <td>kzde5577</td>\n",
              "      <td>1</td>\n",
              "    </tr>\n",
              "    <tr>\n",
              "      <th>1</th>\n",
              "      <td>kino3434</td>\n",
              "      <td>1</td>\n",
              "    </tr>\n",
              "    <tr>\n",
              "      <th>2</th>\n",
              "      <td>visi7k1yr</td>\n",
              "      <td>1</td>\n",
              "    </tr>\n",
              "    <tr>\n",
              "      <th>3</th>\n",
              "      <td>megzy123</td>\n",
              "      <td>1</td>\n",
              "    </tr>\n",
              "    <tr>\n",
              "      <th>4</th>\n",
              "      <td>lamborghin1</td>\n",
              "      <td>1</td>\n",
              "    </tr>\n",
              "  </tbody>\n",
              "</table>\n",
              "</div>"
            ],
            "text/plain": [
              "      password  strength\n",
              "0     kzde5577         1\n",
              "1     kino3434         1\n",
              "2    visi7k1yr         1\n",
              "3     megzy123         1\n",
              "4  lamborghin1         1"
            ]
          },
          "metadata": {
            "tags": []
          },
          "execution_count": 8
        }
      ]
    },
    {
      "cell_type": "code",
      "metadata": {
        "id": "hWBmbcT_frkq"
      },
      "source": [
        "#para aglizar el proceso, seleccionamos solamente los primeros 10000 valores\r\n",
        "df = df[0:10000]"
      ],
      "execution_count": null,
      "outputs": []
    },
    {
      "cell_type": "markdown",
      "metadata": {
        "id": "qQdhGTRIJkOp"
      },
      "source": [
        "Para poder analizar esto mediante una red neuronal con un aprendizaje aceptable, se necesitan al menos 5 features que evaluar. \r\n",
        "\r\n",
        "A partir de la columna password, se crearan 5 parametros numericos segun las características de cada contraseña:\r\n",
        "\r\n",
        "password_length : número de caracteres.\r\n",
        "\r\n",
        "password_letters : número de letras en la contraseña.\r\n",
        "\r\n",
        "password_numbers : número de números en la contraseña.\r\n",
        "\r\n",
        "password_mayus : número de letras mayusculas en la contraseña.\r\n",
        "\r\n",
        "password_minus : número de letras minusculas en la contraseña.\r\n",
        "\r\n",
        "password_vowels : número de vocales en la contraseña.\r\n"
      ]
    },
    {
      "cell_type": "code",
      "metadata": {
        "id": "u-LRCXUINMOv"
      },
      "source": [
        "#creamos vector de vocales\r\n",
        "vowels = ['a','e','i','o','u']"
      ],
      "execution_count": null,
      "outputs": []
    },
    {
      "cell_type": "code",
      "metadata": {
        "id": "C-pt1Sb2WFHN"
      },
      "source": [
        "#creamos arreglos que almacenen valores de caracteristicas a analizar en cada contraseña\r\n",
        "pass_mayus = [] #num. de mayusculas\r\n",
        "pass_minus = [] #num. de minusculas\r\n",
        "pass_vow   = [] #num. de vocales\r\n",
        "\r\n",
        "for i in range(len(df)):\r\n",
        "  password = str(df['password'][i])\r\n",
        "  pass_mayus.append(sum(1 for c in password if c.isupper()))\r\n",
        "  pass_minus.append(sum(1 for c in password if c.islower()))\r\n",
        "  pass_vow.append(sum(password.count(c) for c in vowels ))"
      ],
      "execution_count": null,
      "outputs": []
    },
    {
      "cell_type": "code",
      "metadata": {
        "id": "mO9Y8yUfJfV4"
      },
      "source": [
        "#creamos columnas a partir de las caracteristicas de la columna password\r\n",
        "df['password_length'] = df['password'].str.len()       \r\n",
        "df['password_letters'] = abs(df['password'].str.len() - df['password'].str.count('\\d'))             \r\n",
        "df['password_numbers'] = df['password'].str.count('\\d')    \r\n",
        "df['password_mayus'] = pass_mayus\r\n",
        "df['password_minus'] = pass_minus\r\n",
        "df['password_vowels'] = pass_vow"
      ],
      "execution_count": null,
      "outputs": []
    },
    {
      "cell_type": "code",
      "metadata": {
        "colab": {
          "base_uri": "https://localhost:8080/",
          "height": 197
        },
        "id": "VtpNZBaJLnX9",
        "outputId": "9d36e60e-c6d3-4c15-a994-8da497676acb"
      },
      "source": [
        "df.head()"
      ],
      "execution_count": null,
      "outputs": [
        {
          "output_type": "execute_result",
          "data": {
            "text/html": [
              "<div>\n",
              "<style scoped>\n",
              "    .dataframe tbody tr th:only-of-type {\n",
              "        vertical-align: middle;\n",
              "    }\n",
              "\n",
              "    .dataframe tbody tr th {\n",
              "        vertical-align: top;\n",
              "    }\n",
              "\n",
              "    .dataframe thead th {\n",
              "        text-align: right;\n",
              "    }\n",
              "</style>\n",
              "<table border=\"1\" class=\"dataframe\">\n",
              "  <thead>\n",
              "    <tr style=\"text-align: right;\">\n",
              "      <th></th>\n",
              "      <th>password</th>\n",
              "      <th>strength</th>\n",
              "      <th>password_length</th>\n",
              "      <th>password_letters</th>\n",
              "      <th>password_numbers</th>\n",
              "      <th>password_mayus</th>\n",
              "      <th>password_minus</th>\n",
              "      <th>password_vowels</th>\n",
              "    </tr>\n",
              "  </thead>\n",
              "  <tbody>\n",
              "    <tr>\n",
              "      <th>0</th>\n",
              "      <td>kzde5577</td>\n",
              "      <td>1</td>\n",
              "      <td>8</td>\n",
              "      <td>4</td>\n",
              "      <td>4</td>\n",
              "      <td>0</td>\n",
              "      <td>4</td>\n",
              "      <td>1</td>\n",
              "    </tr>\n",
              "    <tr>\n",
              "      <th>1</th>\n",
              "      <td>kino3434</td>\n",
              "      <td>1</td>\n",
              "      <td>8</td>\n",
              "      <td>4</td>\n",
              "      <td>4</td>\n",
              "      <td>0</td>\n",
              "      <td>4</td>\n",
              "      <td>2</td>\n",
              "    </tr>\n",
              "    <tr>\n",
              "      <th>2</th>\n",
              "      <td>visi7k1yr</td>\n",
              "      <td>1</td>\n",
              "      <td>9</td>\n",
              "      <td>7</td>\n",
              "      <td>2</td>\n",
              "      <td>0</td>\n",
              "      <td>7</td>\n",
              "      <td>2</td>\n",
              "    </tr>\n",
              "    <tr>\n",
              "      <th>3</th>\n",
              "      <td>megzy123</td>\n",
              "      <td>1</td>\n",
              "      <td>8</td>\n",
              "      <td>5</td>\n",
              "      <td>3</td>\n",
              "      <td>0</td>\n",
              "      <td>5</td>\n",
              "      <td>1</td>\n",
              "    </tr>\n",
              "    <tr>\n",
              "      <th>4</th>\n",
              "      <td>lamborghin1</td>\n",
              "      <td>1</td>\n",
              "      <td>11</td>\n",
              "      <td>10</td>\n",
              "      <td>1</td>\n",
              "      <td>0</td>\n",
              "      <td>10</td>\n",
              "      <td>3</td>\n",
              "    </tr>\n",
              "  </tbody>\n",
              "</table>\n",
              "</div>"
            ],
            "text/plain": [
              "      password  strength  ...  password_minus  password_vowels\n",
              "0     kzde5577         1  ...               4                1\n",
              "1     kino3434         1  ...               4                2\n",
              "2    visi7k1yr         1  ...               7                2\n",
              "3     megzy123         1  ...               5                1\n",
              "4  lamborghin1         1  ...              10                3\n",
              "\n",
              "[5 rows x 8 columns]"
            ]
          },
          "metadata": {
            "tags": []
          },
          "execution_count": 13
        }
      ]
    },
    {
      "cell_type": "code",
      "metadata": {
        "colab": {
          "base_uri": "https://localhost:8080/",
          "height": 355
        },
        "id": "zAo3vp_pMGFQ",
        "outputId": "5b27a8d2-4e1b-4d15-daa9-b32d9c41ca4b"
      },
      "source": [
        "#se genera un grafico de correlaciones para observar la relacion entre las variables y deducir si es posible eliminar algunas sin perder informacion\r\n",
        "fig = sns.heatmap(df.corr(),annot=True,cmap='RdYlGn',linewidths=0.1) #df_train.corr()-->correlation matrix"
      ],
      "execution_count": null,
      "outputs": [
        {
          "output_type": "display_data",
          "data": {
            "image/png": "[encoded data removed]",
            "text/plain": [
              "<Figure size 432x288 with 2 Axes>"
            ]
          },
          "metadata": {
            "tags": [],
            "needs_background": "light"
          }
        }
      ]
    },
    {
      "cell_type": "code",
      "metadata": {
        "id": "4qZ3IUBfaprr"
      },
      "source": [
        "#eliminamos el parametros de baja correlacion\r\n",
        "#cols = ['password_vowels']\r\n",
        "\r\n",
        "\r\n",
        "#df = df.drop(cols, axis=1)"
      ],
      "execution_count": null,
      "outputs": []
    },
    {
      "cell_type": "code",
      "metadata": {
        "id": "QSOYOHykbimd"
      },
      "source": [
        "#se separan los datos en valores de entrada (features) y los valores de salida (para este caso, el diagnositco)\r\n",
        "X_df = df                                                     #features\r\n",
        "X_df = X_df.drop(['strength'], axis=1)                        #eliminamos el valor de salida de las features\r\n",
        "y_df = df['strength']                                        #vector columna de diagnostico (valor de salida)"
      ],
      "execution_count": null,
      "outputs": []
    },
    {
      "cell_type": "code",
      "metadata": {
        "colab": {
          "base_uri": "https://localhost:8080/",
          "height": 215
        },
        "id": "204CFsrGby0z",
        "outputId": "cbe73bd5-4280-411c-e50c-3eb2cec6502a"
      },
      "source": [
        "print(y_df.unique())\r\n",
        "X_df.head()"
      ],
      "execution_count": null,
      "outputs": [
        {
          "output_type": "stream",
          "text": [
            "[1 2 0]\n"
          ],
          "name": "stdout"
        },
        {
          "output_type": "execute_result",
          "data": {
            "text/html": [
              "<div>\n",
              "<style scoped>\n",
              "    .dataframe tbody tr th:only-of-type {\n",
              "        vertical-align: middle;\n",
              "    }\n",
              "\n",
              "    .dataframe tbody tr th {\n",
              "        vertical-align: top;\n",
              "    }\n",
              "\n",
              "    .dataframe thead th {\n",
              "        text-align: right;\n",
              "    }\n",
              "</style>\n",
              "<table border=\"1\" class=\"dataframe\">\n",
              "  <thead>\n",
              "    <tr style=\"text-align: right;\">\n",
              "      <th></th>\n",
              "      <th>password_length</th>\n",
              "      <th>password_letters</th>\n",
              "      <th>password_numbers</th>\n",
              "      <th>password_mayus</th>\n",
              "      <th>password_minus</th>\n",
              "    </tr>\n",
              "  </thead>\n",
              "  <tbody>\n",
              "    <tr>\n",
              "      <th>0</th>\n",
              "      <td>8</td>\n",
              "      <td>4</td>\n",
              "      <td>4</td>\n",
              "      <td>0</td>\n",
              "      <td>4</td>\n",
              "    </tr>\n",
              "    <tr>\n",
              "      <th>1</th>\n",
              "      <td>8</td>\n",
              "      <td>4</td>\n",
              "      <td>4</td>\n",
              "      <td>0</td>\n",
              "      <td>4</td>\n",
              "    </tr>\n",
              "    <tr>\n",
              "      <th>2</th>\n",
              "      <td>9</td>\n",
              "      <td>7</td>\n",
              "      <td>2</td>\n",
              "      <td>0</td>\n",
              "      <td>7</td>\n",
              "    </tr>\n",
              "    <tr>\n",
              "      <th>3</th>\n",
              "      <td>8</td>\n",
              "      <td>5</td>\n",
              "      <td>3</td>\n",
              "      <td>0</td>\n",
              "      <td>5</td>\n",
              "    </tr>\n",
              "    <tr>\n",
              "      <th>4</th>\n",
              "      <td>11</td>\n",
              "      <td>10</td>\n",
              "      <td>1</td>\n",
              "      <td>0</td>\n",
              "      <td>10</td>\n",
              "    </tr>\n",
              "  </tbody>\n",
              "</table>\n",
              "</div>"
            ],
            "text/plain": [
              "   password_length  password_letters  ...  password_mayus  password_minus\n",
              "0                8                 4  ...               0               4\n",
              "1                8                 4  ...               0               4\n",
              "2                9                 7  ...               0               7\n",
              "3                8                 5  ...               0               5\n",
              "4               11                10  ...               0              10\n",
              "\n",
              "[5 rows x 5 columns]"
            ]
          },
          "metadata": {
            "tags": []
          },
          "execution_count": 17
        }
      ]
    },
    {
      "cell_type": "code",
      "metadata": {
        "colab": {
          "base_uri": "https://localhost:8080/"
        },
        "id": "gQuZIBsJb4lT",
        "outputId": "ebf15763-0df8-4a42-db51-d97a134c26f4"
      },
      "source": [
        "#se utiliza la funcion train_test_split para separar los datos aleatoriamente en cuatro sets: dosde entrenamiento (70%) y otros dos de prueba (30%), tanto features como valores de salida\r\n",
        "\r\n",
        "x_tr, x_ts, y_tr, y_ts = train_test_split(X_df, y_df, test_size = 0.3, random_state = 42)   #generacion de arreglos aleatorios de features y valores de salida de entrenamiento y de prueba\r\n",
        "\r\n",
        "y_tr = np.asarray(y_tr, dtype = np.int)   #cambiamos las variables al tipo numpy int\r\n",
        "y_ts = np.asarray(y_ts, dtype = np.int)   \r\n",
        "\r\n",
        "y_tr = np.reshape(y_tr, [int(len(df)*0.70),1])          #reacomodamos el arreglo según el numero de valores en el dataset\r\n",
        "y_ts = np.reshape(y_ts, [int(len(df)*.30),1])          \r\n",
        "\r\n",
        "print(x_ts.shape)\r\n",
        "print(x_tr.shape)\r\n",
        "print(y_ts.shape)\r\n",
        "print(y_tr.shape)"
      ],
      "execution_count": null,
      "outputs": [
        {
          "output_type": "stream",
          "text": [
            "(3000, 5)\n",
            "(7000, 5)\n",
            "(3000, 1)\n",
            "(7000, 1)\n"
          ],
          "name": "stdout"
        }
      ]
    },
    {
      "cell_type": "code",
      "metadata": {
        "colab": {
          "base_uri": "https://localhost:8080/"
        },
        "id": "JrKKasLRcPeR",
        "outputId": "2bba00b4-6dee-45ae-fb0e-dc2aea95aeec"
      },
      "source": [
        "# Training Data\r\n",
        "x_tr = MinMaxScaler().fit_transform(x_tr) #reescalamos el dataframe de valores de entrenamiento como un arreglo de valores entre 0 y 1    \r\n",
        "y_tr = MinMaxScaler().fit_transform(y_tr) #reescalamos el dataframe de valores de entrenamiento como un arreglo de valores entre 0 y 1             \r\n",
        "print(\"Training Data :\", x_tr.shape)\r\n",
        "\r\n",
        "# Testing Data\r\n",
        "x_ts = MinMaxScaler().fit_transform(x_ts) #reescalamos el dataframe de valores de prueba como un arreglo de valores entre 0 y 1   \r\n",
        "y_ts = MinMaxScaler().fit_transform(y_ts) #reescalamos el dataframe de valores de prueba como un arreglo de valores entre 0 y 1  \r\n",
        "print(\"Testing Data :\", x_ts.shape)"
      ],
      "execution_count": null,
      "outputs": [
        {
          "output_type": "stream",
          "text": [
            "Training Data : (7000, 5)\n",
            "Testing Data : (3000, 5)\n"
          ],
          "name": "stdout"
        }
      ]
    },
    {
      "cell_type": "code",
      "metadata": {
        "id": "79IweRPwe9JG",
        "colab": {
          "base_uri": "https://localhost:8080/"
        },
        "outputId": "01466628-3544-48c9-8aaf-665d259be2d4"
      },
      "source": [
        "#print(x_tr,y_tr)\r\n",
        "len(X_df.columns)"
      ],
      "execution_count": null,
      "outputs": [
        {
          "output_type": "execute_result",
          "data": {
            "text/plain": [
              "5"
            ]
          },
          "metadata": {
            "tags": []
          },
          "execution_count": 20
        }
      ]
    },
    {
      "cell_type": "code",
      "metadata": {
        "colab": {
          "base_uri": "https://localhost:8080/",
          "height": 1000
        },
        "id": "Gszv6fB9oAeP",
        "outputId": "3ed877c5-bc72-46bd-fbe5-149ad522b074"
      },
      "source": [
        "#realizamos el algoritmo básico de clasificación utilizando tensorflow\r\n",
        "print(\"===========Data Summary===========\")\r\n",
        "print(\"Training Data :\", x_tr.shape)\r\n",
        "print(\"Testing Data :\", x_ts.shape)\r\n",
        "\r\n",
        "num_features = len(X_df.columns)\r\n",
        "num_hidden1 = len(X_df.columns)\r\n",
        "num_hidden2 = len(X_df.columns)\r\n",
        "num_output = 1\r\n",
        "\r\n",
        "X = tf.placeholder(tf.float32, [None, num_features])\r\n",
        "Y = tf.placeholder(tf.float32, [None, num_output])\r\n",
        "\r\n",
        "# pesos y biases de la capa de entrada (datos de entrnamiento) a capa oculta 1\r\n",
        "W1 = tf.Variable(tf.random_normal([num_features,num_hidden1], seed=0), name='weight1')\r\n",
        "b1 = tf.Variable(tf.random_normal([num_hidden1], seed=0), name='bias1')\r\n",
        "layer1 = tf.nn.sigmoid(tf.matmul(X,W1) + b1)\r\n",
        "\r\n",
        "# pesos y biases de la capa de entrada (datos de entrnamiento) a capa oculta 2\r\n",
        "W2 = tf.Variable(tf.random_normal([num_hidden1,num_hidden2], seed=0), name='weight2')\r\n",
        "b2 = tf.Variable(tf.random_normal([num_hidden2], seed=0), name='bias2')\r\n",
        "layer2 = tf.nn.sigmoid(tf.matmul(X,W2) + b2)\r\n",
        "\r\n",
        "# pesos y biases de la capa oculta a capa de salida\r\n",
        "W3 = tf.Variable(tf.random_normal([num_hidden2,num_output], seed=0), name='weight3')\r\n",
        "b3 = tf.Variable(tf.random_normal([num_output], seed=0), name='bias3')\r\n",
        "logits = tf.matmul(layer2,W3) + b3\r\n",
        "\r\n",
        "# valor de salida de la red neuronal\r\n",
        "hypothesis = tf.nn.sigmoid(logits)\r\n",
        "  \r\n",
        "# funcion de error \r\n",
        "# x = logits, z = labels     \r\n",
        "# sigmoid_cross_entropy = x - x * z + log(1 + exp(-x))\r\n",
        "cost_i = tf.nn.sigmoid_cross_entropy_with_logits(logits=logits,labels=Y)\r\n",
        "cost = tf.reduce_mean(cost_i)\r\n",
        "\r\n",
        "# entrenamiento por descenso de gradientes, factor de aprendizaje 0.01\r\n",
        "train = tf.train.GradientDescentOptimizer(learning_rate=0.01).minimize(cost)\r\n",
        "\r\n",
        "# definicion de accuracy, fraccion de aciertos de la red neuronal en una iteracion sobre los datos de entrenamiento\r\n",
        "prediction = tf.cast(hypothesis > 0.5, dtype=tf.float32)\r\n",
        "correct_prediction = tf.equal(prediction, Y)\r\n",
        "accuracy = tf.reduce_mean(tf.cast(correct_prediction, dtype=tf.float32))\r\n",
        "\r\n",
        "\r\n",
        "print(\"\\n============Processing============\")\r\n",
        "    \r\n",
        "with tf.Session() as sess:\r\n",
        "    sess.run(tf.global_variables_initializer())\r\n",
        "\r\n",
        "#    cost_summary = tf.summary.scalar(\"error\",cost)\r\n",
        "#    acc_summary = tf.summary.scalar(\"acc\",accuracy)\r\n",
        "    # Merge all summaries\r\n",
        "#    all_summary = tf.summary.merge_all()\r\n",
        "#    writer = tf.summary.FileWriter(\"C:/Users/Alfredo/Documents/GitHub/RNP/tensorboard/mlp_breastc_tf\", sess.graph)\r\n",
        "\r\n",
        "    \r\n",
        "    loss_value = []\r\n",
        "    acc_value = []\r\n",
        "    itera = []\r\n",
        "    for step in range(20001):\r\n",
        "        sess.run(train, feed_dict={X: x_tr, Y: y_tr})\r\n",
        "        if step % 1000 == 0:\r\n",
        "            loss, acc = sess.run([cost, accuracy], feed_dict={X: x_tr, Y: y_tr})\r\n",
        "            print(\"Step: {:5}\\tLoss: {:.3f}\\tAcc: {:.2%}\".format(step, loss, acc))\r\n",
        "#            summary_results = sess.run(all_summary,feed_dict={X: x_tr, Y: y_tr})\r\n",
        "#            writer.add_summary(summary_results,step)  \r\n",
        "\r\n",
        "            loss_value = np.append(loss_value,loss)\r\n",
        "            acc_value = np.append(acc_value,acc)\r\n",
        "            itera = np.append(itera,step)\r\n",
        "            \r\n",
        "    train_acc = sess.run(accuracy, feed_dict={X: x_tr, Y: y_tr})\r\n",
        "    test_acc,test_predict,test_correct = sess.run([accuracy,prediction,correct_prediction], feed_dict={X: x_ts, Y: y_ts})\r\n",
        "  \r\n",
        "\r\n",
        "    \r\n",
        "\r\n",
        "    print(\"\\n============Results============\")\r\n",
        "    print(\"Model Prediction =\", train_acc)\r\n",
        "    print(\"Test Prediction =\", test_acc)\r\n",
        "    \r\n",
        "    plt.plot(itera,loss_value)\r\n",
        "    plt.ylabel('error')\r\n",
        "    plt.xlabel('iteracion')\r\n",
        "    plt.show()\r\n",
        "    \r\n",
        "    plt.plot(itera,acc_value)\r\n",
        "    plt.ylabel('accuracy')\r\n",
        "    plt.xlabel('iteracion')\r\n",
        "    plt.show()"
      ],
      "execution_count": null,
      "outputs": [
        {
          "output_type": "stream",
          "text": [
            "===========Data Summary===========\n",
            "Training Data : (7000, 5)\n",
            "Testing Data : (3000, 5)\n",
            "WARNING:tensorflow:From /tensorflow-1.15.2/python3.7/tensorflow_core/python/ops/nn_impl.py:183: where (from tensorflow.python.ops.array_ops) is deprecated and will be removed in a future version.\n",
            "Instructions for updating:\n",
            "Use tf.where in 2.0, which has the same broadcast rule as np.where\n",
            "\n",
            "============Processing============\n",
            "Step:     0\tLoss: 1.037\tAcc: 12.84%\n",
            "Step:  1000\tLoss: 0.684\tAcc: 25.79%\n",
            "Step:  2000\tLoss: 0.683\tAcc: 26.07%\n",
            "Step:  3000\tLoss: 0.681\tAcc: 26.24%\n",
            "Step:  4000\tLoss: 0.680\tAcc: 26.33%\n",
            "Step:  5000\tLoss: 0.679\tAcc: 26.33%\n",
            "Step:  6000\tLoss: 0.677\tAcc: 26.36%\n",
            "Step:  7000\tLoss: 0.675\tAcc: 26.36%\n",
            "Step:  8000\tLoss: 0.673\tAcc: 26.36%\n",
            "Step:  9000\tLoss: 0.671\tAcc: 26.36%\n",
            "Step: 10000\tLoss: 0.669\tAcc: 26.36%\n",
            "Step: 11000\tLoss: 0.666\tAcc: 26.36%\n",
            "Step: 12000\tLoss: 0.664\tAcc: 26.36%\n",
            "Step: 13000\tLoss: 0.661\tAcc: 26.36%\n",
            "Step: 14000\tLoss: 0.658\tAcc: 26.36%\n",
            "Step: 15000\tLoss: 0.655\tAcc: 26.36%\n",
            "Step: 16000\tLoss: 0.651\tAcc: 26.36%\n",
            "Step: 17000\tLoss: 0.647\tAcc: 26.36%\n",
            "Step: 18000\tLoss: 0.644\tAcc: 26.36%\n",
            "Step: 19000\tLoss: 0.640\tAcc: 26.36%\n",
            "Step: 20000\tLoss: 0.636\tAcc: 26.36%\n",
            "\n",
            "============Results============\n",
            "Model Prediction = 0.26357144\n",
            "Test Prediction = 0.255\n"
          ],
          "name": "stdout"
        },
        {
          "output_type": "display_data",
          "data": {
            "image/png": "[encoded data removed]",
            "text/plain": [
              "<Figure size 432x288 with 1 Axes>"
            ]
          },
          "metadata": {
            "tags": [],
            "needs_background": "light"
          }
        },
        {
          "output_type": "display_data",
          "data": {
            "image/png": "[encoded data removed]",
            "text/plain": [
              "<Figure size 432x288 with 1 Axes>"
            ]
          },
          "metadata": {
            "tags": [],
            "needs_background": "light"
          }
        }
      ]
    },
    {
      "cell_type": "code",
      "metadata": {
        "id": "Xk4bGE6EcfxQ",
        "colab": {
          "base_uri": "https://localhost:8080/",
          "height": 1000
        },
        "outputId": "5efa3889-51f7-4fb0-948d-7878bea2bfa5"
      },
      "source": [
        "#realizamos el algoritmo de clasificacion usando keras\r\n",
        "\r\n",
        "# Hyperparameters\r\n",
        "training_epochs = 1000 # Total number of training epochs\r\n",
        "learning_rate = 0.1 # The learning rate\r\n",
        "hidden_layer1 = len(X_df.columns)\r\n",
        "hidden_layer2 = len(X_df.columns)/2\r\n",
        "\r\n",
        "#objetos a utilizar \r\n",
        "early_stopping = EarlyStopping(\r\n",
        "    monitor='val_acc', \r\n",
        "    patience=50, \r\n",
        "    min_delta=0.001, \r\n",
        "    mode='max'\r\n",
        ")\r\n",
        "\r\n",
        "# create a model\r\n",
        "def create_model():\r\n",
        "    model = tf.keras.Sequential()\r\n",
        "    # Hidden layer 1\r\n",
        "    model.add(tf.keras.layers.Dense(hidden_layer1, input_dim=hidden_layer1,activation='sigmoid'))\r\n",
        "    model.add(tf.keras.layers.Dropout(0.1))\r\n",
        "    # Hidden layer 2\r\n",
        "    #model.add(tf.keras.layers.Dense(hidden_layer2, input_dim=hidden_layer1,activation='sigmoid'))\r\n",
        "    #model.add(tf.keras.layers.Dropout(0.1))\r\n",
        "    # Output layer\r\n",
        "    model.add(tf.keras.layers.Dense(1, activation='sigmoid'))\r\n",
        "\r\n",
        "    # Compile a model\r\n",
        "    model.compile(loss='binary_crossentropy', \r\n",
        "                  optimizer=tf.keras.optimizers.SGD(learning_rate),\r\n",
        "                  metrics=['acc'])\r\n",
        "    return model\r\n",
        "\r\n",
        "model = create_model()\r\n",
        "model.summary()\r\n",
        "\r\n",
        "results = model.fit(\r\n",
        "    x_tr, y_tr,\r\n",
        "    epochs= training_epochs,\r\n",
        "    validation_data = (x_ts, y_ts),\r\n",
        "    verbose = 1,\r\n",
        "   callbacks = [early_stopping]\r\n",
        ")\r\n",
        "\r\n",
        "\r\n",
        "\r\n",
        "print(\"Evaluating on training set...\")\r\n",
        "(loss, accuracy) = model.evaluate(x_tr, y_tr, verbose=0)\r\n",
        "print(\"loss={:.4f}, accuracy: {:.4f}%\".format(loss,accuracy * 100))\r\n",
        "\r\n",
        "print(\"Evaluating on testing set...\")\r\n",
        "(loss, accuracy) = model.evaluate(x_ts, y_ts, verbose=0)\r\n",
        "print(\"loss={:.4f}, accuracy: {:.4f}%\".format(loss,accuracy * 100))\r\n",
        "\r\n",
        "\r\n",
        "# summarize history for accuracy\r\n",
        "plt.plot(results.history['acc'])\r\n",
        "plt.plot(results.history['val_acc'])\r\n",
        "plt.title('model accuracy')\r\n",
        "plt.ylabel('accuracy')\r\n",
        "plt.xlabel('epoch')\r\n",
        "plt.legend(['train', 'test'])\r\n",
        "plt.show()\r\n",
        "\r\n",
        "# summarize history for loss\r\n",
        "plt.plot(results.history['loss'])\r\n",
        "plt.plot(results.history['val_loss'])\r\n",
        "plt.title('model loss')\r\n",
        "plt.ylabel('loss')\r\n",
        "plt.xlabel('epoch')\r\n",
        "plt.legend(['train', 'test'])\r\n",
        "plt.show()\r\n",
        "\r\n",
        "\r\n",
        "max_loss = np.max(results.history['loss'])\r\n",
        "min_loss = np.min(results.history['loss'])\r\n",
        "print(\"Maximum Loss : {:.4f}\".format(max_loss))\r\n",
        "print(\"\")\r\n",
        "print(\"Minimum Loss : {:.4f}\".format(min_loss))\r\n",
        "print(\"\")\r\n",
        "print(\"Loss difference : {:.4f}\".format((max_loss - min_loss)))"
      ],
      "execution_count": null,
      "outputs": [
        {
          "output_type": "stream",
          "text": [
            "Model: \"sequential_4\"\n",
            "_________________________________________________________________\n",
            "Layer (type)                 Output Shape              Param #   \n",
            "=================================================================\n",
            "dense_9 (Dense)              (None, 5)                 30        \n",
            "_________________________________________________________________\n",
            "dropout_5 (Dropout)          (None, 5)                 0         \n",
            "_________________________________________________________________\n",
            "dense_10 (Dense)             (None, 1)                 6         \n",
            "=================================================================\n",
            "Total params: 36\n",
            "Trainable params: 36\n",
            "Non-trainable params: 0\n",
            "_________________________________________________________________\n",
            "Train on 7000 samples, validate on 3000 samples\n",
            "Epoch 1/10000\n",
            "7000/7000 [==============================] - 1s 74us/sample - loss: 0.6977 - acc: 0.1129 - val_loss: 0.6931 - val_acc: 0.1457\n",
            "Epoch 2/10000\n",
            "7000/7000 [==============================] - 0s 54us/sample - loss: 0.6939 - acc: 0.1656 - val_loss: 0.6915 - val_acc: 0.1457\n",
            "Epoch 3/10000\n",
            "7000/7000 [==============================] - 0s 55us/sample - loss: 0.6909 - acc: 0.1924 - val_loss: 0.6900 - val_acc: 0.1707\n",
            "Epoch 4/10000\n",
            "7000/7000 [==============================] - 0s 53us/sample - loss: 0.6870 - acc: 0.2030 - val_loss: 0.6884 - val_acc: 0.2297\n",
            "Epoch 5/10000\n",
            "7000/7000 [==============================] - 0s 55us/sample - loss: 0.6848 - acc: 0.2120 - val_loss: 0.6866 - val_acc: 0.2230\n",
            "Epoch 6/10000\n",
            "7000/7000 [==============================] - 0s 55us/sample - loss: 0.6830 - acc: 0.2096 - val_loss: 0.6848 - val_acc: 0.2207\n",
            "Epoch 7/10000\n",
            "7000/7000 [==============================] - 0s 59us/sample - loss: 0.6796 - acc: 0.2147 - val_loss: 0.6825 - val_acc: 0.2330\n",
            "Epoch 8/10000\n",
            "7000/7000 [==============================] - 0s 55us/sample - loss: 0.6756 - acc: 0.2160 - val_loss: 0.6807 - val_acc: 0.2230\n",
            "Epoch 9/10000\n",
            "7000/7000 [==============================] - 0s 53us/sample - loss: 0.6733 - acc: 0.2127 - val_loss: 0.6775 - val_acc: 0.2380\n",
            "Epoch 10/10000\n",
            "7000/7000 [==============================] - 0s 54us/sample - loss: 0.6697 - acc: 0.2136 - val_loss: 0.6744 - val_acc: 0.2420\n",
            "Epoch 11/10000\n",
            "7000/7000 [==============================] - 0s 59us/sample - loss: 0.6656 - acc: 0.2150 - val_loss: 0.6729 - val_acc: 0.2377\n",
            "Epoch 12/10000\n",
            "7000/7000 [==============================] - 0s 54us/sample - loss: 0.6618 - acc: 0.2196 - val_loss: 0.6695 - val_acc: 0.2417\n",
            "Epoch 13/10000\n",
            "7000/7000 [==============================] - 0s 55us/sample - loss: 0.6583 - acc: 0.2181 - val_loss: 0.6645 - val_acc: 0.2493\n",
            "Epoch 14/10000\n",
            "7000/7000 [==============================] - 0s 56us/sample - loss: 0.6522 - acc: 0.2261 - val_loss: 0.6631 - val_acc: 0.2473\n",
            "Epoch 15/10000\n",
            "7000/7000 [==============================] - 0s 54us/sample - loss: 0.6486 - acc: 0.2313 - val_loss: 0.6576 - val_acc: 0.2517\n",
            "Epoch 16/10000\n",
            "7000/7000 [==============================] - 0s 53us/sample - loss: 0.6445 - acc: 0.2324 - val_loss: 0.6566 - val_acc: 0.2500\n",
            "Epoch 17/10000\n",
            "7000/7000 [==============================] - 0s 55us/sample - loss: 0.6412 - acc: 0.2341 - val_loss: 0.6533 - val_acc: 0.2517\n",
            "Epoch 18/10000\n",
            "7000/7000 [==============================] - 0s 55us/sample - loss: 0.6369 - acc: 0.2401 - val_loss: 0.6533 - val_acc: 0.2500\n",
            "Epoch 19/10000\n",
            "7000/7000 [==============================] - 0s 54us/sample - loss: 0.6374 - acc: 0.2369 - val_loss: 0.6520 - val_acc: 0.2500\n",
            "Epoch 20/10000\n",
            "7000/7000 [==============================] - 0s 57us/sample - loss: 0.6321 - acc: 0.2426 - val_loss: 0.6498 - val_acc: 0.2520\n",
            "Epoch 21/10000\n",
            "7000/7000 [==============================] - 0s 59us/sample - loss: 0.6300 - acc: 0.2460 - val_loss: 0.6475 - val_acc: 0.2530\n",
            "Epoch 22/10000\n",
            "7000/7000 [==============================] - 0s 53us/sample - loss: 0.6281 - acc: 0.2434 - val_loss: 0.6470 - val_acc: 0.2530\n",
            "Epoch 23/10000\n",
            "7000/7000 [==============================] - 0s 54us/sample - loss: 0.6248 - acc: 0.2460 - val_loss: 0.6468 - val_acc: 0.2530\n",
            "Epoch 24/10000\n",
            "7000/7000 [==============================] - 0s 56us/sample - loss: 0.6206 - acc: 0.2490 - val_loss: 0.6468 - val_acc: 0.2530\n",
            "Epoch 25/10000\n",
            "7000/7000 [==============================] - 0s 53us/sample - loss: 0.6199 - acc: 0.2473 - val_loss: 0.6436 - val_acc: 0.2530\n",
            "Epoch 26/10000\n",
            "7000/7000 [==============================] - 0s 56us/sample - loss: 0.6197 - acc: 0.2453 - val_loss: 0.6418 - val_acc: 0.2557\n",
            "Epoch 27/10000\n",
            "7000/7000 [==============================] - 0s 55us/sample - loss: 0.6166 - acc: 0.2499 - val_loss: 0.6419 - val_acc: 0.2557\n",
            "Epoch 28/10000\n",
            "7000/7000 [==============================] - 0s 55us/sample - loss: 0.6151 - acc: 0.2493 - val_loss: 0.6448 - val_acc: 0.2543\n",
            "Epoch 29/10000\n",
            "7000/7000 [==============================] - 0s 58us/sample - loss: 0.6155 - acc: 0.2449 - val_loss: 0.6396 - val_acc: 0.2567\n",
            "Epoch 30/10000\n",
            "7000/7000 [==============================] - 0s 54us/sample - loss: 0.6149 - acc: 0.2459 - val_loss: 0.6395 - val_acc: 0.2567\n",
            "Epoch 31/10000\n",
            "7000/7000 [==============================] - 0s 58us/sample - loss: 0.6114 - acc: 0.2464 - val_loss: 0.6407 - val_acc: 0.2567\n",
            "Epoch 32/10000\n",
            "7000/7000 [==============================] - 0s 54us/sample - loss: 0.6105 - acc: 0.2481 - val_loss: 0.6412 - val_acc: 0.2567\n",
            "Epoch 33/10000\n",
            "7000/7000 [==============================] - 0s 56us/sample - loss: 0.6093 - acc: 0.2490 - val_loss: 0.6432 - val_acc: 0.2563\n",
            "Epoch 34/10000\n",
            "7000/7000 [==============================] - 0s 55us/sample - loss: 0.6084 - acc: 0.2504 - val_loss: 0.6375 - val_acc: 0.2580\n",
            "Epoch 35/10000\n",
            "7000/7000 [==============================] - 0s 54us/sample - loss: 0.6089 - acc: 0.2484 - val_loss: 0.6402 - val_acc: 0.2573\n",
            "Epoch 36/10000\n",
            "7000/7000 [==============================] - 0s 58us/sample - loss: 0.6059 - acc: 0.2537 - val_loss: 0.6418 - val_acc: 0.2573\n",
            "Epoch 37/10000\n",
            "7000/7000 [==============================] - 0s 54us/sample - loss: 0.6050 - acc: 0.2519 - val_loss: 0.6431 - val_acc: 0.2573\n",
            "Epoch 38/10000\n",
            "7000/7000 [==============================] - 0s 56us/sample - loss: 0.6051 - acc: 0.2510 - val_loss: 0.6425 - val_acc: 0.2573\n",
            "Epoch 39/10000\n",
            "7000/7000 [==============================] - 0s 56us/sample - loss: 0.6029 - acc: 0.2534 - val_loss: 0.6399 - val_acc: 0.2587\n",
            "Epoch 40/10000\n",
            "7000/7000 [==============================] - 0s 55us/sample - loss: 0.6045 - acc: 0.2516 - val_loss: 0.6417 - val_acc: 0.2580\n",
            "Epoch 41/10000\n",
            "7000/7000 [==============================] - 0s 59us/sample - loss: 0.6017 - acc: 0.2533 - val_loss: 0.6409 - val_acc: 0.2583\n",
            "Epoch 42/10000\n",
            "7000/7000 [==============================] - 0s 57us/sample - loss: 0.6028 - acc: 0.2530 - val_loss: 0.6396 - val_acc: 0.2587\n",
            "Epoch 43/10000\n",
            "7000/7000 [==============================] - 0s 56us/sample - loss: 0.5994 - acc: 0.2556 - val_loss: 0.6401 - val_acc: 0.2587\n",
            "Epoch 44/10000\n",
            "7000/7000 [==============================] - 0s 56us/sample - loss: 0.6008 - acc: 0.2544 - val_loss: 0.6404 - val_acc: 0.2593\n",
            "Epoch 45/10000\n",
            "7000/7000 [==============================] - 0s 54us/sample - loss: 0.5996 - acc: 0.2547 - val_loss: 0.6392 - val_acc: 0.2593\n",
            "Epoch 46/10000\n",
            "7000/7000 [==============================] - 0s 58us/sample - loss: 0.5995 - acc: 0.2574 - val_loss: 0.6430 - val_acc: 0.2583\n",
            "Epoch 47/10000\n",
            "7000/7000 [==============================] - 0s 55us/sample - loss: 0.5983 - acc: 0.2577 - val_loss: 0.6434 - val_acc: 0.2590\n",
            "Epoch 48/10000\n",
            "7000/7000 [==============================] - 0s 54us/sample - loss: 0.5976 - acc: 0.2590 - val_loss: 0.6440 - val_acc: 0.2583\n",
            "Epoch 49/10000\n",
            "7000/7000 [==============================] - 0s 59us/sample - loss: 0.5972 - acc: 0.2579 - val_loss: 0.6391 - val_acc: 0.2600\n",
            "Epoch 50/10000\n",
            "7000/7000 [==============================] - 0s 55us/sample - loss: 0.5967 - acc: 0.2590 - val_loss: 0.6395 - val_acc: 0.2597\n",
            "Epoch 51/10000\n",
            "7000/7000 [==============================] - 0s 55us/sample - loss: 0.5957 - acc: 0.2581 - val_loss: 0.6413 - val_acc: 0.2597\n",
            "Epoch 52/10000\n",
            "7000/7000 [==============================] - 0s 55us/sample - loss: 0.5978 - acc: 0.2581 - val_loss: 0.6428 - val_acc: 0.2593\n",
            "Epoch 53/10000\n",
            "7000/7000 [==============================] - 0s 53us/sample - loss: 0.5961 - acc: 0.2591 - val_loss: 0.6402 - val_acc: 0.2597\n",
            "Epoch 54/10000\n",
            "7000/7000 [==============================] - 0s 59us/sample - loss: 0.5954 - acc: 0.2586 - val_loss: 0.6387 - val_acc: 0.2603\n",
            "Epoch 55/10000\n",
            "7000/7000 [==============================] - 0s 54us/sample - loss: 0.5952 - acc: 0.2589 - val_loss: 0.6417 - val_acc: 0.2597\n",
            "Epoch 56/10000\n",
            "7000/7000 [==============================] - 0s 55us/sample - loss: 0.5939 - acc: 0.2594 - val_loss: 0.6406 - val_acc: 0.2600\n",
            "Epoch 57/10000\n",
            "7000/7000 [==============================] - 0s 58us/sample - loss: 0.5943 - acc: 0.2587 - val_loss: 0.6375 - val_acc: 0.2603\n",
            "Epoch 58/10000\n",
            "7000/7000 [==============================] - 0s 56us/sample - loss: 0.5934 - acc: 0.2591 - val_loss: 0.6389 - val_acc: 0.2603\n",
            "Epoch 59/10000\n",
            "7000/7000 [==============================] - 0s 57us/sample - loss: 0.5922 - acc: 0.2593 - val_loss: 0.6416 - val_acc: 0.2603\n",
            "Epoch 60/10000\n",
            "7000/7000 [==============================] - 0s 62us/sample - loss: 0.5927 - acc: 0.2594 - val_loss: 0.6437 - val_acc: 0.2597\n",
            "Epoch 61/10000\n",
            "7000/7000 [==============================] - 0s 54us/sample - loss: 0.5924 - acc: 0.2586 - val_loss: 0.6493 - val_acc: 0.2590\n",
            "Epoch 62/10000\n",
            "7000/7000 [==============================] - 0s 55us/sample - loss: 0.5933 - acc: 0.2584 - val_loss: 0.6405 - val_acc: 0.2603\n",
            "Epoch 63/10000\n",
            "7000/7000 [==============================] - 0s 55us/sample - loss: 0.5923 - acc: 0.2593 - val_loss: 0.6406 - val_acc: 0.2603\n",
            "Epoch 64/10000\n",
            "7000/7000 [==============================] - 0s 55us/sample - loss: 0.5930 - acc: 0.2574 - val_loss: 0.6417 - val_acc: 0.2603\n",
            "Epoch 65/10000\n",
            "7000/7000 [==============================] - 0s 54us/sample - loss: 0.5923 - acc: 0.2579 - val_loss: 0.6392 - val_acc: 0.2607\n",
            "Epoch 66/10000\n",
            "7000/7000 [==============================] - 0s 56us/sample - loss: 0.5901 - acc: 0.2601 - val_loss: 0.6430 - val_acc: 0.2603\n",
            "Epoch 67/10000\n",
            "7000/7000 [==============================] - 0s 59us/sample - loss: 0.5911 - acc: 0.2593 - val_loss: 0.6399 - val_acc: 0.2607\n",
            "Epoch 68/10000\n",
            "7000/7000 [==============================] - 0s 52us/sample - loss: 0.5904 - acc: 0.2589 - val_loss: 0.6369 - val_acc: 0.2607\n",
            "Epoch 69/10000\n",
            "7000/7000 [==============================] - 0s 61us/sample - loss: 0.5896 - acc: 0.2591 - val_loss: 0.6368 - val_acc: 0.2607\n",
            "Epoch 70/10000\n",
            "7000/7000 [==============================] - 0s 55us/sample - loss: 0.5881 - acc: 0.2600 - val_loss: 0.6394 - val_acc: 0.2607\n",
            "Epoch 71/10000\n",
            "7000/7000 [==============================] - 0s 53us/sample - loss: 0.5879 - acc: 0.2610 - val_loss: 0.6378 - val_acc: 0.2607\n",
            "Epoch 72/10000\n",
            "7000/7000 [==============================] - 0s 55us/sample - loss: 0.5904 - acc: 0.2589 - val_loss: 0.6449 - val_acc: 0.2603\n",
            "Epoch 73/10000\n",
            "7000/7000 [==============================] - 0s 55us/sample - loss: 0.5895 - acc: 0.2599 - val_loss: 0.6378 - val_acc: 0.2607\n",
            "Epoch 74/10000\n",
            "7000/7000 [==============================] - 0s 56us/sample - loss: 0.5894 - acc: 0.2599 - val_loss: 0.6373 - val_acc: 0.2607\n",
            "Epoch 75/10000\n",
            "7000/7000 [==============================] - 0s 58us/sample - loss: 0.5885 - acc: 0.2594 - val_loss: 0.6460 - val_acc: 0.2603\n",
            "Epoch 76/10000\n",
            "7000/7000 [==============================] - 0s 54us/sample - loss: 0.5874 - acc: 0.2603 - val_loss: 0.6379 - val_acc: 0.2607\n",
            "Epoch 77/10000\n",
            "7000/7000 [==============================] - 0s 58us/sample - loss: 0.5865 - acc: 0.2599 - val_loss: 0.6413 - val_acc: 0.2607\n",
            "Epoch 78/10000\n",
            "7000/7000 [==============================] - 0s 55us/sample - loss: 0.5886 - acc: 0.2597 - val_loss: 0.6400 - val_acc: 0.2607\n",
            "Epoch 79/10000\n",
            "7000/7000 [==============================] - 0s 54us/sample - loss: 0.5887 - acc: 0.2596 - val_loss: 0.6412 - val_acc: 0.2607\n",
            "Epoch 80/10000\n",
            "7000/7000 [==============================] - 0s 57us/sample - loss: 0.5860 - acc: 0.2604 - val_loss: 0.6409 - val_acc: 0.2607\n",
            "Epoch 81/10000\n",
            "7000/7000 [==============================] - 0s 54us/sample - loss: 0.5870 - acc: 0.2600 - val_loss: 0.6383 - val_acc: 0.2607\n",
            "Epoch 82/10000\n",
            "7000/7000 [==============================] - 0s 60us/sample - loss: 0.5879 - acc: 0.2600 - val_loss: 0.6443 - val_acc: 0.2607\n",
            "Epoch 83/10000\n",
            "7000/7000 [==============================] - 0s 55us/sample - loss: 0.5877 - acc: 0.2601 - val_loss: 0.6386 - val_acc: 0.2607\n",
            "Epoch 84/10000\n",
            "7000/7000 [==============================] - 0s 56us/sample - loss: 0.5860 - acc: 0.2601 - val_loss: 0.6398 - val_acc: 0.2607\n",
            "Epoch 85/10000\n",
            "7000/7000 [==============================] - 0s 60us/sample - loss: 0.5866 - acc: 0.2604 - val_loss: 0.6403 - val_acc: 0.2607\n",
            "Epoch 86/10000\n",
            "7000/7000 [==============================] - 0s 55us/sample - loss: 0.5847 - acc: 0.2603 - val_loss: 0.6444 - val_acc: 0.2607\n",
            "Epoch 87/10000\n",
            "7000/7000 [==============================] - 0s 58us/sample - loss: 0.5853 - acc: 0.2594 - val_loss: 0.6403 - val_acc: 0.2607\n",
            "Epoch 88/10000\n",
            "7000/7000 [==============================] - 0s 54us/sample - loss: 0.5863 - acc: 0.2594 - val_loss: 0.6451 - val_acc: 0.2607\n",
            "Epoch 89/10000\n",
            "7000/7000 [==============================] - 0s 59us/sample - loss: 0.5850 - acc: 0.2607 - val_loss: 0.6373 - val_acc: 0.2607\n",
            "Epoch 90/10000\n",
            "7000/7000 [==============================] - 0s 56us/sample - loss: 0.5863 - acc: 0.2600 - val_loss: 0.6424 - val_acc: 0.2607\n",
            "Epoch 91/10000\n",
            "7000/7000 [==============================] - 0s 55us/sample - loss: 0.5848 - acc: 0.2609 - val_loss: 0.6426 - val_acc: 0.2607\n",
            "Epoch 92/10000\n",
            "7000/7000 [==============================] - 0s 56us/sample - loss: 0.5841 - acc: 0.2601 - val_loss: 0.6357 - val_acc: 0.2607\n",
            "Epoch 93/10000\n",
            "7000/7000 [==============================] - 0s 52us/sample - loss: 0.5849 - acc: 0.2611 - val_loss: 0.6437 - val_acc: 0.2607\n",
            "Epoch 94/10000\n",
            "7000/7000 [==============================] - 0s 59us/sample - loss: 0.5832 - acc: 0.2611 - val_loss: 0.6414 - val_acc: 0.2607\n",
            "Epoch 95/10000\n",
            "7000/7000 [==============================] - 0s 57us/sample - loss: 0.5841 - acc: 0.2596 - val_loss: 0.6366 - val_acc: 0.2607\n",
            "Epoch 96/10000\n",
            "7000/7000 [==============================] - 0s 58us/sample - loss: 0.5836 - acc: 0.2601 - val_loss: 0.6407 - val_acc: 0.2607\n",
            "Epoch 97/10000\n",
            "7000/7000 [==============================] - 0s 57us/sample - loss: 0.5847 - acc: 0.2600 - val_loss: 0.6394 - val_acc: 0.2607\n",
            "Epoch 98/10000\n",
            "7000/7000 [==============================] - 0s 56us/sample - loss: 0.5835 - acc: 0.2616 - val_loss: 0.6416 - val_acc: 0.2607\n",
            "Epoch 99/10000\n",
            "7000/7000 [==============================] - 0s 55us/sample - loss: 0.5844 - acc: 0.2594 - val_loss: 0.6364 - val_acc: 0.2607\n",
            "Epoch 100/10000\n",
            "7000/7000 [==============================] - 0s 57us/sample - loss: 0.5834 - acc: 0.2607 - val_loss: 0.6401 - val_acc: 0.2607\n",
            "Epoch 101/10000\n",
            "7000/7000 [==============================] - 0s 56us/sample - loss: 0.5826 - acc: 0.2611 - val_loss: 0.6408 - val_acc: 0.2607\n",
            "Epoch 102/10000\n",
            "7000/7000 [==============================] - 0s 61us/sample - loss: 0.5826 - acc: 0.2601 - val_loss: 0.6394 - val_acc: 0.2607\n",
            "Epoch 103/10000\n",
            "7000/7000 [==============================] - 0s 54us/sample - loss: 0.5837 - acc: 0.2596 - val_loss: 0.6419 - val_acc: 0.2607\n",
            "Epoch 104/10000\n",
            "7000/7000 [==============================] - 0s 55us/sample - loss: 0.5817 - acc: 0.2604 - val_loss: 0.6455 - val_acc: 0.2607\n",
            "Epoch 105/10000\n",
            "7000/7000 [==============================] - 0s 56us/sample - loss: 0.5820 - acc: 0.2607 - val_loss: 0.6395 - val_acc: 0.2607\n",
            "Epoch 106/10000\n",
            "7000/7000 [==============================] - 0s 57us/sample - loss: 0.5818 - acc: 0.2614 - val_loss: 0.6400 - val_acc: 0.2607\n",
            "Epoch 107/10000\n",
            "7000/7000 [==============================] - 0s 55us/sample - loss: 0.5829 - acc: 0.2614 - val_loss: 0.6400 - val_acc: 0.2607\n",
            "Epoch 108/10000\n",
            "7000/7000 [==============================] - 0s 56us/sample - loss: 0.5822 - acc: 0.2610 - val_loss: 0.6455 - val_acc: 0.2607\n",
            "Epoch 109/10000\n",
            "7000/7000 [==============================] - 0s 60us/sample - loss: 0.5825 - acc: 0.2604 - val_loss: 0.6379 - val_acc: 0.2607\n",
            "Epoch 110/10000\n",
            "7000/7000 [==============================] - 0s 57us/sample - loss: 0.5825 - acc: 0.2596 - val_loss: 0.6420 - val_acc: 0.2607\n",
            "Epoch 111/10000\n",
            "7000/7000 [==============================] - 0s 58us/sample - loss: 0.5813 - acc: 0.2613 - val_loss: 0.6447 - val_acc: 0.2607\n",
            "Epoch 112/10000\n",
            "7000/7000 [==============================] - 0s 57us/sample - loss: 0.5821 - acc: 0.2604 - val_loss: 0.6441 - val_acc: 0.2607\n",
            "Epoch 113/10000\n",
            "7000/7000 [==============================] - 0s 55us/sample - loss: 0.5824 - acc: 0.2610 - val_loss: 0.6439 - val_acc: 0.2607\n",
            "Epoch 114/10000\n",
            "7000/7000 [==============================] - 0s 58us/sample - loss: 0.5806 - acc: 0.2616 - val_loss: 0.6409 - val_acc: 0.2607\n",
            "Epoch 115/10000\n",
            "7000/7000 [==============================] - 0s 54us/sample - loss: 0.5816 - acc: 0.2600 - val_loss: 0.6452 - val_acc: 0.2607\n",
            "Evaluating on training set...\n",
            "loss=0.5695, accuracy: 26.3571%\n",
            "Evaluating on testing set...\n",
            "loss=0.6452, accuracy: 26.0667%\n"
          ],
          "name": "stdout"
        },
        {
          "output_type": "display_data",
          "data": {
            "image/png": "[encoded data removed]",
            "text/plain": [
              "<Figure size 432x288 with 1 Axes>"
            ]
          },
          "metadata": {
            "tags": [],
            "needs_background": "light"
          }
        },
        {
          "output_type": "display_data",
          "data": {
            "image/png": "[encoded data removed]",
            "text/plain": [
              "<Figure size 432x288 with 1 Axes>"
            ]
          },
          "metadata": {
            "tags": [],
            "needs_background": "light"
          }
        },
        {
          "output_type": "stream",
          "text": [
            "Maximum Loss : 0.6977\n",
            "\n",
            "Minimum Loss : 0.5806\n",
            "\n",
            "Loss difference : 0.1171\n"
          ],
          "name": "stdout"
        }
      ]
    },
    {
      "cell_type": "code",
      "metadata": {
        "id": "hioKYc1sX8q_"
      },
      "source": [
        ""
      ],
      "execution_count": null,
      "outputs": []
    }
  ]
}