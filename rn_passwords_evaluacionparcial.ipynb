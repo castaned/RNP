{
 "cells": [
  {
   "cell_type": "markdown",
   "metadata": {
    "colab_type": "text",
    "id": "view-in-github"
   },
   "source": [
    "<a href=\"https://colab.research.google.com/github/castaned/RNP/blob/main/rn_passwords_evaluacionparcial.ipynb\" target=\"_parent\"><img src=\"https://colab.research.google.com/assets/colab-badge.svg\" alt=\"Open In Colab\"/></a>"
   ]
  },
  {
   "cell_type": "markdown",
   "metadata": {
    "id": "5sbhP0j6D6oP"
   },
   "source": [
    "El presente código busca clasificar una serie de contraseñas en cuanto a su fortaleza. Las contraseñas provienen del 000webhost leak, disponible en\n",
    "https://www.kaggle.com/bhavikbb/password-strength-classifier-dataset.\n",
    "\n",
    "El dataset a utilizar presenta 670k valores distribuidos en dos columnas:\n",
    "\n",
    "password: Contraseña a analizar.\n",
    "\n",
    "strength: Clasíficación de fuerza de contraseña utilizando parámetros comerciales (0 es débil, 1 es medio, 2 es fuerte). \n"
   ]
  },
  {
   "cell_type": "code",
   "execution_count": 1,
   "metadata": {
    "colab": {
     "base_uri": "https://localhost:8080/"
    },
    "id": "gpJEnqvCGQg8",
    "outputId": "f569f3ed-a024-4a30-d068-af0e63aef741"
   },
   "outputs": [],
   "source": [
    "\n",
    "import tensorflow as tf\n"
   ]
  },
  {
   "cell_type": "code",
   "execution_count": 2,
   "metadata": {
    "id": "BfQdo4h7GUnE"
   },
   "outputs": [],
   "source": [
    "#importamos las librerias necesarias\n",
    "import pandas as pd\n",
    "import seaborn as sns\n",
    "import numpy as np"
   ]
  },
  {
   "cell_type": "code",
   "execution_count": 3,
   "metadata": {
    "colab": {
     "base_uri": "https://localhost:8080/"
    },
    "id": "c3GNCyWWGgfi",
    "outputId": "c27d5abc-a62d-456f-e442-abf19c5ed720"
   },
   "outputs": [],
   "source": [
    "#importamos las funciones necesarias\n",
    "from sklearn.model_selection import train_test_split             #funcion que separa los datos aleatoriamente en arreglos train/test\n",
    "from sklearn.preprocessing import MinMaxScaler                   #funcion de rescalamiento de datos segun un factor dado\n",
    "from sklearn.preprocessing import Normalizer                     #funcion de normalizacion\n",
    "from matplotlib import pyplot as plt                             #funcion de graficacion\n",
    "from keras.models import Sequential                              #modelo secuencial de keras\n",
    "from keras.layers.core import Dense                              #funcion para añadir otra capa en keras\n",
    "from tensorflow.keras.callbacks import EarlyStopping             #funcion que permite detener el algoritmo si no se percibe un progreso medido con ciertos parametros"
   ]
  },
  {
   "cell_type": "code",
   "execution_count": 4,
   "metadata": {
    "colab": {
     "base_uri": "https://localhost:8080/"
    },
    "id": "-1-3NrEjGp8E",
    "outputId": "9eabc622-54ff-41ed-e3e9-202e2fb1cfad"
   },
   "outputs": [],
   "source": [
    "#montamos nuestro google drive para importar archivos\n",
    "#from google.colab import drive\n",
    "#drive.mount('/content/drive') "
   ]
  },
  {
   "cell_type": "code",
   "execution_count": 5,
   "metadata": {
    "colab": {
     "base_uri": "https://localhost:8080/"
    },
    "id": "B2CK1Q_tGr96",
    "outputId": "a064192d-5823-4a07-d5fc-59ecbb84a610"
   },
   "outputs": [
    {
     "name": "stderr",
     "output_type": "stream",
     "text": [
      "b'Skipping line 2810: expected 2 fields, saw 5\\nSkipping line 4641: expected 2 fields, saw 5\\nSkipping line 7171: expected 2 fields, saw 5\\nSkipping line 11220: expected 2 fields, saw 5\\nSkipping line 13809: expected 2 fields, saw 5\\nSkipping line 14132: expected 2 fields, saw 5\\nSkipping line 14293: expected 2 fields, saw 5\\nSkipping line 14865: expected 2 fields, saw 5\\nSkipping line 17419: expected 2 fields, saw 5\\nSkipping line 22801: expected 2 fields, saw 5\\nSkipping line 25001: expected 2 fields, saw 5\\nSkipping line 26603: expected 2 fields, saw 5\\nSkipping line 26742: expected 2 fields, saw 5\\nSkipping line 29702: expected 2 fields, saw 5\\nSkipping line 32767: expected 2 fields, saw 5\\nSkipping line 32878: expected 2 fields, saw 5\\nSkipping line 35643: expected 2 fields, saw 5\\nSkipping line 36550: expected 2 fields, saw 5\\nSkipping line 38732: expected 2 fields, saw 5\\nSkipping line 40567: expected 2 fields, saw 5\\nSkipping line 40576: expected 2 fields, saw 5\\nSkipping line 41864: expected 2 fields, saw 5\\nSkipping line 46861: expected 2 fields, saw 5\\nSkipping line 47939: expected 2 fields, saw 5\\nSkipping line 48628: expected 2 fields, saw 5\\nSkipping line 48908: expected 2 fields, saw 5\\nSkipping line 57582: expected 2 fields, saw 5\\nSkipping line 58782: expected 2 fields, saw 5\\nSkipping line 58984: expected 2 fields, saw 5\\nSkipping line 61518: expected 2 fields, saw 5\\nSkipping line 63451: expected 2 fields, saw 5\\nSkipping line 68141: expected 2 fields, saw 5\\nSkipping line 72083: expected 2 fields, saw 5\\nSkipping line 74027: expected 2 fields, saw 5\\nSkipping line 77811: expected 2 fields, saw 5\\nSkipping line 83958: expected 2 fields, saw 5\\nSkipping line 85295: expected 2 fields, saw 5\\nSkipping line 88665: expected 2 fields, saw 5\\nSkipping line 89198: expected 2 fields, saw 5\\nSkipping line 92499: expected 2 fields, saw 5\\nSkipping line 92751: expected 2 fields, saw 5\\nSkipping line 93689: expected 2 fields, saw 5\\nSkipping line 94776: expected 2 fields, saw 5\\nSkipping line 97334: expected 2 fields, saw 5\\nSkipping line 102316: expected 2 fields, saw 5\\nSkipping line 103421: expected 2 fields, saw 5\\nSkipping line 106872: expected 2 fields, saw 5\\nSkipping line 109363: expected 2 fields, saw 5\\nSkipping line 110117: expected 2 fields, saw 5\\nSkipping line 110465: expected 2 fields, saw 5\\nSkipping line 113843: expected 2 fields, saw 5\\nSkipping line 115634: expected 2 fields, saw 5\\nSkipping line 121518: expected 2 fields, saw 5\\nSkipping line 123692: expected 2 fields, saw 5\\nSkipping line 124708: expected 2 fields, saw 5\\nSkipping line 129608: expected 2 fields, saw 5\\nSkipping line 133176: expected 2 fields, saw 5\\nSkipping line 135532: expected 2 fields, saw 5\\nSkipping line 138042: expected 2 fields, saw 5\\nSkipping line 139485: expected 2 fields, saw 5\\nSkipping line 140401: expected 2 fields, saw 5\\nSkipping line 144093: expected 2 fields, saw 5\\nSkipping line 149850: expected 2 fields, saw 5\\nSkipping line 151831: expected 2 fields, saw 5\\nSkipping line 158014: expected 2 fields, saw 5\\nSkipping line 162047: expected 2 fields, saw 5\\nSkipping line 164515: expected 2 fields, saw 5\\nSkipping line 170313: expected 2 fields, saw 5\\nSkipping line 171325: expected 2 fields, saw 5\\nSkipping line 171424: expected 2 fields, saw 5\\nSkipping line 175920: expected 2 fields, saw 5\\nSkipping line 176210: expected 2 fields, saw 5\\nSkipping line 183603: expected 2 fields, saw 5\\nSkipping line 190264: expected 2 fields, saw 5\\nSkipping line 191683: expected 2 fields, saw 5\\nSkipping line 191988: expected 2 fields, saw 5\\nSkipping line 195450: expected 2 fields, saw 5\\nSkipping line 195754: expected 2 fields, saw 5\\nSkipping line 197124: expected 2 fields, saw 5\\nSkipping line 199263: expected 2 fields, saw 5\\nSkipping line 202603: expected 2 fields, saw 5\\nSkipping line 209960: expected 2 fields, saw 5\\nSkipping line 213218: expected 2 fields, saw 5\\nSkipping line 217060: expected 2 fields, saw 5\\nSkipping line 220121: expected 2 fields, saw 5\\nSkipping line 223518: expected 2 fields, saw 5\\nSkipping line 226293: expected 2 fields, saw 5\\nSkipping line 227035: expected 2 fields, saw 7\\nSkipping line 227341: expected 2 fields, saw 5\\nSkipping line 227808: expected 2 fields, saw 5\\nSkipping line 228516: expected 2 fields, saw 5\\nSkipping line 228733: expected 2 fields, saw 5\\nSkipping line 232043: expected 2 fields, saw 5\\nSkipping line 232426: expected 2 fields, saw 5\\nSkipping line 234490: expected 2 fields, saw 5\\nSkipping line 239626: expected 2 fields, saw 5\\nSkipping line 240461: expected 2 fields, saw 5\\nSkipping line 244518: expected 2 fields, saw 5\\nSkipping line 245395: expected 2 fields, saw 5\\nSkipping line 246168: expected 2 fields, saw 5\\nSkipping line 246655: expected 2 fields, saw 5\\nSkipping line 246752: expected 2 fields, saw 5\\nSkipping line 247189: expected 2 fields, saw 5\\nSkipping line 250276: expected 2 fields, saw 5\\nSkipping line 255327: expected 2 fields, saw 5\\nSkipping line 257094: expected 2 fields, saw 5\\n'\n",
      "b'Skipping line 264626: expected 2 fields, saw 5\\nSkipping line 265028: expected 2 fields, saw 5\\nSkipping line 269150: expected 2 fields, saw 5\\nSkipping line 271360: expected 2 fields, saw 5\\nSkipping line 273975: expected 2 fields, saw 5\\nSkipping line 274742: expected 2 fields, saw 5\\nSkipping line 276227: expected 2 fields, saw 5\\nSkipping line 279807: expected 2 fields, saw 5\\nSkipping line 283425: expected 2 fields, saw 5\\nSkipping line 287468: expected 2 fields, saw 5\\nSkipping line 292995: expected 2 fields, saw 5\\nSkipping line 293496: expected 2 fields, saw 5\\nSkipping line 293735: expected 2 fields, saw 5\\nSkipping line 295060: expected 2 fields, saw 5\\nSkipping line 296643: expected 2 fields, saw 5\\nSkipping line 296848: expected 2 fields, saw 5\\nSkipping line 308926: expected 2 fields, saw 5\\nSkipping line 310360: expected 2 fields, saw 5\\nSkipping line 317004: expected 2 fields, saw 5\\nSkipping line 318207: expected 2 fields, saw 5\\nSkipping line 331783: expected 2 fields, saw 5\\nSkipping line 333864: expected 2 fields, saw 5\\nSkipping line 335958: expected 2 fields, saw 5\\nSkipping line 336290: expected 2 fields, saw 5\\nSkipping line 343526: expected 2 fields, saw 5\\nSkipping line 343857: expected 2 fields, saw 5\\nSkipping line 344059: expected 2 fields, saw 5\\nSkipping line 348691: expected 2 fields, saw 5\\nSkipping line 353446: expected 2 fields, saw 5\\nSkipping line 357073: expected 2 fields, saw 5\\nSkipping line 359753: expected 2 fields, saw 5\\nSkipping line 359974: expected 2 fields, saw 5\\nSkipping line 366534: expected 2 fields, saw 5\\nSkipping line 369514: expected 2 fields, saw 5\\nSkipping line 377759: expected 2 fields, saw 5\\nSkipping line 379327: expected 2 fields, saw 5\\nSkipping line 380769: expected 2 fields, saw 5\\nSkipping line 381073: expected 2 fields, saw 5\\nSkipping line 381489: expected 2 fields, saw 5\\nSkipping line 386304: expected 2 fields, saw 5\\nSkipping line 387635: expected 2 fields, saw 5\\nSkipping line 389613: expected 2 fields, saw 5\\nSkipping line 392604: expected 2 fields, saw 5\\nSkipping line 393184: expected 2 fields, saw 5\\nSkipping line 395530: expected 2 fields, saw 5\\nSkipping line 396939: expected 2 fields, saw 5\\nSkipping line 397385: expected 2 fields, saw 5\\nSkipping line 397509: expected 2 fields, saw 5\\nSkipping line 402902: expected 2 fields, saw 5\\nSkipping line 405187: expected 2 fields, saw 5\\nSkipping line 408412: expected 2 fields, saw 5\\nSkipping line 419423: expected 2 fields, saw 5\\nSkipping line 420962: expected 2 fields, saw 5\\nSkipping line 425965: expected 2 fields, saw 5\\nSkipping line 427496: expected 2 fields, saw 5\\nSkipping line 438881: expected 2 fields, saw 5\\nSkipping line 439776: expected 2 fields, saw 5\\nSkipping line 440345: expected 2 fields, saw 5\\nSkipping line 445507: expected 2 fields, saw 5\\nSkipping line 445548: expected 2 fields, saw 5\\nSkipping line 447184: expected 2 fields, saw 5\\nSkipping line 448603: expected 2 fields, saw 5\\nSkipping line 451732: expected 2 fields, saw 5\\nSkipping line 458249: expected 2 fields, saw 5\\nSkipping line 460274: expected 2 fields, saw 5\\nSkipping line 467630: expected 2 fields, saw 5\\nSkipping line 473961: expected 2 fields, saw 5\\nSkipping line 476281: expected 2 fields, saw 5\\nSkipping line 478010: expected 2 fields, saw 5\\nSkipping line 478322: expected 2 fields, saw 5\\nSkipping line 479999: expected 2 fields, saw 5\\nSkipping line 480898: expected 2 fields, saw 5\\nSkipping line 481688: expected 2 fields, saw 5\\nSkipping line 485193: expected 2 fields, saw 5\\nSkipping line 485519: expected 2 fields, saw 5\\nSkipping line 486000: expected 2 fields, saw 5\\nSkipping line 489063: expected 2 fields, saw 5\\nSkipping line 494525: expected 2 fields, saw 5\\nSkipping line 495009: expected 2 fields, saw 5\\nSkipping line 501954: expected 2 fields, saw 5\\nSkipping line 508035: expected 2 fields, saw 5\\nSkipping line 508828: expected 2 fields, saw 5\\nSkipping line 509833: expected 2 fields, saw 5\\nSkipping line 510410: expected 2 fields, saw 5\\nSkipping line 518229: expected 2 fields, saw 5\\nSkipping line 520302: expected 2 fields, saw 5\\nSkipping line 520340: expected 2 fields, saw 5\\n'\n"
     ]
    },
    {
     "name": "stderr",
     "output_type": "stream",
     "text": [
      "b'Skipping line 525174: expected 2 fields, saw 5\\nSkipping line 526251: expected 2 fields, saw 5\\nSkipping line 529611: expected 2 fields, saw 5\\nSkipping line 531398: expected 2 fields, saw 5\\nSkipping line 534146: expected 2 fields, saw 5\\nSkipping line 544954: expected 2 fields, saw 5\\nSkipping line 553002: expected 2 fields, saw 5\\nSkipping line 553883: expected 2 fields, saw 5\\nSkipping line 553887: expected 2 fields, saw 5\\nSkipping line 553915: expected 2 fields, saw 5\\nSkipping line 554172: expected 2 fields, saw 5\\nSkipping line 563534: expected 2 fields, saw 5\\nSkipping line 565191: expected 2 fields, saw 5\\nSkipping line 574108: expected 2 fields, saw 5\\nSkipping line 574412: expected 2 fields, saw 5\\nSkipping line 575985: expected 2 fields, saw 5\\nSkipping line 580091: expected 2 fields, saw 5\\nSkipping line 582682: expected 2 fields, saw 5\\nSkipping line 585885: expected 2 fields, saw 5\\nSkipping line 590171: expected 2 fields, saw 5\\nSkipping line 591924: expected 2 fields, saw 5\\nSkipping line 592515: expected 2 fields, saw 5\\nSkipping line 593888: expected 2 fields, saw 5\\nSkipping line 596245: expected 2 fields, saw 5\\nSkipping line 607344: expected 2 fields, saw 5\\nSkipping line 607633: expected 2 fields, saw 5\\nSkipping line 610939: expected 2 fields, saw 5\\nSkipping line 613638: expected 2 fields, saw 5\\nSkipping line 615643: expected 2 fields, saw 5\\nSkipping line 615901: expected 2 fields, saw 5\\nSkipping line 617389: expected 2 fields, saw 5\\nSkipping line 634641: expected 2 fields, saw 5\\nSkipping line 635755: expected 2 fields, saw 5\\nSkipping line 646243: expected 2 fields, saw 5\\nSkipping line 647165: expected 2 fields, saw 5\\nSkipping line 648610: expected 2 fields, saw 5\\nSkipping line 648772: expected 2 fields, saw 5\\nSkipping line 651833: expected 2 fields, saw 5\\nSkipping line 653663: expected 2 fields, saw 5\\nSkipping line 656233: expected 2 fields, saw 5\\nSkipping line 656694: expected 2 fields, saw 5\\nSkipping line 659783: expected 2 fields, saw 5\\nSkipping line 660478: expected 2 fields, saw 5\\nSkipping line 661133: expected 2 fields, saw 5\\nSkipping line 661736: expected 2 fields, saw 5\\nSkipping line 669827: expected 2 fields, saw 5\\n'\n"
     ]
    }
   ],
   "source": [
    "#importamos el dataset a utilizar de drive\n",
    "df = pd.read_csv('passwords.csv', error_bad_lines=False)"
   ]
  },
  {
   "cell_type": "code",
   "execution_count": 6,
   "metadata": {
    "colab": {
     "base_uri": "https://localhost:8080/"
    },
    "id": "QgfocTfHHqoa",
    "outputId": "78e778df-0e0d-44f1-c553-4c6cc5ce9de2"
   },
   "outputs": [
    {
     "data": {
      "text/plain": [
       "password    object\n",
       "strength     int64\n",
       "dtype: object"
      ]
     },
     "execution_count": 6,
     "metadata": {},
     "output_type": "execute_result"
    }
   ],
   "source": [
    "df.dtypes"
   ]
  },
  {
   "cell_type": "code",
   "execution_count": 7,
   "metadata": {
    "colab": {
     "base_uri": "https://localhost:8080/"
    },
    "id": "bTh2ZbLSI0cc",
    "outputId": "682e7b8c-84c8-40c6-cb9b-865a5c24507a"
   },
   "outputs": [
    {
     "data": {
      "text/plain": [
       "RangeIndex(start=0, stop=669640, step=1)"
      ]
     },
     "execution_count": 7,
     "metadata": {},
     "output_type": "execute_result"
    }
   ],
   "source": [
    "df.index"
   ]
  },
  {
   "cell_type": "code",
   "execution_count": 8,
   "metadata": {
    "colab": {
     "base_uri": "https://localhost:8080/",
     "height": 197
    },
    "id": "ZTwwQdQpJMk-",
    "outputId": "19822905-4dd2-4747-96aa-4f5e78ee4ae1"
   },
   "outputs": [
    {
     "data": {
      "text/html": [
       "<div>\n",
       "<style scoped>\n",
       "    .dataframe tbody tr th:only-of-type {\n",
       "        vertical-align: middle;\n",
       "    }\n",
       "\n",
       "    .dataframe tbody tr th {\n",
       "        vertical-align: top;\n",
       "    }\n",
       "\n",
       "    .dataframe thead th {\n",
       "        text-align: right;\n",
       "    }\n",
       "</style>\n",
       "<table border=\"1\" class=\"dataframe\">\n",
       "  <thead>\n",
       "    <tr style=\"text-align: right;\">\n",
       "      <th></th>\n",
       "      <th>password</th>\n",
       "      <th>strength</th>\n",
       "    </tr>\n",
       "  </thead>\n",
       "  <tbody>\n",
       "    <tr>\n",
       "      <th>0</th>\n",
       "      <td>kzde5577</td>\n",
       "      <td>1</td>\n",
       "    </tr>\n",
       "    <tr>\n",
       "      <th>1</th>\n",
       "      <td>kino3434</td>\n",
       "      <td>1</td>\n",
       "    </tr>\n",
       "    <tr>\n",
       "      <th>2</th>\n",
       "      <td>visi7k1yr</td>\n",
       "      <td>1</td>\n",
       "    </tr>\n",
       "    <tr>\n",
       "      <th>3</th>\n",
       "      <td>megzy123</td>\n",
       "      <td>1</td>\n",
       "    </tr>\n",
       "    <tr>\n",
       "      <th>4</th>\n",
       "      <td>lamborghin1</td>\n",
       "      <td>1</td>\n",
       "    </tr>\n",
       "  </tbody>\n",
       "</table>\n",
       "</div>"
      ],
      "text/plain": [
       "      password  strength\n",
       "0     kzde5577         1\n",
       "1     kino3434         1\n",
       "2    visi7k1yr         1\n",
       "3     megzy123         1\n",
       "4  lamborghin1         1"
      ]
     },
     "execution_count": 8,
     "metadata": {},
     "output_type": "execute_result"
    }
   ],
   "source": [
    "df.head()"
   ]
  },
  {
   "cell_type": "code",
   "execution_count": 9,
   "metadata": {
    "id": "hWBmbcT_frkq"
   },
   "outputs": [],
   "source": [
    "#para aglizar el proceso, seleccionamos solamente los primeros 10000 valores\n",
    "df = df[0:10000]"
   ]
  },
  {
   "cell_type": "markdown",
   "metadata": {
    "id": "qQdhGTRIJkOp"
   },
   "source": [
    "Para poder analizar esto mediante una red neuronal con un aprendizaje aceptable, se necesitan al menos 5 features que evaluar. \n",
    "\n",
    "A partir de la columna password, se crearan 5 parametros numericos segun las características de cada contraseña:\n",
    "\n",
    "password_length : número de caracteres.\n",
    "\n",
    "password_letters : número de letras en la contraseña.\n",
    "\n",
    "password_numbers : número de números en la contraseña.\n",
    "\n",
    "password_mayus : número de letras mayusculas en la contraseña.\n",
    "\n",
    "password_minus : número de letras minusculas en la contraseña.\n",
    "\n",
    "password_vowels : número de vocales en la contraseña.\n"
   ]
  },
  {
   "cell_type": "code",
   "execution_count": 10,
   "metadata": {
    "id": "u-LRCXUINMOv"
   },
   "outputs": [],
   "source": [
    "#creamos vector de vocales\n",
    "vowels = ['a','e','i','o','u']"
   ]
  },
  {
   "cell_type": "code",
   "execution_count": 11,
   "metadata": {
    "id": "C-pt1Sb2WFHN"
   },
   "outputs": [],
   "source": [
    "#creamos arreglos que almacenen valores de caracteristicas a analizar en cada contraseña\n",
    "pass_mayus = [] #num. de mayusculas\n",
    "pass_minus = [] #num. de minusculas\n",
    "pass_vow   = [] #num. de vocales\n",
    "\n",
    "for i in range(len(df)):\n",
    "  password = str(df['password'][i])\n",
    "  pass_mayus.append(sum(1 for c in password if c.isupper()))\n",
    "  pass_minus.append(sum(1 for c in password if c.islower()))\n",
    "  pass_vow.append(sum(password.count(c) for c in vowels ))"
   ]
  },
  {
   "cell_type": "code",
   "execution_count": 12,
   "metadata": {
    "id": "mO9Y8yUfJfV4"
   },
   "outputs": [],
   "source": [
    "#creamos columnas a partir de las caracteristicas de la columna password\n",
    "df['password_length'] = df['password'].str.len()       \n",
    "df['password_letters'] = abs(df['password'].str.len() - df['password'].str.count('\\d'))             \n",
    "df['password_numbers'] = df['password'].str.count('\\d')    \n",
    "df['password_mayus'] = pass_mayus\n",
    "df['password_minus'] = pass_minus\n",
    "df['password_vowels'] = pass_vow"
   ]
  },
  {
   "cell_type": "code",
   "execution_count": 13,
   "metadata": {
    "colab": {
     "base_uri": "https://localhost:8080/",
     "height": 197
    },
    "id": "VtpNZBaJLnX9",
    "outputId": "9d36e60e-c6d3-4c15-a994-8da497676acb"
   },
   "outputs": [
    {
     "data": {
      "text/html": [
       "<div>\n",
       "<style scoped>\n",
       "    .dataframe tbody tr th:only-of-type {\n",
       "        vertical-align: middle;\n",
       "    }\n",
       "\n",
       "    .dataframe tbody tr th {\n",
       "        vertical-align: top;\n",
       "    }\n",
       "\n",
       "    .dataframe thead th {\n",
       "        text-align: right;\n",
       "    }\n",
       "</style>\n",
       "<table border=\"1\" class=\"dataframe\">\n",
       "  <thead>\n",
       "    <tr style=\"text-align: right;\">\n",
       "      <th></th>\n",
       "      <th>password</th>\n",
       "      <th>strength</th>\n",
       "      <th>password_length</th>\n",
       "      <th>password_letters</th>\n",
       "      <th>password_numbers</th>\n",
       "      <th>password_mayus</th>\n",
       "      <th>password_minus</th>\n",
       "      <th>password_vowels</th>\n",
       "    </tr>\n",
       "  </thead>\n",
       "  <tbody>\n",
       "    <tr>\n",
       "      <th>0</th>\n",
       "      <td>kzde5577</td>\n",
       "      <td>1</td>\n",
       "      <td>8</td>\n",
       "      <td>4</td>\n",
       "      <td>4</td>\n",
       "      <td>0</td>\n",
       "      <td>4</td>\n",
       "      <td>1</td>\n",
       "    </tr>\n",
       "    <tr>\n",
       "      <th>1</th>\n",
       "      <td>kino3434</td>\n",
       "      <td>1</td>\n",
       "      <td>8</td>\n",
       "      <td>4</td>\n",
       "      <td>4</td>\n",
       "      <td>0</td>\n",
       "      <td>4</td>\n",
       "      <td>2</td>\n",
       "    </tr>\n",
       "    <tr>\n",
       "      <th>2</th>\n",
       "      <td>visi7k1yr</td>\n",
       "      <td>1</td>\n",
       "      <td>9</td>\n",
       "      <td>7</td>\n",
       "      <td>2</td>\n",
       "      <td>0</td>\n",
       "      <td>7</td>\n",
       "      <td>2</td>\n",
       "    </tr>\n",
       "    <tr>\n",
       "      <th>3</th>\n",
       "      <td>megzy123</td>\n",
       "      <td>1</td>\n",
       "      <td>8</td>\n",
       "      <td>5</td>\n",
       "      <td>3</td>\n",
       "      <td>0</td>\n",
       "      <td>5</td>\n",
       "      <td>1</td>\n",
       "    </tr>\n",
       "    <tr>\n",
       "      <th>4</th>\n",
       "      <td>lamborghin1</td>\n",
       "      <td>1</td>\n",
       "      <td>11</td>\n",
       "      <td>10</td>\n",
       "      <td>1</td>\n",
       "      <td>0</td>\n",
       "      <td>10</td>\n",
       "      <td>3</td>\n",
       "    </tr>\n",
       "  </tbody>\n",
       "</table>\n",
       "</div>"
      ],
      "text/plain": [
       "      password  strength  password_length  password_letters  password_numbers  \\\n",
       "0     kzde5577         1                8                 4                 4   \n",
       "1     kino3434         1                8                 4                 4   \n",
       "2    visi7k1yr         1                9                 7                 2   \n",
       "3     megzy123         1                8                 5                 3   \n",
       "4  lamborghin1         1               11                10                 1   \n",
       "\n",
       "   password_mayus  password_minus  password_vowels  \n",
       "0               0               4                1  \n",
       "1               0               4                2  \n",
       "2               0               7                2  \n",
       "3               0               5                1  \n",
       "4               0              10                3  "
      ]
     },
     "execution_count": 13,
     "metadata": {},
     "output_type": "execute_result"
    }
   ],
   "source": [
    "df.head()"
   ]
  },
  {
   "cell_type": "code",
   "execution_count": 14,
   "metadata": {
    "colab": {
     "base_uri": "https://localhost:8080/",
     "height": 355
    },
    "id": "zAo3vp_pMGFQ",
    "outputId": "5b27a8d2-4e1b-4d15-daa9-b32d9c41ca4b"
   },
   "outputs": [
    {
     "data": {
      "image/png": "[encoded data removed]",
      "text/plain": [
       "<Figure size 432x288 with 2 Axes>"
      ]
     },
     "metadata": {
      "needs_background": "light"
     },
     "output_type": "display_data"
    }
   ],
   "source": [
    "#se genera un grafico de correlaciones para observar la relacion entre las variables y deducir si es posible eliminar algunas sin perder informacion\n",
    "fig = sns.heatmap(df.corr(),annot=True,cmap='RdYlGn',linewidths=0.1) #df_train.corr()-->correlation matrix"
   ]
  },
  {
   "cell_type": "code",
   "execution_count": 15,
   "metadata": {
    "id": "4qZ3IUBfaprr"
   },
   "outputs": [],
   "source": [
    "#eliminamos el parametros de baja correlacion\n",
    "#cols = ['password_vowels']\n",
    "\n",
    "\n",
    "#df = df.drop(cols, axis=1)"
   ]
  },
  {
   "cell_type": "code",
   "execution_count": 16,
   "metadata": {
    "id": "QSOYOHykbimd"
   },
   "outputs": [],
   "source": [
    "#se separan los datos en valores de entrada (features) y los valores de salida (para este caso, el diagnositco)\n",
    "X_df = df                                                     #features\n",
    "X_df = X_df.drop(['strength','password'], axis=1)                        #eliminamos el valor de salida de las features\n",
    "y_df = df['strength']           #vector columna de diagnostico (valor de salida)"
   ]
  },
  {
   "cell_type": "code",
   "execution_count": 17,
   "metadata": {
    "colab": {
     "base_uri": "https://localhost:8080/",
     "height": 215
    },
    "id": "204CFsrGby0z",
    "outputId": "cbe73bd5-4280-411c-e50c-3eb2cec6502a"
   },
   "outputs": [
    {
     "name": "stdout",
     "output_type": "stream",
     "text": [
      "[1 2 0]\n"
     ]
    },
    {
     "data": {
      "text/html": [
       "<div>\n",
       "<style scoped>\n",
       "    .dataframe tbody tr th:only-of-type {\n",
       "        vertical-align: middle;\n",
       "    }\n",
       "\n",
       "    .dataframe tbody tr th {\n",
       "        vertical-align: top;\n",
       "    }\n",
       "\n",
       "    .dataframe thead th {\n",
       "        text-align: right;\n",
       "    }\n",
       "</style>\n",
       "<table border=\"1\" class=\"dataframe\">\n",
       "  <thead>\n",
       "    <tr style=\"text-align: right;\">\n",
       "      <th></th>\n",
       "      <th>password_length</th>\n",
       "      <th>password_letters</th>\n",
       "      <th>password_numbers</th>\n",
       "      <th>password_mayus</th>\n",
       "      <th>password_minus</th>\n",
       "      <th>password_vowels</th>\n",
       "    </tr>\n",
       "  </thead>\n",
       "  <tbody>\n",
       "    <tr>\n",
       "      <th>0</th>\n",
       "      <td>8</td>\n",
       "      <td>4</td>\n",
       "      <td>4</td>\n",
       "      <td>0</td>\n",
       "      <td>4</td>\n",
       "      <td>1</td>\n",
       "    </tr>\n",
       "    <tr>\n",
       "      <th>1</th>\n",
       "      <td>8</td>\n",
       "      <td>4</td>\n",
       "      <td>4</td>\n",
       "      <td>0</td>\n",
       "      <td>4</td>\n",
       "      <td>2</td>\n",
       "    </tr>\n",
       "    <tr>\n",
       "      <th>2</th>\n",
       "      <td>9</td>\n",
       "      <td>7</td>\n",
       "      <td>2</td>\n",
       "      <td>0</td>\n",
       "      <td>7</td>\n",
       "      <td>2</td>\n",
       "    </tr>\n",
       "    <tr>\n",
       "      <th>3</th>\n",
       "      <td>8</td>\n",
       "      <td>5</td>\n",
       "      <td>3</td>\n",
       "      <td>0</td>\n",
       "      <td>5</td>\n",
       "      <td>1</td>\n",
       "    </tr>\n",
       "    <tr>\n",
       "      <th>4</th>\n",
       "      <td>11</td>\n",
       "      <td>10</td>\n",
       "      <td>1</td>\n",
       "      <td>0</td>\n",
       "      <td>10</td>\n",
       "      <td>3</td>\n",
       "    </tr>\n",
       "  </tbody>\n",
       "</table>\n",
       "</div>"
      ],
      "text/plain": [
       "   password_length  password_letters  password_numbers  password_mayus  \\\n",
       "0                8                 4                 4               0   \n",
       "1                8                 4                 4               0   \n",
       "2                9                 7                 2               0   \n",
       "3                8                 5                 3               0   \n",
       "4               11                10                 1               0   \n",
       "\n",
       "   password_minus  password_vowels  \n",
       "0               4                1  \n",
       "1               4                2  \n",
       "2               7                2  \n",
       "3               5                1  \n",
       "4              10                3  "
      ]
     },
     "execution_count": 17,
     "metadata": {},
     "output_type": "execute_result"
    }
   ],
   "source": [
    "print(y_df.unique())\n",
    "X_df.head()"
   ]
  },
  {
   "cell_type": "code",
   "execution_count": 19,
   "metadata": {
    "colab": {
     "base_uri": "https://localhost:8080/"
    },
    "id": "gQuZIBsJb4lT",
    "outputId": "ebf15763-0df8-4a42-db51-d97a134c26f4"
   },
   "outputs": [
    {
     "name": "stdout",
     "output_type": "stream",
     "text": [
      "(2000, 6)\n",
      "(8000, 6)\n",
      "(2000, 1)\n",
      "(8000, 1)\n"
     ]
    }
   ],
   "source": [
    "#se utiliza la funcion train_test_split para separar los datos aleatoriamente en cuatro sets: dosde entrenamiento (70%) y otros dos de prueba (30%), tanto features como valores de salida\n",
    "\n",
    "x_tr, x_ts, y_tr, y_ts = train_test_split(X_df, y_df, test_size = 0.2, random_state = 42)   #generacion de arreglos aleatorios de features y valores de salida de entrenamiento y de prueba\n",
    "\n",
    "y_tr = np.asarray(y_tr, dtype = np.int)   #cambiamos las variables al tipo numpy int\n",
    "y_ts = np.asarray(y_ts, dtype = np.int)   \n",
    "\n",
    "y_tr = np.reshape(y_tr, [len(y_tr),1])          #reacomodamos el arreglo según el numero de valores en el dataset\n",
    "y_ts = np.reshape(y_ts, [len(y_ts),1])          \n",
    "\n",
    "print(x_ts.shape)\n",
    "print(x_tr.shape)\n",
    "print(y_ts.shape)\n",
    "print(y_tr.shape)"
   ]
  },
  {
   "cell_type": "code",
   "execution_count": 20,
   "metadata": {},
   "outputs": [],
   "source": [
    "# procedimiento para convertir las categorias a ONE-HOT encoding   (ejemplo  3 -> (0,0,1))\n",
    "from keras.utils import np_utils\n",
    "n_classes = 3\n",
    "y_tr = np_utils.to_categorical(y_tr,n_classes)  \n",
    "y_ts = np_utils.to_categorical(y_ts,n_classes)"
   ]
  },
  {
   "cell_type": "code",
   "execution_count": 21,
   "metadata": {},
   "outputs": [
    {
     "data": {
      "text/plain": [
       "array([[0., 1., 0.],\n",
       "       [0., 1., 0.],\n",
       "       [0., 1., 0.],\n",
       "       ...,\n",
       "       [0., 1., 0.],\n",
       "       [0., 1., 0.],\n",
       "       [0., 1., 0.]], dtype=float32)"
      ]
     },
     "execution_count": 21,
     "metadata": {},
     "output_type": "execute_result"
    }
   ],
   "source": [
    "y_tr.shape\n",
    "y_tr"
   ]
  },
  {
   "cell_type": "code",
   "execution_count": 22,
   "metadata": {
    "colab": {
     "base_uri": "https://localhost:8080/"
    },
    "id": "JrKKasLRcPeR",
    "outputId": "2bba00b4-6dee-45ae-fb0e-dc2aea95aeec"
   },
   "outputs": [
    {
     "name": "stdout",
     "output_type": "stream",
     "text": [
      "Training Data : (8000, 6)\n",
      "Testing Data : (2000, 6)\n"
     ]
    }
   ],
   "source": [
    "# Training Data\n",
    "x_tr = MinMaxScaler().fit_transform(x_tr) #reescalamos el dataframe de valores de entrenamiento como un arreglo de valores entre 0 y 1    \n",
    "y_tr = MinMaxScaler().fit_transform(y_tr) #reescalamos el dataframe de valores de entrenamiento como un arreglo de valores entre 0 y 1             \n",
    "print(\"Training Data :\", x_tr.shape)\n",
    "\n",
    "# Testing Data\n",
    "x_ts = MinMaxScaler().fit_transform(x_ts) #reescalamos el dataframe de valores de prueba como un arreglo de valores entre 0 y 1   \n",
    "y_ts = MinMaxScaler().fit_transform(y_ts) #reescalamos el dataframe de valores de prueba como un arreglo de valores entre 0 y 1  \n",
    "print(\"Testing Data :\", x_ts.shape)"
   ]
  },
  {
   "cell_type": "code",
   "execution_count": 23,
   "metadata": {},
   "outputs": [
    {
     "data": {
      "text/plain": [
       "array([[0.16129032, 0.09677419, 0.375     , 0.        , 0.13043478,\n",
       "        0.        ],\n",
       "       [0.25806452, 0.12903226, 0.5       , 0.        , 0.17391304,\n",
       "        0.11111111],\n",
       "       [0.25806452, 0.35483871, 0.0625    , 0.        , 0.47826087,\n",
       "        0.44444444],\n",
       "       ...,\n",
       "       [0.29032258, 0.35483871, 0.125     , 0.        , 0.47826087,\n",
       "        0.55555556],\n",
       "       [0.16129032, 0.22580645, 0.125     , 0.        , 0.30434783,\n",
       "        0.33333333],\n",
       "       [0.19354839, 0.12903226, 0.375     , 0.        , 0.17391304,\n",
       "        0.22222222]])"
      ]
     },
     "execution_count": 23,
     "metadata": {},
     "output_type": "execute_result"
    }
   ],
   "source": [
    "x_tr"
   ]
  },
  {
   "cell_type": "code",
   "execution_count": 24,
   "metadata": {
    "id": "hioKYc1sX8q_"
   },
   "outputs": [
    {
     "name": "stdout",
     "output_type": "stream",
     "text": [
      "Model: \"sequential\"\n",
      "_________________________________________________________________\n",
      "Layer (type)                 Output Shape              Param #   \n",
      "=================================================================\n",
      "dense (Dense)                (None, 20)                140       \n",
      "_________________________________________________________________\n",
      "dropout (Dropout)            (None, 20)                0         \n",
      "_________________________________________________________________\n",
      "dense_1 (Dense)              (None, 10)                210       \n",
      "_________________________________________________________________\n",
      "dense_2 (Dense)              (None, 3)                 33        \n",
      "=================================================================\n",
      "Total params: 383\n",
      "Trainable params: 383\n",
      "Non-trainable params: 0\n",
      "_________________________________________________________________\n",
      "Epoch 1/200\n",
      "  1/250 [..............................] - ETA: 0s - loss: 1.0383 - accuracy: 0.5000WARNING:tensorflow:Callbacks method `on_train_batch_end` is slow compared to the batch time (batch time: 0.0000s vs `on_train_batch_end` time: 0.0010s). Check your callbacks.\n",
      "250/250 [==============================] - 0s 2ms/step - loss: 0.8218 - accuracy: 0.7120 - val_loss: 0.7549 - val_accuracy: 0.7395\n",
      "Epoch 2/200\n",
      "250/250 [==============================] - 0s 887us/step - loss: 0.7773 - accuracy: 0.7364 - val_loss: 0.7458 - val_accuracy: 0.7395\n",
      "Epoch 3/200\n",
      "250/250 [==============================] - 0s 750us/step - loss: 0.7532 - accuracy: 0.7368 - val_loss: 0.7378 - val_accuracy: 0.7395\n",
      "Epoch 4/200\n",
      "250/250 [==============================] - 0s 713us/step - loss: 0.7292 - accuracy: 0.7374 - val_loss: 0.7051 - val_accuracy: 0.7395\n",
      "Epoch 5/200\n",
      "250/250 [==============================] - 0s 734us/step - loss: 0.6991 - accuracy: 0.7420 - val_loss: 0.6768 - val_accuracy: 0.7400\n",
      "Epoch 6/200\n",
      "250/250 [==============================] - 0s 695us/step - loss: 0.6582 - accuracy: 0.7563 - val_loss: 0.6591 - val_accuracy: 0.7400\n",
      "Epoch 7/200\n",
      "250/250 [==============================] - 0s 706us/step - loss: 0.6138 - accuracy: 0.7771 - val_loss: 0.6396 - val_accuracy: 0.7400\n",
      "Epoch 8/200\n",
      "250/250 [==============================] - 0s 706us/step - loss: 0.5795 - accuracy: 0.7906 - val_loss: 0.6674 - val_accuracy: 0.7400\n",
      "Epoch 9/200\n",
      "250/250 [==============================] - 0s 702us/step - loss: 0.5530 - accuracy: 0.8004 - val_loss: 0.6544 - val_accuracy: 0.7400\n",
      "Epoch 10/200\n",
      "250/250 [==============================] - 0s 814us/step - loss: 0.5279 - accuracy: 0.8085 - val_loss: 0.6450 - val_accuracy: 0.7405\n",
      "Epoch 11/200\n",
      "250/250 [==============================] - 0s 762us/step - loss: 0.5106 - accuracy: 0.8120 - val_loss: 0.6473 - val_accuracy: 0.7405\n",
      "Epoch 12/200\n",
      "250/250 [==============================] - 0s 776us/step - loss: 0.4883 - accuracy: 0.8190 - val_loss: 0.6424 - val_accuracy: 0.7405\n",
      "Epoch 13/200\n",
      "250/250 [==============================] - 0s 789us/step - loss: 0.4690 - accuracy: 0.8257 - val_loss: 0.6592 - val_accuracy: 0.7405\n",
      "Epoch 14/200\n",
      "250/250 [==============================] - 0s 706us/step - loss: 0.4628 - accuracy: 0.8274 - val_loss: 0.6289 - val_accuracy: 0.7405\n",
      "Epoch 15/200\n",
      "250/250 [==============================] - 0s 762us/step - loss: 0.4375 - accuracy: 0.8307 - val_loss: 0.6390 - val_accuracy: 0.7405\n",
      "Epoch 16/200\n",
      "250/250 [==============================] - 0s 754us/step - loss: 0.4214 - accuracy: 0.8350 - val_loss: 0.6624 - val_accuracy: 0.7405\n",
      "Epoch 17/200\n",
      "250/250 [==============================] - 0s 766us/step - loss: 0.4100 - accuracy: 0.8388 - val_loss: 0.6712 - val_accuracy: 0.7475\n",
      "Epoch 18/200\n",
      "250/250 [==============================] - 0s 859us/step - loss: 0.3908 - accuracy: 0.8510 - val_loss: 0.6544 - val_accuracy: 0.8040\n",
      "Epoch 19/200\n",
      "250/250 [==============================] - 0s 751us/step - loss: 0.3812 - accuracy: 0.8535 - val_loss: 0.7157 - val_accuracy: 0.8815\n",
      "Epoch 20/200\n",
      "250/250 [==============================] - 0s 808us/step - loss: 0.3659 - accuracy: 0.8601 - val_loss: 0.7466 - val_accuracy: 0.8470\n",
      "Epoch 21/200\n",
      "250/250 [==============================] - 0s 827us/step - loss: 0.3524 - accuracy: 0.8656 - val_loss: 0.7164 - val_accuracy: 0.8310\n",
      "Epoch 22/200\n",
      "250/250 [==============================] - 0s 701us/step - loss: 0.3435 - accuracy: 0.8701 - val_loss: 0.7241 - val_accuracy: 0.7930\n",
      "Epoch 23/200\n",
      "250/250 [==============================] - 0s 736us/step - loss: 0.3356 - accuracy: 0.8711 - val_loss: 0.7586 - val_accuracy: 0.7615\n",
      "Epoch 24/200\n",
      "250/250 [==============================] - 0s 726us/step - loss: 0.3298 - accuracy: 0.8739 - val_loss: 0.7540 - val_accuracy: 0.7230\n",
      "Epoch 25/200\n",
      "250/250 [==============================] - 0s 742us/step - loss: 0.3141 - accuracy: 0.8774 - val_loss: 0.7961 - val_accuracy: 0.7025\n",
      "Epoch 26/200\n",
      "250/250 [==============================] - 0s 710us/step - loss: 0.3004 - accuracy: 0.8800 - val_loss: 0.8556 - val_accuracy: 0.7035\n",
      "Epoch 27/200\n",
      "250/250 [==============================] - 0s 714us/step - loss: 0.2957 - accuracy: 0.8869 - val_loss: 0.8276 - val_accuracy: 0.7040\n",
      "Epoch 28/200\n",
      "250/250 [==============================] - 0s 750us/step - loss: 0.2919 - accuracy: 0.8895 - val_loss: 0.8836 - val_accuracy: 0.6095\n",
      "Epoch 29/200\n",
      "250/250 [==============================] - 0s 694us/step - loss: 0.2765 - accuracy: 0.8969 - val_loss: 0.9470 - val_accuracy: 0.6040\n",
      "Epoch 30/200\n",
      "250/250 [==============================] - 0s 701us/step - loss: 0.2658 - accuracy: 0.8990 - val_loss: 0.9559 - val_accuracy: 0.6040\n",
      "Epoch 31/200\n",
      "250/250 [==============================] - 0s 711us/step - loss: 0.2647 - accuracy: 0.9014 - val_loss: 0.9829 - val_accuracy: 0.5920\n",
      "Epoch 32/200\n",
      "250/250 [==============================] - 0s 726us/step - loss: 0.2550 - accuracy: 0.9031 - val_loss: 1.0669 - val_accuracy: 0.5365\n",
      "Epoch 33/200\n",
      "250/250 [==============================] - 0s 742us/step - loss: 0.2437 - accuracy: 0.9041 - val_loss: 1.0831 - val_accuracy: 0.5295\n",
      "Epoch 34/200\n",
      "250/250 [==============================] - 0s 718us/step - loss: 0.2399 - accuracy: 0.9016 - val_loss: 1.1511 - val_accuracy: 0.5080\n",
      "Epoch 35/200\n",
      "250/250 [==============================] - 0s 734us/step - loss: 0.2358 - accuracy: 0.9072 - val_loss: 1.2009 - val_accuracy: 0.5230\n",
      "Epoch 36/200\n",
      "250/250 [==============================] - 0s 717us/step - loss: 0.2296 - accuracy: 0.9107 - val_loss: 1.2485 - val_accuracy: 0.5000\n",
      "Epoch 37/200\n",
      "250/250 [==============================] - 0s 734us/step - loss: 0.2268 - accuracy: 0.9104 - val_loss: 1.2398 - val_accuracy: 0.5060\n",
      "Epoch 38/200\n",
      "250/250 [==============================] - 0s 778us/step - loss: 0.2209 - accuracy: 0.9178 - val_loss: 1.1807 - val_accuracy: 0.5315\n",
      "Epoch 39/200\n",
      "250/250 [==============================] - 0s 705us/step - loss: 0.2117 - accuracy: 0.9191 - val_loss: 1.2251 - val_accuracy: 0.5315\n",
      "Epoch 40/200\n",
      "250/250 [==============================] - 0s 730us/step - loss: 0.2166 - accuracy: 0.9184 - val_loss: 1.2628 - val_accuracy: 0.5220\n",
      "Epoch 41/200\n",
      "250/250 [==============================] - 0s 694us/step - loss: 0.1938 - accuracy: 0.9290 - val_loss: 1.4076 - val_accuracy: 0.5050\n",
      "Epoch 42/200\n",
      "250/250 [==============================] - 0s 778us/step - loss: 0.2051 - accuracy: 0.9208 - val_loss: 1.3951 - val_accuracy: 0.4990\n",
      "Epoch 43/200\n",
      "250/250 [==============================] - 0s 726us/step - loss: 0.1967 - accuracy: 0.9216 - val_loss: 1.3906 - val_accuracy: 0.4990\n",
      "Epoch 44/200\n",
      "250/250 [==============================] - 0s 766us/step - loss: 0.1878 - accuracy: 0.9301 - val_loss: 1.4500 - val_accuracy: 0.5020\n",
      "Epoch 45/200\n",
      "250/250 [==============================] - 0s 802us/step - loss: 0.1911 - accuracy: 0.9246 - val_loss: 1.5544 - val_accuracy: 0.4730\n",
      "Epoch 46/200\n",
      "250/250 [==============================] - 0s 697us/step - loss: 0.1936 - accuracy: 0.9255 - val_loss: 1.7240 - val_accuracy: 0.4440\n",
      "Epoch 47/200\n",
      "250/250 [==============================] - 0s 766us/step - loss: 0.1838 - accuracy: 0.9300 - val_loss: 1.5557 - val_accuracy: 0.4820\n",
      "Epoch 48/200\n",
      "250/250 [==============================] - 0s 794us/step - loss: 0.1752 - accuracy: 0.9283 - val_loss: 1.6273 - val_accuracy: 0.4815\n",
      "Epoch 49/200\n"
     ]
    },
    {
     "name": "stdout",
     "output_type": "stream",
     "text": [
      "250/250 [==============================] - 0s 850us/step - loss: 0.1729 - accuracy: 0.9326 - val_loss: 1.6008 - val_accuracy: 0.4970\n",
      "Epoch 50/200\n",
      "250/250 [==============================] - 0s 790us/step - loss: 0.1793 - accuracy: 0.9299 - val_loss: 1.7111 - val_accuracy: 0.4715\n",
      "Epoch 51/200\n",
      "250/250 [==============================] - 0s 876us/step - loss: 0.1760 - accuracy: 0.9329 - val_loss: 1.7602 - val_accuracy: 0.4445\n",
      "Epoch 52/200\n",
      "250/250 [==============================] - 0s 798us/step - loss: 0.1707 - accuracy: 0.9345 - val_loss: 1.6199 - val_accuracy: 0.5000\n",
      "Epoch 53/200\n",
      "250/250 [==============================] - 0s 772us/step - loss: 0.1636 - accuracy: 0.9381 - val_loss: 1.8183 - val_accuracy: 0.4460\n",
      "Epoch 54/200\n",
      "250/250 [==============================] - 0s 703us/step - loss: 0.1684 - accuracy: 0.9351 - val_loss: 1.7792 - val_accuracy: 0.4715\n",
      "Epoch 55/200\n",
      "250/250 [==============================] - 0s 698us/step - loss: 0.1542 - accuracy: 0.9421 - val_loss: 1.7914 - val_accuracy: 0.4725\n",
      "Epoch 56/200\n",
      "250/250 [==============================] - 0s 690us/step - loss: 0.1547 - accuracy: 0.9415 - val_loss: 1.9140 - val_accuracy: 0.4455\n",
      "Epoch 57/200\n",
      "250/250 [==============================] - 0s 746us/step - loss: 0.1507 - accuracy: 0.9436 - val_loss: 1.9516 - val_accuracy: 0.4440\n",
      "Epoch 58/200\n",
      "250/250 [==============================] - 0s 738us/step - loss: 0.1493 - accuracy: 0.9463 - val_loss: 1.9088 - val_accuracy: 0.4615\n",
      "Epoch 59/200\n",
      "250/250 [==============================] - 0s 734us/step - loss: 0.1475 - accuracy: 0.9434 - val_loss: 1.9075 - val_accuracy: 0.4615\n",
      "Epoch 60/200\n",
      "250/250 [==============================] - 0s 858us/step - loss: 0.1412 - accuracy: 0.9510 - val_loss: 1.8627 - val_accuracy: 0.4775\n",
      "Epoch 61/200\n",
      "250/250 [==============================] - 0s 778us/step - loss: 0.1460 - accuracy: 0.9438 - val_loss: 1.9298 - val_accuracy: 0.4665\n",
      "Epoch 62/200\n",
      "250/250 [==============================] - 0s 709us/step - loss: 0.1460 - accuracy: 0.9467 - val_loss: 2.1022 - val_accuracy: 0.4150\n",
      "Epoch 63/200\n",
      "250/250 [==============================] - 0s 714us/step - loss: 0.1422 - accuracy: 0.9470 - val_loss: 1.8840 - val_accuracy: 0.4895\n",
      "Epoch 64/200\n",
      "250/250 [==============================] - 0s 690us/step - loss: 0.1371 - accuracy: 0.9503 - val_loss: 1.9003 - val_accuracy: 0.4835\n",
      "Epoch 65/200\n",
      "250/250 [==============================] - 0s 690us/step - loss: 0.1293 - accuracy: 0.9564 - val_loss: 2.0696 - val_accuracy: 0.4435\n",
      "Epoch 66/200\n",
      "250/250 [==============================] - 0s 686us/step - loss: 0.1303 - accuracy: 0.9557 - val_loss: 2.0612 - val_accuracy: 0.4590\n",
      "Epoch 67/200\n",
      "250/250 [==============================] - 0s 694us/step - loss: 0.1221 - accuracy: 0.9561 - val_loss: 1.9738 - val_accuracy: 0.4815\n",
      "Epoch 68/200\n",
      "250/250 [==============================] - 0s 698us/step - loss: 0.1221 - accuracy: 0.9566 - val_loss: 2.0451 - val_accuracy: 0.4755\n",
      "Epoch 69/200\n",
      "250/250 [==============================] - 0s 818us/step - loss: 0.1188 - accuracy: 0.9584 - val_loss: 2.0625 - val_accuracy: 0.4755\n",
      "Epoch 70/200\n",
      "250/250 [==============================] - 0s 834us/step - loss: 0.1175 - accuracy: 0.9588 - val_loss: 2.0629 - val_accuracy: 0.4755\n",
      "Epoch 71/200\n",
      "250/250 [==============================] - 0s 762us/step - loss: 0.1183 - accuracy: 0.9600 - val_loss: 2.2413 - val_accuracy: 0.4350\n",
      "Epoch 72/200\n",
      "250/250 [==============================] - 0s 810us/step - loss: 0.1125 - accuracy: 0.9620 - val_loss: 2.1624 - val_accuracy: 0.4585\n",
      "Epoch 73/200\n",
      "250/250 [==============================] - 0s 726us/step - loss: 0.1095 - accuracy: 0.9632 - val_loss: 2.1621 - val_accuracy: 0.4650\n",
      "Epoch 74/200\n",
      "250/250 [==============================] - 0s 746us/step - loss: 0.1174 - accuracy: 0.9595 - val_loss: 2.1160 - val_accuracy: 0.4755\n",
      "Epoch 75/200\n",
      "250/250 [==============================] - 0s 698us/step - loss: 0.1090 - accuracy: 0.9625 - val_loss: 2.2123 - val_accuracy: 0.4645\n",
      "Epoch 76/200\n",
      "250/250 [==============================] - 0s 710us/step - loss: 0.1062 - accuracy: 0.9644 - val_loss: 2.2632 - val_accuracy: 0.4565\n",
      "Epoch 77/200\n",
      "250/250 [==============================] - 0s 698us/step - loss: 0.1030 - accuracy: 0.9656 - val_loss: 2.0516 - val_accuracy: 0.4900\n",
      "Epoch 78/200\n",
      "250/250 [==============================] - 0s 694us/step - loss: 0.1028 - accuracy: 0.9647 - val_loss: 2.2675 - val_accuracy: 0.4505\n",
      "Epoch 79/200\n",
      "250/250 [==============================] - 0s 702us/step - loss: 0.1017 - accuracy: 0.9650 - val_loss: 2.2103 - val_accuracy: 0.4745\n",
      "Epoch 80/200\n",
      "250/250 [==============================] - 0s 686us/step - loss: 0.0921 - accuracy: 0.9709 - val_loss: 2.1588 - val_accuracy: 0.4895\n",
      "Epoch 81/200\n",
      "250/250 [==============================] - 0s 690us/step - loss: 0.0938 - accuracy: 0.9685 - val_loss: 2.1428 - val_accuracy: 0.4975\n",
      "Epoch 82/200\n",
      "250/250 [==============================] - 0s 686us/step - loss: 0.0953 - accuracy: 0.9664 - val_loss: 2.3697 - val_accuracy: 0.4505\n",
      "Epoch 83/200\n",
      "250/250 [==============================] - 0s 708us/step - loss: 0.0918 - accuracy: 0.9691 - val_loss: 2.2709 - val_accuracy: 0.4835\n",
      "Epoch 84/200\n",
      "250/250 [==============================] - ETA: 0s - loss: 0.0875 - accuracy: 0.96 - 0s 714us/step - loss: 0.0910 - accuracy: 0.9682 - val_loss: 2.4476 - val_accuracy: 0.4505\n",
      "Epoch 85/200\n",
      "250/250 [==============================] - 0s 704us/step - loss: 0.0950 - accuracy: 0.9676 - val_loss: 2.2184 - val_accuracy: 0.4880\n",
      "Epoch 86/200\n",
      "250/250 [==============================] - 0s 747us/step - loss: 0.0962 - accuracy: 0.9674 - val_loss: 2.2269 - val_accuracy: 0.4835\n",
      "Epoch 87/200\n",
      "250/250 [==============================] - 0s 790us/step - loss: 0.0907 - accuracy: 0.9684 - val_loss: 2.2774 - val_accuracy: 0.4880\n",
      "Epoch 88/200\n",
      "250/250 [==============================] - 0s 738us/step - loss: 0.0881 - accuracy: 0.9711 - val_loss: 2.2178 - val_accuracy: 0.4975\n",
      "Epoch 89/200\n",
      "250/250 [==============================] - 0s 746us/step - loss: 0.0876 - accuracy: 0.9696 - val_loss: 2.3933 - val_accuracy: 0.4780\n",
      "Epoch 90/200\n",
      "250/250 [==============================] - 0s 730us/step - loss: 0.0890 - accuracy: 0.9685 - val_loss: 2.3251 - val_accuracy: 0.4780\n",
      "Epoch 91/200\n",
      "250/250 [==============================] - 0s 814us/step - loss: 0.0881 - accuracy: 0.9689 - val_loss: 2.4279 - val_accuracy: 0.4655\n",
      "Epoch 92/200\n",
      "250/250 [==============================] - 0s 750us/step - loss: 0.0818 - accuracy: 0.9737 - val_loss: 2.3747 - val_accuracy: 0.4780\n",
      "Epoch 93/200\n",
      "250/250 [==============================] - 0s 741us/step - loss: 0.0858 - accuracy: 0.9712 - val_loss: 2.4494 - val_accuracy: 0.4660\n",
      "Epoch 94/200\n",
      "250/250 [==============================] - 0s 746us/step - loss: 0.0877 - accuracy: 0.9684 - val_loss: 2.3023 - val_accuracy: 0.4860\n",
      "Epoch 95/200\n",
      "250/250 [==============================] - 0s 782us/step - loss: 0.0894 - accuracy: 0.9678 - val_loss: 2.5414 - val_accuracy: 0.4305\n",
      "Epoch 96/200\n",
      "250/250 [==============================] - 0s 794us/step - loss: 0.0829 - accuracy: 0.9703 - val_loss: 2.2081 - val_accuracy: 0.5010\n",
      "Epoch 97/200\n",
      "250/250 [==============================] - 0s 922us/step - loss: 0.0758 - accuracy: 0.9753 - val_loss: 2.4256 - val_accuracy: 0.4775\n",
      "Epoch 98/200\n",
      "250/250 [==============================] - 0s 742us/step - loss: 0.0809 - accuracy: 0.9695 - val_loss: 2.2495 - val_accuracy: 0.4975\n",
      "Epoch 99/200\n",
      "250/250 [==============================] - 0s 758us/step - loss: 0.0749 - accuracy: 0.9745 - val_loss: 2.2900 - val_accuracy: 0.4975\n",
      "Epoch 100/200\n",
      "250/250 [==============================] - 0s 698us/step - loss: 0.0835 - accuracy: 0.9680 - val_loss: 2.3643 - val_accuracy: 0.4855\n",
      "Epoch 101/200\n",
      "250/250 [==============================] - 0s 696us/step - loss: 0.0770 - accuracy: 0.9722 - val_loss: 2.2863 - val_accuracy: 0.4975\n",
      "Epoch 102/200\n",
      "250/250 [==============================] - 0s 690us/step - loss: 0.0728 - accuracy: 0.9743 - val_loss: 2.5108 - val_accuracy: 0.4655\n",
      "Epoch 103/200\n",
      "250/250 [==============================] - 0s 702us/step - loss: 0.0784 - accuracy: 0.9722 - val_loss: 2.2657 - val_accuracy: 0.5110\n",
      "Epoch 104/200\n",
      "250/250 [==============================] - 0s 702us/step - loss: 0.0729 - accuracy: 0.9720 - val_loss: 2.4616 - val_accuracy: 0.4810\n"
     ]
    },
    {
     "name": "stdout",
     "output_type": "stream",
     "text": [
      "Epoch 105/200\n",
      "250/250 [==============================] - 0s 718us/step - loss: 0.0763 - accuracy: 0.9719 - val_loss: 2.1509 - val_accuracy: 0.5320\n",
      "Epoch 106/200\n",
      "250/250 [==============================] - 0s 718us/step - loss: 0.0729 - accuracy: 0.9741 - val_loss: 2.2557 - val_accuracy: 0.5110\n",
      "Epoch 107/200\n",
      "250/250 [==============================] - 0s 696us/step - loss: 0.0671 - accuracy: 0.9750 - val_loss: 2.3993 - val_accuracy: 0.4910\n",
      "Epoch 108/200\n",
      "250/250 [==============================] - 0s 736us/step - loss: 0.0711 - accuracy: 0.9741 - val_loss: 2.5022 - val_accuracy: 0.4770\n",
      "Epoch 109/200\n",
      "250/250 [==============================] - 0s 690us/step - loss: 0.0700 - accuracy: 0.9743 - val_loss: 2.3457 - val_accuracy: 0.4970\n",
      "Epoch 110/200\n",
      "250/250 [==============================] - 0s 778us/step - loss: 0.0673 - accuracy: 0.9760 - val_loss: 2.3627 - val_accuracy: 0.5105\n",
      "Epoch 111/200\n",
      "250/250 [==============================] - 0s 758us/step - loss: 0.0691 - accuracy: 0.9764 - val_loss: 2.3020 - val_accuracy: 0.5110\n",
      "Epoch 112/200\n",
      "250/250 [==============================] - 0s 830us/step - loss: 0.0774 - accuracy: 0.9710 - val_loss: 2.2059 - val_accuracy: 0.5225\n",
      "Epoch 113/200\n",
      "250/250 [==============================] - 0s 842us/step - loss: 0.0716 - accuracy: 0.9749 - val_loss: 2.3574 - val_accuracy: 0.4970\n",
      "Epoch 114/200\n",
      "250/250 [==============================] - 0s 786us/step - loss: 0.0669 - accuracy: 0.9759 - val_loss: 2.3237 - val_accuracy: 0.5105\n",
      "Epoch 115/200\n",
      "250/250 [==============================] - 0s 690us/step - loss: 0.0642 - accuracy: 0.9775 - val_loss: 2.0825 - val_accuracy: 0.5540\n",
      "Epoch 116/200\n",
      "250/250 [==============================] - 0s 711us/step - loss: 0.0647 - accuracy: 0.9754 - val_loss: 2.4334 - val_accuracy: 0.4850\n",
      "Epoch 117/200\n",
      "250/250 [==============================] - 0s 694us/step - loss: 0.0679 - accuracy: 0.9759 - val_loss: 2.3127 - val_accuracy: 0.5105\n",
      "Epoch 118/200\n",
      "250/250 [==============================] - 0s 721us/step - loss: 0.0652 - accuracy: 0.9762 - val_loss: 2.4546 - val_accuracy: 0.4920\n",
      "Epoch 119/200\n",
      "250/250 [==============================] - 0s 702us/step - loss: 0.0605 - accuracy: 0.9799 - val_loss: 2.3613 - val_accuracy: 0.5100\n",
      "Epoch 120/200\n",
      "250/250 [==============================] - 0s 830us/step - loss: 0.0620 - accuracy: 0.9780 - val_loss: 2.3615 - val_accuracy: 0.5100\n",
      "Epoch 121/200\n",
      "250/250 [==============================] - 0s 718us/step - loss: 0.0609 - accuracy: 0.9766 - val_loss: 2.3522 - val_accuracy: 0.5180\n",
      "Epoch 122/200\n",
      "250/250 [==============================] - 0s 722us/step - loss: 0.0643 - accuracy: 0.9756 - val_loss: 2.3197 - val_accuracy: 0.5215\n",
      "Epoch 123/200\n",
      "250/250 [==============================] - 0s 710us/step - loss: 0.0685 - accuracy: 0.9762 - val_loss: 2.3987 - val_accuracy: 0.5100\n",
      "Epoch 124/200\n",
      "250/250 [==============================] - 0s 710us/step - loss: 0.0669 - accuracy: 0.9761 - val_loss: 2.2075 - val_accuracy: 0.5360\n",
      "Epoch 125/200\n",
      "250/250 [==============================] - 0s 698us/step - loss: 0.0606 - accuracy: 0.9776 - val_loss: 2.1835 - val_accuracy: 0.5535\n",
      "Epoch 126/200\n",
      "250/250 [==============================] - 0s 781us/step - loss: 0.0626 - accuracy: 0.9784 - val_loss: 2.2909 - val_accuracy: 0.5215\n",
      "Epoch 127/200\n",
      "250/250 [==============================] - 0s 914us/step - loss: 0.0562 - accuracy: 0.9801 - val_loss: 2.3006 - val_accuracy: 0.5215\n",
      "Epoch 128/200\n",
      "250/250 [==============================] - 0s 754us/step - loss: 0.0608 - accuracy: 0.9774 - val_loss: 2.3034 - val_accuracy: 0.5215\n",
      "Epoch 129/200\n",
      "250/250 [==============================] - 0s 702us/step - loss: 0.0627 - accuracy: 0.9764 - val_loss: 2.2285 - val_accuracy: 0.5525\n",
      "Epoch 130/200\n",
      "250/250 [==============================] - 0s 856us/step - loss: 0.0608 - accuracy: 0.9774 - val_loss: 2.3676 - val_accuracy: 0.5210\n",
      "Epoch 131/200\n",
      "250/250 [==============================] - 0s 865us/step - loss: 0.0612 - accuracy: 0.9779 - val_loss: 2.1601 - val_accuracy: 0.5915\n",
      "Epoch 132/200\n",
      "250/250 [==============================] - ETA: 0s - loss: 0.0571 - accuracy: 0.97 - 0s 806us/step - loss: 0.0574 - accuracy: 0.9799 - val_loss: 2.2042 - val_accuracy: 0.5525\n",
      "Epoch 133/200\n",
      "250/250 [==============================] - 0s 680us/step - loss: 0.0614 - accuracy: 0.9774 - val_loss: 2.3338 - val_accuracy: 0.5215\n",
      "Epoch 134/200\n",
      "250/250 [==============================] - 0s 777us/step - loss: 0.0589 - accuracy: 0.9783 - val_loss: 2.2095 - val_accuracy: 0.5530\n",
      "Epoch 135/200\n",
      "250/250 [==============================] - 0s 814us/step - loss: 0.0604 - accuracy: 0.9786 - val_loss: 2.3398 - val_accuracy: 0.5310\n",
      "Epoch 136/200\n",
      "250/250 [==============================] - 0s 870us/step - loss: 0.0563 - accuracy: 0.9805 - val_loss: 2.4710 - val_accuracy: 0.5095\n",
      "Epoch 137/200\n",
      "250/250 [==============================] - 0s 934us/step - loss: 0.0561 - accuracy: 0.9799 - val_loss: 2.2029 - val_accuracy: 0.5910\n",
      "Epoch 138/200\n",
      "250/250 [==============================] - 0s 762us/step - loss: 0.0569 - accuracy: 0.9805 - val_loss: 2.2513 - val_accuracy: 0.5525\n",
      "Epoch 139/200\n",
      "250/250 [==============================] - 0s 726us/step - loss: 0.0576 - accuracy: 0.9795 - val_loss: 2.5257 - val_accuracy: 0.4940\n",
      "Epoch 140/200\n",
      "250/250 [==============================] - 0s 707us/step - loss: 0.0547 - accuracy: 0.9820 - val_loss: 2.1995 - val_accuracy: 0.5530\n",
      "Epoch 141/200\n",
      "250/250 [==============================] - 0s 696us/step - loss: 0.0524 - accuracy: 0.9824 - val_loss: 2.3379 - val_accuracy: 0.5335\n",
      "Epoch 142/200\n",
      "250/250 [==============================] - 0s 730us/step - loss: 0.0532 - accuracy: 0.9815 - val_loss: 2.2799 - val_accuracy: 0.5525\n",
      "Epoch 143/200\n",
      "250/250 [==============================] - 0s 690us/step - loss: 0.0528 - accuracy: 0.9825 - val_loss: 2.2193 - val_accuracy: 0.5945\n",
      "Epoch 144/200\n",
      "250/250 [==============================] - 0s 706us/step - loss: 0.0542 - accuracy: 0.9814 - val_loss: 2.2752 - val_accuracy: 0.5525\n",
      "Epoch 145/200\n",
      "250/250 [==============================] - 0s 870us/step - loss: 0.0514 - accuracy: 0.9826 - val_loss: 2.2030 - val_accuracy: 0.5950\n",
      "Epoch 146/200\n",
      "250/250 [==============================] - 0s 814us/step - loss: 0.0533 - accuracy: 0.9815 - val_loss: 2.3837 - val_accuracy: 0.5345\n",
      "Epoch 147/200\n",
      "250/250 [==============================] - 0s 695us/step - loss: 0.0556 - accuracy: 0.9796 - val_loss: 2.2503 - val_accuracy: 0.5940\n",
      "Epoch 148/200\n",
      "250/250 [==============================] - 0s 694us/step - loss: 0.0524 - accuracy: 0.9812 - val_loss: 2.3340 - val_accuracy: 0.5520\n",
      "Epoch 149/200\n",
      "250/250 [==============================] - 0s 757us/step - loss: 0.0524 - accuracy: 0.9815 - val_loss: 2.4662 - val_accuracy: 0.5175\n",
      "Epoch 150/200\n",
      "250/250 [==============================] - 0s 690us/step - loss: 0.0472 - accuracy: 0.9834 - val_loss: 2.3598 - val_accuracy: 0.5520\n",
      "Epoch 151/200\n",
      "250/250 [==============================] - 0s 694us/step - loss: 0.0562 - accuracy: 0.9780 - val_loss: 2.4076 - val_accuracy: 0.5345\n",
      "Epoch 152/200\n",
      "250/250 [==============================] - 0s 678us/step - loss: 0.0516 - accuracy: 0.9827 - val_loss: 2.3432 - val_accuracy: 0.5345\n",
      "Epoch 153/200\n",
      "250/250 [==============================] - 0s 754us/step - loss: 0.0491 - accuracy: 0.9827 - val_loss: 2.5451 - val_accuracy: 0.5100\n",
      "Epoch 154/200\n",
      "250/250 [==============================] - 0s 738us/step - loss: 0.0491 - accuracy: 0.9821 - val_loss: 2.2801 - val_accuracy: 0.5945\n",
      "Epoch 155/200\n",
      "250/250 [==============================] - 0s 746us/step - loss: 0.0519 - accuracy: 0.9820 - val_loss: 2.3979 - val_accuracy: 0.5335\n",
      "Epoch 156/200\n",
      "250/250 [==============================] - 0s 756us/step - loss: 0.0497 - accuracy: 0.9826 - val_loss: 2.4828 - val_accuracy: 0.5335\n",
      "Epoch 157/200\n",
      "250/250 [==============================] - 0s 749us/step - loss: 0.0501 - accuracy: 0.9829 - val_loss: 2.5861 - val_accuracy: 0.5045\n",
      "Epoch 158/200\n",
      "250/250 [==============================] - 0s 730us/step - loss: 0.0488 - accuracy: 0.9834 - val_loss: 2.3133 - val_accuracy: 0.5940\n",
      "Epoch 159/200\n",
      "250/250 [==============================] - 0s 726us/step - loss: 0.0502 - accuracy: 0.9825 - val_loss: 2.5115 - val_accuracy: 0.5210\n",
      "Epoch 160/200\n"
     ]
    },
    {
     "name": "stdout",
     "output_type": "stream",
     "text": [
      "250/250 [==============================] - 0s 836us/step - loss: 0.0513 - accuracy: 0.9822 - val_loss: 2.4158 - val_accuracy: 0.5510\n",
      "Epoch 161/200\n",
      "250/250 [==============================] - 0s 826us/step - loss: 0.0505 - accuracy: 0.9809 - val_loss: 2.3829 - val_accuracy: 0.5520\n",
      "Epoch 162/200\n",
      "250/250 [==============================] - 0s 714us/step - loss: 0.0472 - accuracy: 0.9833 - val_loss: 2.2653 - val_accuracy: 0.5940\n",
      "Epoch 163/200\n",
      "250/250 [==============================] - 0s 702us/step - loss: 0.0487 - accuracy: 0.9845 - val_loss: 2.3397 - val_accuracy: 0.5520\n",
      "Epoch 164/200\n",
      "250/250 [==============================] - 0s 677us/step - loss: 0.0431 - accuracy: 0.9847 - val_loss: 2.3622 - val_accuracy: 0.5520\n",
      "Epoch 165/200\n",
      "250/250 [==============================] - 0s 688us/step - loss: 0.0491 - accuracy: 0.9804 - val_loss: 2.4470 - val_accuracy: 0.5335\n",
      "Epoch 166/200\n",
      "250/250 [==============================] - 0s 681us/step - loss: 0.0471 - accuracy: 0.9829 - val_loss: 2.4657 - val_accuracy: 0.5205\n",
      "Epoch 167/200\n",
      "250/250 [==============================] - 0s 718us/step - loss: 0.0467 - accuracy: 0.9843 - val_loss: 2.3244 - val_accuracy: 0.5940\n",
      "Epoch 168/200\n",
      "250/250 [==============================] - 0s 754us/step - loss: 0.0441 - accuracy: 0.9834 - val_loss: 2.4609 - val_accuracy: 0.5335\n",
      "Epoch 169/200\n",
      "250/250 [==============================] - 0s 754us/step - loss: 0.0480 - accuracy: 0.9849 - val_loss: 2.3358 - val_accuracy: 0.5940\n",
      "Epoch 170/200\n",
      "250/250 [==============================] - 0s 826us/step - loss: 0.0439 - accuracy: 0.9855 - val_loss: 2.3821 - val_accuracy: 0.5520\n",
      "Epoch 171/200\n",
      "250/250 [==============================] - 0s 880us/step - loss: 0.0478 - accuracy: 0.9822 - val_loss: 2.5399 - val_accuracy: 0.5300\n",
      "Epoch 172/200\n",
      "250/250 [==============================] - 0s 814us/step - loss: 0.0477 - accuracy: 0.9826 - val_loss: 2.6447 - val_accuracy: 0.5105\n",
      "Epoch 173/200\n",
      "250/250 [==============================] - 0s 774us/step - loss: 0.0430 - accuracy: 0.9837 - val_loss: 2.3231 - val_accuracy: 0.5940\n",
      "Epoch 174/200\n",
      "250/250 [==============================] - 0s 745us/step - loss: 0.0463 - accuracy: 0.9843 - val_loss: 2.5689 - val_accuracy: 0.5135\n",
      "Epoch 175/200\n",
      "250/250 [==============================] - 0s 726us/step - loss: 0.0443 - accuracy: 0.9837 - val_loss: 2.3639 - val_accuracy: 0.5935\n",
      "Epoch 176/200\n",
      "250/250 [==============================] - 0s 694us/step - loss: 0.0440 - accuracy: 0.9850 - val_loss: 2.4331 - val_accuracy: 0.5350\n",
      "Epoch 177/200\n",
      "250/250 [==============================] - 0s 744us/step - loss: 0.0407 - accuracy: 0.9866 - val_loss: 2.4708 - val_accuracy: 0.5510\n",
      "Epoch 178/200\n",
      "250/250 [==============================] - 0s 742us/step - loss: 0.0405 - accuracy: 0.9864 - val_loss: 2.4614 - val_accuracy: 0.5510\n",
      "Epoch 179/200\n",
      "250/250 [==============================] - 0s 751us/step - loss: 0.0448 - accuracy: 0.9831 - val_loss: 2.3727 - val_accuracy: 0.5555\n",
      "Epoch 180/200\n",
      "250/250 [==============================] - 0s 814us/step - loss: 0.0448 - accuracy: 0.9859 - val_loss: 2.5201 - val_accuracy: 0.5200\n",
      "Epoch 181/200\n",
      "250/250 [==============================] - 0s 812us/step - loss: 0.0401 - accuracy: 0.9879 - val_loss: 2.6008 - val_accuracy: 0.5135\n",
      "Epoch 182/200\n",
      "250/250 [==============================] - 0s 794us/step - loss: 0.0435 - accuracy: 0.9846 - val_loss: 2.3968 - val_accuracy: 0.5510\n",
      "Epoch 183/200\n",
      "250/250 [==============================] - 0s 740us/step - loss: 0.0411 - accuracy: 0.9866 - val_loss: 2.6281 - val_accuracy: 0.5120\n",
      "Epoch 184/200\n",
      "250/250 [==============================] - 0s 746us/step - loss: 0.0412 - accuracy: 0.9849 - val_loss: 2.5149 - val_accuracy: 0.5295\n",
      "Epoch 185/200\n",
      "250/250 [==============================] - 0s 714us/step - loss: 0.0434 - accuracy: 0.9844 - val_loss: 2.6149 - val_accuracy: 0.5075\n",
      "Epoch 186/200\n",
      "250/250 [==============================] - 0s 734us/step - loss: 0.0391 - accuracy: 0.9860 - val_loss: 2.7527 - val_accuracy: 0.4655\n",
      "Epoch 187/200\n",
      "250/250 [==============================] - 0s 718us/step - loss: 0.0398 - accuracy: 0.9866 - val_loss: 2.5876 - val_accuracy: 0.5165\n",
      "Epoch 188/200\n",
      "250/250 [==============================] - 0s 698us/step - loss: 0.0426 - accuracy: 0.9846 - val_loss: 2.7256 - val_accuracy: 0.4840\n",
      "Epoch 189/200\n",
      "250/250 [==============================] - 0s 703us/step - loss: 0.0466 - accuracy: 0.9825 - val_loss: 2.6952 - val_accuracy: 0.4895\n",
      "Epoch 190/200\n",
      "250/250 [==============================] - 0s 689us/step - loss: 0.0453 - accuracy: 0.9855 - val_loss: 2.3382 - val_accuracy: 0.6245\n",
      "Epoch 191/200\n",
      "250/250 [==============================] - 0s 720us/step - loss: 0.0421 - accuracy: 0.9855 - val_loss: 2.4129 - val_accuracy: 0.5555\n",
      "Epoch 192/200\n",
      "250/250 [==============================] - 0s 733us/step - loss: 0.0404 - accuracy: 0.9850 - val_loss: 2.4450 - val_accuracy: 0.5505\n",
      "Epoch 193/200\n",
      "250/250 [==============================] - 0s 810us/step - loss: 0.0431 - accuracy: 0.9854 - val_loss: 2.4461 - val_accuracy: 0.5505\n",
      "Epoch 194/200\n",
      "250/250 [==============================] - 0s 714us/step - loss: 0.0365 - accuracy: 0.9874 - val_loss: 2.4508 - val_accuracy: 0.5555\n",
      "Epoch 195/200\n",
      "250/250 [==============================] - 0s 718us/step - loss: 0.0419 - accuracy: 0.9852 - val_loss: 2.5696 - val_accuracy: 0.5090\n",
      "Epoch 196/200\n",
      "250/250 [==============================] - 0s 706us/step - loss: 0.0451 - accuracy: 0.9837 - val_loss: 2.3967 - val_accuracy: 0.5585\n",
      "Epoch 197/200\n",
      "250/250 [==============================] - 0s 714us/step - loss: 0.0404 - accuracy: 0.9855 - val_loss: 2.4676 - val_accuracy: 0.5550\n",
      "Epoch 198/200\n",
      "250/250 [==============================] - 0s 706us/step - loss: 0.0388 - accuracy: 0.9869 - val_loss: 2.3808 - val_accuracy: 0.5965\n",
      "Epoch 199/200\n",
      "250/250 [==============================] - 0s 740us/step - loss: 0.0354 - accuracy: 0.9872 - val_loss: 2.5506 - val_accuracy: 0.5310\n",
      "Epoch 200/200\n",
      "250/250 [==============================] - 0s 758us/step - loss: 0.0360 - accuracy: 0.9872 - val_loss: 2.4581 - val_accuracy: 0.5555\n"
     ]
    },
    {
     "data": {
      "image/png": "[encoded data removed]",
      "text/plain": [
       "<Figure size 432x288 with 1 Axes>"
      ]
     },
     "metadata": {
      "needs_background": "light"
     },
     "output_type": "display_data"
    },
    {
     "data": {
      "image/png": "[encoded data removed]",
      "text/plain": [
       "<Figure size 432x288 with 1 Axes>"
      ]
     },
     "metadata": {
      "needs_background": "light"
     },
     "output_type": "display_data"
    }
   ],
   "source": [
    "from matplotlib import pyplot as plt\n",
    "from keras.models import Sequential\n",
    "from keras.layers.core import Dense\n",
    "from keras.layers import Dropout\n",
    "\n",
    "# create a model\n",
    "def create_model():\n",
    "    model = tf.keras.Sequential()\n",
    "    # Hidden layer\n",
    "    model.add(tf.keras.layers.Dense(20, input_dim=6,activation='sigmoid'))\n",
    "    model.add(Dropout(0.5))\n",
    "    model.add(tf.keras.layers.Dense(10, input_dim=20,activation='relu'))\n",
    "    # Output layer\n",
    "    model.add(tf.keras.layers.Dense(3, activation='softmax'))\n",
    "\n",
    "    # Compile a model\n",
    "    model.compile(loss='categorical_crossentropy', metrics=['accuracy'], optimizer='adam')\n",
    "    return model\n",
    "\n",
    "model = create_model()\n",
    "model.summary()\n",
    "\n",
    "\n",
    "# training the model for 10 epochs\n",
    "results = model.fit(x_tr, y_tr, batch_size=32, epochs=200, validation_data=(x_ts, y_ts))\n",
    "\n",
    "\n",
    "# summarize history for accuracy\n",
    "plt.plot(results.history['accuracy'])\n",
    "plt.plot(results.history['val_accuracy'])\n",
    "plt.title('model accuracy')\n",
    "plt.ylabel('accuracy')\n",
    "plt.xlabel('epoch')\n",
    "plt.legend(['train', 'test'])\n",
    "plt.show()\n",
    "\n",
    "# summarize history for loss\n",
    "plt.plot(results.history['loss'])\n",
    "plt.plot(results.history['val_loss'])\n",
    "plt.title('model loss')\n",
    "plt.ylabel('loss')\n",
    "plt.xlabel('epoch')\n",
    "plt.legend(['train', 'test'])\n",
    "plt.show()\n",
    "\n"
   ]
  },
  {
   "cell_type": "code",
   "execution_count": null,
   "metadata": {},
   "outputs": [],
   "source": []
  },
  {
   "cell_type": "code",
   "execution_count": null,
   "metadata": {},
   "outputs": [],
   "source": []
  }
 ],
 "metadata": {
  "colab": {
   "include_colab_link": true,
   "name": "rn_passwords_evaluacionparcial.ipynb",
   "provenance": []
  },
  "kernelspec": {
   "display_name": "Python 3",
   "language": "python",
   "name": "python3"
  },
  "language_info": {
   "codemirror_mode": {
    "name": "ipython",
    "version": 3
   },
   "file_extension": ".py",
   "mimetype": "text/x-python",
   "name": "python",
   "nbconvert_exporter": "python",
   "pygments_lexer": "ipython3",
   "version": "3.8.5"
  }
 },
 "nbformat": 4,
 "nbformat_minor": 1
}
