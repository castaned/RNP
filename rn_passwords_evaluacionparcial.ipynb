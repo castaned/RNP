{
 "cells": [
  {
   "cell_type": "markdown",
   "metadata": {
    "colab_type": "text",
    "id": "view-in-github"
   },
   "source": [
    "<a href=\"https://colab.research.google.com/github/castaned/RNP/blob/main/rn_passwords_evaluacionparcial.ipynb\" target=\"_parent\"><img src=\"https://colab.research.google.com/assets/colab-badge.svg\" alt=\"Open In Colab\"/></a>"
   ]
  },
  {
   "cell_type": "markdown",
   "metadata": {
    "id": "5sbhP0j6D6oP"
   },
   "source": [
    "El presente código busca clasificar una serie de contraseñas en cuanto a su fortaleza. Las contraseñas provienen del 000webhost leak, disponible en\n",
    "https://www.kaggle.com/bhavikbb/password-strength-classifier-dataset.\n",
    "\n",
    "El dataset a utilizar presenta 670k valores distribuidos en dos columnas:\n",
    "\n",
    "password: Contraseña a analizar.\n",
    "\n",
    "strength: Clasíficación de fuerza de contraseña utilizando parámetros comerciales (0 es débil, 1 es medio, 2 es fuerte). \n"
   ]
  },
  {
   "cell_type": "code",
   "execution_count": 1,
   "metadata": {
    "colab": {
     "base_uri": "https://localhost:8080/"
    },
    "id": "gpJEnqvCGQg8",
    "outputId": "f569f3ed-a024-4a30-d068-af0e63aef741"
   },
   "outputs": [],
   "source": [
    "\n",
    "import tensorflow as tf\n"
   ]
  },
  {
   "cell_type": "code",
   "execution_count": 2,
   "metadata": {
    "id": "BfQdo4h7GUnE"
   },
   "outputs": [],
   "source": [
    "#importamos las librerias necesarias\n",
    "import pandas as pd\n",
    "import seaborn as sns\n",
    "import numpy as np"
   ]
  },
  {
   "cell_type": "code",
   "execution_count": 28,
   "metadata": {
    "colab": {
     "base_uri": "https://localhost:8080/"
    },
    "id": "c3GNCyWWGgfi",
    "outputId": "c27d5abc-a62d-456f-e442-abf19c5ed720"
   },
   "outputs": [],
   "source": [
    "#importamos las funciones necesarias\n",
    "from sklearn.model_selection import train_test_split             #funcion que separa los datos aleatoriamente en arreglos train/test\n",
    "from sklearn.preprocessing import MinMaxScaler                   #funcion de rescalamiento de datos segun un factor dado\n",
    "from sklearn.preprocessing import Normalizer                     #funcion de normalizacion\n",
    "from matplotlib import pyplot as plt                             #funcion de graficacion\n",
    "from keras.models import Sequential                              #modelo secuencial de keras\n",
    "from keras.layers.core import Dense                              #funcion para añadir otra capa en keras\n",
    "from tensorflow.keras.callbacks import EarlyStopping             #funcion que permite detener el algoritmo si no se percibe un progreso medido con ciertos parametros"
   ]
  },
  {
   "cell_type": "code",
   "execution_count": 29,
   "metadata": {
    "colab": {
     "base_uri": "https://localhost:8080/"
    },
    "id": "-1-3NrEjGp8E",
    "outputId": "9eabc622-54ff-41ed-e3e9-202e2fb1cfad"
   },
   "outputs": [],
   "source": [
    "#montamos nuestro google drive para importar archivos\n",
    "#from google.colab import drive\n",
    "#drive.mount('/content/drive') "
   ]
  },
  {
   "cell_type": "code",
   "execution_count": 30,
   "metadata": {
    "colab": {
     "base_uri": "https://localhost:8080/"
    },
    "id": "B2CK1Q_tGr96",
    "outputId": "a064192d-5823-4a07-d5fc-59ecbb84a610"
   },
   "outputs": [
    {
     "name": "stderr",
     "output_type": "stream",
     "text": [
      "b'Skipping line 2810: expected 2 fields, saw 5\\nSkipping line 4641: expected 2 fields, saw 5\\nSkipping line 7171: expected 2 fields, saw 5\\nSkipping line 11220: expected 2 fields, saw 5\\nSkipping line 13809: expected 2 fields, saw 5\\nSkipping line 14132: expected 2 fields, saw 5\\nSkipping line 14293: expected 2 fields, saw 5\\nSkipping line 14865: expected 2 fields, saw 5\\nSkipping line 17419: expected 2 fields, saw 5\\nSkipping line 22801: expected 2 fields, saw 5\\nSkipping line 25001: expected 2 fields, saw 5\\nSkipping line 26603: expected 2 fields, saw 5\\nSkipping line 26742: expected 2 fields, saw 5\\nSkipping line 29702: expected 2 fields, saw 5\\nSkipping line 32767: expected 2 fields, saw 5\\nSkipping line 32878: expected 2 fields, saw 5\\nSkipping line 35643: expected 2 fields, saw 5\\nSkipping line 36550: expected 2 fields, saw 5\\nSkipping line 38732: expected 2 fields, saw 5\\nSkipping line 40567: expected 2 fields, saw 5\\nSkipping line 40576: expected 2 fields, saw 5\\nSkipping line 41864: expected 2 fields, saw 5\\nSkipping line 46861: expected 2 fields, saw 5\\nSkipping line 47939: expected 2 fields, saw 5\\nSkipping line 48628: expected 2 fields, saw 5\\nSkipping line 48908: expected 2 fields, saw 5\\nSkipping line 57582: expected 2 fields, saw 5\\nSkipping line 58782: expected 2 fields, saw 5\\nSkipping line 58984: expected 2 fields, saw 5\\nSkipping line 61518: expected 2 fields, saw 5\\nSkipping line 63451: expected 2 fields, saw 5\\nSkipping line 68141: expected 2 fields, saw 5\\nSkipping line 72083: expected 2 fields, saw 5\\nSkipping line 74027: expected 2 fields, saw 5\\nSkipping line 77811: expected 2 fields, saw 5\\nSkipping line 83958: expected 2 fields, saw 5\\nSkipping line 85295: expected 2 fields, saw 5\\nSkipping line 88665: expected 2 fields, saw 5\\nSkipping line 89198: expected 2 fields, saw 5\\nSkipping line 92499: expected 2 fields, saw 5\\nSkipping line 92751: expected 2 fields, saw 5\\nSkipping line 93689: expected 2 fields, saw 5\\nSkipping line 94776: expected 2 fields, saw 5\\nSkipping line 97334: expected 2 fields, saw 5\\nSkipping line 102316: expected 2 fields, saw 5\\nSkipping line 103421: expected 2 fields, saw 5\\nSkipping line 106872: expected 2 fields, saw 5\\nSkipping line 109363: expected 2 fields, saw 5\\nSkipping line 110117: expected 2 fields, saw 5\\nSkipping line 110465: expected 2 fields, saw 5\\nSkipping line 113843: expected 2 fields, saw 5\\nSkipping line 115634: expected 2 fields, saw 5\\nSkipping line 121518: expected 2 fields, saw 5\\nSkipping line 123692: expected 2 fields, saw 5\\nSkipping line 124708: expected 2 fields, saw 5\\nSkipping line 129608: expected 2 fields, saw 5\\nSkipping line 133176: expected 2 fields, saw 5\\nSkipping line 135532: expected 2 fields, saw 5\\nSkipping line 138042: expected 2 fields, saw 5\\nSkipping line 139485: expected 2 fields, saw 5\\nSkipping line 140401: expected 2 fields, saw 5\\nSkipping line 144093: expected 2 fields, saw 5\\nSkipping line 149850: expected 2 fields, saw 5\\nSkipping line 151831: expected 2 fields, saw 5\\nSkipping line 158014: expected 2 fields, saw 5\\nSkipping line 162047: expected 2 fields, saw 5\\nSkipping line 164515: expected 2 fields, saw 5\\nSkipping line 170313: expected 2 fields, saw 5\\nSkipping line 171325: expected 2 fields, saw 5\\nSkipping line 171424: expected 2 fields, saw 5\\nSkipping line 175920: expected 2 fields, saw 5\\nSkipping line 176210: expected 2 fields, saw 5\\nSkipping line 183603: expected 2 fields, saw 5\\nSkipping line 190264: expected 2 fields, saw 5\\nSkipping line 191683: expected 2 fields, saw 5\\nSkipping line 191988: expected 2 fields, saw 5\\nSkipping line 195450: expected 2 fields, saw 5\\nSkipping line 195754: expected 2 fields, saw 5\\nSkipping line 197124: expected 2 fields, saw 5\\nSkipping line 199263: expected 2 fields, saw 5\\nSkipping line 202603: expected 2 fields, saw 5\\nSkipping line 209960: expected 2 fields, saw 5\\nSkipping line 213218: expected 2 fields, saw 5\\nSkipping line 217060: expected 2 fields, saw 5\\nSkipping line 220121: expected 2 fields, saw 5\\nSkipping line 223518: expected 2 fields, saw 5\\nSkipping line 226293: expected 2 fields, saw 5\\nSkipping line 227035: expected 2 fields, saw 7\\nSkipping line 227341: expected 2 fields, saw 5\\nSkipping line 227808: expected 2 fields, saw 5\\nSkipping line 228516: expected 2 fields, saw 5\\nSkipping line 228733: expected 2 fields, saw 5\\nSkipping line 232043: expected 2 fields, saw 5\\nSkipping line 232426: expected 2 fields, saw 5\\nSkipping line 234490: expected 2 fields, saw 5\\nSkipping line 239626: expected 2 fields, saw 5\\nSkipping line 240461: expected 2 fields, saw 5\\nSkipping line 244518: expected 2 fields, saw 5\\nSkipping line 245395: expected 2 fields, saw 5\\nSkipping line 246168: expected 2 fields, saw 5\\nSkipping line 246655: expected 2 fields, saw 5\\nSkipping line 246752: expected 2 fields, saw 5\\nSkipping line 247189: expected 2 fields, saw 5\\nSkipping line 250276: expected 2 fields, saw 5\\nSkipping line 255327: expected 2 fields, saw 5\\nSkipping line 257094: expected 2 fields, saw 5\\n'\n",
      "b'Skipping line 264626: expected 2 fields, saw 5\\nSkipping line 265028: expected 2 fields, saw 5\\nSkipping line 269150: expected 2 fields, saw 5\\nSkipping line 271360: expected 2 fields, saw 5\\nSkipping line 273975: expected 2 fields, saw 5\\nSkipping line 274742: expected 2 fields, saw 5\\nSkipping line 276227: expected 2 fields, saw 5\\nSkipping line 279807: expected 2 fields, saw 5\\nSkipping line 283425: expected 2 fields, saw 5\\nSkipping line 287468: expected 2 fields, saw 5\\nSkipping line 292995: expected 2 fields, saw 5\\nSkipping line 293496: expected 2 fields, saw 5\\nSkipping line 293735: expected 2 fields, saw 5\\nSkipping line 295060: expected 2 fields, saw 5\\nSkipping line 296643: expected 2 fields, saw 5\\nSkipping line 296848: expected 2 fields, saw 5\\nSkipping line 308926: expected 2 fields, saw 5\\nSkipping line 310360: expected 2 fields, saw 5\\nSkipping line 317004: expected 2 fields, saw 5\\nSkipping line 318207: expected 2 fields, saw 5\\nSkipping line 331783: expected 2 fields, saw 5\\nSkipping line 333864: expected 2 fields, saw 5\\nSkipping line 335958: expected 2 fields, saw 5\\nSkipping line 336290: expected 2 fields, saw 5\\nSkipping line 343526: expected 2 fields, saw 5\\nSkipping line 343857: expected 2 fields, saw 5\\nSkipping line 344059: expected 2 fields, saw 5\\nSkipping line 348691: expected 2 fields, saw 5\\nSkipping line 353446: expected 2 fields, saw 5\\nSkipping line 357073: expected 2 fields, saw 5\\nSkipping line 359753: expected 2 fields, saw 5\\nSkipping line 359974: expected 2 fields, saw 5\\nSkipping line 366534: expected 2 fields, saw 5\\nSkipping line 369514: expected 2 fields, saw 5\\nSkipping line 377759: expected 2 fields, saw 5\\nSkipping line 379327: expected 2 fields, saw 5\\nSkipping line 380769: expected 2 fields, saw 5\\nSkipping line 381073: expected 2 fields, saw 5\\nSkipping line 381489: expected 2 fields, saw 5\\nSkipping line 386304: expected 2 fields, saw 5\\nSkipping line 387635: expected 2 fields, saw 5\\nSkipping line 389613: expected 2 fields, saw 5\\nSkipping line 392604: expected 2 fields, saw 5\\nSkipping line 393184: expected 2 fields, saw 5\\nSkipping line 395530: expected 2 fields, saw 5\\nSkipping line 396939: expected 2 fields, saw 5\\nSkipping line 397385: expected 2 fields, saw 5\\nSkipping line 397509: expected 2 fields, saw 5\\nSkipping line 402902: expected 2 fields, saw 5\\nSkipping line 405187: expected 2 fields, saw 5\\nSkipping line 408412: expected 2 fields, saw 5\\nSkipping line 419423: expected 2 fields, saw 5\\nSkipping line 420962: expected 2 fields, saw 5\\nSkipping line 425965: expected 2 fields, saw 5\\nSkipping line 427496: expected 2 fields, saw 5\\nSkipping line 438881: expected 2 fields, saw 5\\nSkipping line 439776: expected 2 fields, saw 5\\nSkipping line 440345: expected 2 fields, saw 5\\nSkipping line 445507: expected 2 fields, saw 5\\nSkipping line 445548: expected 2 fields, saw 5\\nSkipping line 447184: expected 2 fields, saw 5\\nSkipping line 448603: expected 2 fields, saw 5\\nSkipping line 451732: expected 2 fields, saw 5\\nSkipping line 458249: expected 2 fields, saw 5\\nSkipping line 460274: expected 2 fields, saw 5\\nSkipping line 467630: expected 2 fields, saw 5\\nSkipping line 473961: expected 2 fields, saw 5\\nSkipping line 476281: expected 2 fields, saw 5\\nSkipping line 478010: expected 2 fields, saw 5\\nSkipping line 478322: expected 2 fields, saw 5\\nSkipping line 479999: expected 2 fields, saw 5\\nSkipping line 480898: expected 2 fields, saw 5\\nSkipping line 481688: expected 2 fields, saw 5\\nSkipping line 485193: expected 2 fields, saw 5\\nSkipping line 485519: expected 2 fields, saw 5\\nSkipping line 486000: expected 2 fields, saw 5\\nSkipping line 489063: expected 2 fields, saw 5\\nSkipping line 494525: expected 2 fields, saw 5\\nSkipping line 495009: expected 2 fields, saw 5\\nSkipping line 501954: expected 2 fields, saw 5\\nSkipping line 508035: expected 2 fields, saw 5\\nSkipping line 508828: expected 2 fields, saw 5\\nSkipping line 509833: expected 2 fields, saw 5\\nSkipping line 510410: expected 2 fields, saw 5\\nSkipping line 518229: expected 2 fields, saw 5\\nSkipping line 520302: expected 2 fields, saw 5\\nSkipping line 520340: expected 2 fields, saw 5\\n'\n"
     ]
    },
    {
     "name": "stderr",
     "output_type": "stream",
     "text": [
      "b'Skipping line 525174: expected 2 fields, saw 5\\nSkipping line 526251: expected 2 fields, saw 5\\nSkipping line 529611: expected 2 fields, saw 5\\nSkipping line 531398: expected 2 fields, saw 5\\nSkipping line 534146: expected 2 fields, saw 5\\nSkipping line 544954: expected 2 fields, saw 5\\nSkipping line 553002: expected 2 fields, saw 5\\nSkipping line 553883: expected 2 fields, saw 5\\nSkipping line 553887: expected 2 fields, saw 5\\nSkipping line 553915: expected 2 fields, saw 5\\nSkipping line 554172: expected 2 fields, saw 5\\nSkipping line 563534: expected 2 fields, saw 5\\nSkipping line 565191: expected 2 fields, saw 5\\nSkipping line 574108: expected 2 fields, saw 5\\nSkipping line 574412: expected 2 fields, saw 5\\nSkipping line 575985: expected 2 fields, saw 5\\nSkipping line 580091: expected 2 fields, saw 5\\nSkipping line 582682: expected 2 fields, saw 5\\nSkipping line 585885: expected 2 fields, saw 5\\nSkipping line 590171: expected 2 fields, saw 5\\nSkipping line 591924: expected 2 fields, saw 5\\nSkipping line 592515: expected 2 fields, saw 5\\nSkipping line 593888: expected 2 fields, saw 5\\nSkipping line 596245: expected 2 fields, saw 5\\nSkipping line 607344: expected 2 fields, saw 5\\nSkipping line 607633: expected 2 fields, saw 5\\nSkipping line 610939: expected 2 fields, saw 5\\nSkipping line 613638: expected 2 fields, saw 5\\nSkipping line 615643: expected 2 fields, saw 5\\nSkipping line 615901: expected 2 fields, saw 5\\nSkipping line 617389: expected 2 fields, saw 5\\nSkipping line 634641: expected 2 fields, saw 5\\nSkipping line 635755: expected 2 fields, saw 5\\nSkipping line 646243: expected 2 fields, saw 5\\nSkipping line 647165: expected 2 fields, saw 5\\nSkipping line 648610: expected 2 fields, saw 5\\nSkipping line 648772: expected 2 fields, saw 5\\nSkipping line 651833: expected 2 fields, saw 5\\nSkipping line 653663: expected 2 fields, saw 5\\nSkipping line 656233: expected 2 fields, saw 5\\nSkipping line 656694: expected 2 fields, saw 5\\nSkipping line 659783: expected 2 fields, saw 5\\nSkipping line 660478: expected 2 fields, saw 5\\nSkipping line 661133: expected 2 fields, saw 5\\nSkipping line 661736: expected 2 fields, saw 5\\nSkipping line 669827: expected 2 fields, saw 5\\n'\n"
     ]
    }
   ],
   "source": [
    "#importamos el dataset a utilizar de drive\n",
    "df = pd.read_csv('passwords.csv', error_bad_lines=False)"
   ]
  },
  {
   "cell_type": "code",
   "execution_count": 31,
   "metadata": {
    "colab": {
     "base_uri": "https://localhost:8080/"
    },
    "id": "QgfocTfHHqoa",
    "outputId": "78e778df-0e0d-44f1-c553-4c6cc5ce9de2"
   },
   "outputs": [
    {
     "data": {
      "text/plain": [
       "password    object\n",
       "strength     int64\n",
       "dtype: object"
      ]
     },
     "execution_count": 31,
     "metadata": {},
     "output_type": "execute_result"
    }
   ],
   "source": [
    "df.dtypes"
   ]
  },
  {
   "cell_type": "code",
   "execution_count": 32,
   "metadata": {
    "colab": {
     "base_uri": "https://localhost:8080/"
    },
    "id": "bTh2ZbLSI0cc",
    "outputId": "682e7b8c-84c8-40c6-cb9b-865a5c24507a"
   },
   "outputs": [
    {
     "data": {
      "text/plain": [
       "RangeIndex(start=0, stop=669640, step=1)"
      ]
     },
     "execution_count": 32,
     "metadata": {},
     "output_type": "execute_result"
    }
   ],
   "source": [
    "df.index"
   ]
  },
  {
   "cell_type": "code",
   "execution_count": 33,
   "metadata": {
    "colab": {
     "base_uri": "https://localhost:8080/",
     "height": 197
    },
    "id": "ZTwwQdQpJMk-",
    "outputId": "19822905-4dd2-4747-96aa-4f5e78ee4ae1"
   },
   "outputs": [
    {
     "data": {
      "text/html": [
       "<div>\n",
       "<style scoped>\n",
       "    .dataframe tbody tr th:only-of-type {\n",
       "        vertical-align: middle;\n",
       "    }\n",
       "\n",
       "    .dataframe tbody tr th {\n",
       "        vertical-align: top;\n",
       "    }\n",
       "\n",
       "    .dataframe thead th {\n",
       "        text-align: right;\n",
       "    }\n",
       "</style>\n",
       "<table border=\"1\" class=\"dataframe\">\n",
       "  <thead>\n",
       "    <tr style=\"text-align: right;\">\n",
       "      <th></th>\n",
       "      <th>password</th>\n",
       "      <th>strength</th>\n",
       "    </tr>\n",
       "  </thead>\n",
       "  <tbody>\n",
       "    <tr>\n",
       "      <th>0</th>\n",
       "      <td>kzde5577</td>\n",
       "      <td>1</td>\n",
       "    </tr>\n",
       "    <tr>\n",
       "      <th>1</th>\n",
       "      <td>kino3434</td>\n",
       "      <td>1</td>\n",
       "    </tr>\n",
       "    <tr>\n",
       "      <th>2</th>\n",
       "      <td>visi7k1yr</td>\n",
       "      <td>1</td>\n",
       "    </tr>\n",
       "    <tr>\n",
       "      <th>3</th>\n",
       "      <td>megzy123</td>\n",
       "      <td>1</td>\n",
       "    </tr>\n",
       "    <tr>\n",
       "      <th>4</th>\n",
       "      <td>lamborghin1</td>\n",
       "      <td>1</td>\n",
       "    </tr>\n",
       "  </tbody>\n",
       "</table>\n",
       "</div>"
      ],
      "text/plain": [
       "      password  strength\n",
       "0     kzde5577         1\n",
       "1     kino3434         1\n",
       "2    visi7k1yr         1\n",
       "3     megzy123         1\n",
       "4  lamborghin1         1"
      ]
     },
     "execution_count": 33,
     "metadata": {},
     "output_type": "execute_result"
    }
   ],
   "source": [
    "df.head()"
   ]
  },
  {
   "cell_type": "code",
   "execution_count": 34,
   "metadata": {
    "id": "hWBmbcT_frkq"
   },
   "outputs": [],
   "source": [
    "#para aglizar el proceso, seleccionamos solamente los primeros 10000 valores\n",
    "df = df[0:10000]"
   ]
  },
  {
   "cell_type": "markdown",
   "metadata": {
    "id": "qQdhGTRIJkOp"
   },
   "source": [
    "Para poder analizar esto mediante una red neuronal con un aprendizaje aceptable, se necesitan al menos 5 features que evaluar. \n",
    "\n",
    "A partir de la columna password, se crearan 5 parametros numericos segun las características de cada contraseña:\n",
    "\n",
    "password_length : número de caracteres.\n",
    "\n",
    "password_letters : número de letras en la contraseña.\n",
    "\n",
    "password_numbers : número de números en la contraseña.\n",
    "\n",
    "password_mayus : número de letras mayusculas en la contraseña.\n",
    "\n",
    "password_minus : número de letras minusculas en la contraseña.\n",
    "\n",
    "password_vowels : número de vocales en la contraseña.\n"
   ]
  },
  {
   "cell_type": "code",
   "execution_count": 35,
   "metadata": {
    "id": "u-LRCXUINMOv"
   },
   "outputs": [],
   "source": [
    "#creamos vector de vocales\n",
    "vowels = ['a','e','i','o','u']"
   ]
  },
  {
   "cell_type": "code",
   "execution_count": 36,
   "metadata": {
    "id": "C-pt1Sb2WFHN"
   },
   "outputs": [],
   "source": [
    "#creamos arreglos que almacenen valores de caracteristicas a analizar en cada contraseña\n",
    "pass_mayus = [] #num. de mayusculas\n",
    "pass_minus = [] #num. de minusculas\n",
    "pass_vow   = [] #num. de vocales\n",
    "\n",
    "for i in range(len(df)):\n",
    "  password = str(df['password'][i])\n",
    "  pass_mayus.append(sum(1 for c in password if c.isupper()))\n",
    "  pass_minus.append(sum(1 for c in password if c.islower()))\n",
    "  pass_vow.append(sum(password.count(c) for c in vowels ))"
   ]
  },
  {
   "cell_type": "code",
   "execution_count": 37,
   "metadata": {
    "id": "mO9Y8yUfJfV4"
   },
   "outputs": [],
   "source": [
    "#creamos columnas a partir de las caracteristicas de la columna password\n",
    "df['password_length'] = df['password'].str.len()       \n",
    "df['password_letters'] = abs(df['password'].str.len() - df['password'].str.count('\\d'))             \n",
    "df['password_numbers'] = df['password'].str.count('\\d')    \n",
    "df['password_mayus'] = pass_mayus\n",
    "df['password_minus'] = pass_minus\n",
    "df['password_vowels'] = pass_vow"
   ]
  },
  {
   "cell_type": "code",
   "execution_count": 39,
   "metadata": {
    "colab": {
     "base_uri": "https://localhost:8080/",
     "height": 197
    },
    "id": "VtpNZBaJLnX9",
    "outputId": "9d36e60e-c6d3-4c15-a994-8da497676acb"
   },
   "outputs": [
    {
     "data": {
      "text/html": [
       "<div>\n",
       "<style scoped>\n",
       "    .dataframe tbody tr th:only-of-type {\n",
       "        vertical-align: middle;\n",
       "    }\n",
       "\n",
       "    .dataframe tbody tr th {\n",
       "        vertical-align: top;\n",
       "    }\n",
       "\n",
       "    .dataframe thead th {\n",
       "        text-align: right;\n",
       "    }\n",
       "</style>\n",
       "<table border=\"1\" class=\"dataframe\">\n",
       "  <thead>\n",
       "    <tr style=\"text-align: right;\">\n",
       "      <th></th>\n",
       "      <th>password</th>\n",
       "      <th>strength</th>\n",
       "      <th>password_length</th>\n",
       "      <th>password_letters</th>\n",
       "      <th>password_numbers</th>\n",
       "      <th>password_mayus</th>\n",
       "      <th>password_minus</th>\n",
       "      <th>password_vowels</th>\n",
       "    </tr>\n",
       "  </thead>\n",
       "  <tbody>\n",
       "    <tr>\n",
       "      <th>0</th>\n",
       "      <td>kzde5577</td>\n",
       "      <td>1</td>\n",
       "      <td>8</td>\n",
       "      <td>4</td>\n",
       "      <td>4</td>\n",
       "      <td>0</td>\n",
       "      <td>4</td>\n",
       "      <td>1</td>\n",
       "    </tr>\n",
       "    <tr>\n",
       "      <th>1</th>\n",
       "      <td>kino3434</td>\n",
       "      <td>1</td>\n",
       "      <td>8</td>\n",
       "      <td>4</td>\n",
       "      <td>4</td>\n",
       "      <td>0</td>\n",
       "      <td>4</td>\n",
       "      <td>2</td>\n",
       "    </tr>\n",
       "    <tr>\n",
       "      <th>2</th>\n",
       "      <td>visi7k1yr</td>\n",
       "      <td>1</td>\n",
       "      <td>9</td>\n",
       "      <td>7</td>\n",
       "      <td>2</td>\n",
       "      <td>0</td>\n",
       "      <td>7</td>\n",
       "      <td>2</td>\n",
       "    </tr>\n",
       "    <tr>\n",
       "      <th>3</th>\n",
       "      <td>megzy123</td>\n",
       "      <td>1</td>\n",
       "      <td>8</td>\n",
       "      <td>5</td>\n",
       "      <td>3</td>\n",
       "      <td>0</td>\n",
       "      <td>5</td>\n",
       "      <td>1</td>\n",
       "    </tr>\n",
       "    <tr>\n",
       "      <th>4</th>\n",
       "      <td>lamborghin1</td>\n",
       "      <td>1</td>\n",
       "      <td>11</td>\n",
       "      <td>10</td>\n",
       "      <td>1</td>\n",
       "      <td>0</td>\n",
       "      <td>10</td>\n",
       "      <td>3</td>\n",
       "    </tr>\n",
       "    <tr>\n",
       "      <th>5</th>\n",
       "      <td>AVYq1lDE4MgAZfNt</td>\n",
       "      <td>2</td>\n",
       "      <td>16</td>\n",
       "      <td>14</td>\n",
       "      <td>2</td>\n",
       "      <td>9</td>\n",
       "      <td>5</td>\n",
       "      <td>0</td>\n",
       "    </tr>\n",
       "    <tr>\n",
       "      <th>6</th>\n",
       "      <td>u6c8vhow</td>\n",
       "      <td>1</td>\n",
       "      <td>8</td>\n",
       "      <td>6</td>\n",
       "      <td>2</td>\n",
       "      <td>0</td>\n",
       "      <td>6</td>\n",
       "      <td>2</td>\n",
       "    </tr>\n",
       "    <tr>\n",
       "      <th>7</th>\n",
       "      <td>v1118714</td>\n",
       "      <td>1</td>\n",
       "      <td>8</td>\n",
       "      <td>1</td>\n",
       "      <td>7</td>\n",
       "      <td>0</td>\n",
       "      <td>1</td>\n",
       "      <td>0</td>\n",
       "    </tr>\n",
       "    <tr>\n",
       "      <th>8</th>\n",
       "      <td>universe2908</td>\n",
       "      <td>1</td>\n",
       "      <td>12</td>\n",
       "      <td>8</td>\n",
       "      <td>4</td>\n",
       "      <td>0</td>\n",
       "      <td>8</td>\n",
       "      <td>4</td>\n",
       "    </tr>\n",
       "    <tr>\n",
       "      <th>9</th>\n",
       "      <td>as326159</td>\n",
       "      <td>1</td>\n",
       "      <td>8</td>\n",
       "      <td>2</td>\n",
       "      <td>6</td>\n",
       "      <td>0</td>\n",
       "      <td>2</td>\n",
       "      <td>1</td>\n",
       "    </tr>\n",
       "    <tr>\n",
       "      <th>10</th>\n",
       "      <td>asv5o9yu</td>\n",
       "      <td>1</td>\n",
       "      <td>8</td>\n",
       "      <td>6</td>\n",
       "      <td>2</td>\n",
       "      <td>0</td>\n",
       "      <td>6</td>\n",
       "      <td>3</td>\n",
       "    </tr>\n",
       "    <tr>\n",
       "      <th>11</th>\n",
       "      <td>612035180tok</td>\n",
       "      <td>1</td>\n",
       "      <td>12</td>\n",
       "      <td>3</td>\n",
       "      <td>9</td>\n",
       "      <td>0</td>\n",
       "      <td>3</td>\n",
       "      <td>1</td>\n",
       "    </tr>\n",
       "    <tr>\n",
       "      <th>12</th>\n",
       "      <td>jytifok873</td>\n",
       "      <td>1</td>\n",
       "      <td>10</td>\n",
       "      <td>7</td>\n",
       "      <td>3</td>\n",
       "      <td>0</td>\n",
       "      <td>7</td>\n",
       "      <td>2</td>\n",
       "    </tr>\n",
       "    <tr>\n",
       "      <th>13</th>\n",
       "      <td>WUt9IZzE0OQ7PkNE</td>\n",
       "      <td>2</td>\n",
       "      <td>16</td>\n",
       "      <td>13</td>\n",
       "      <td>3</td>\n",
       "      <td>10</td>\n",
       "      <td>3</td>\n",
       "      <td>0</td>\n",
       "    </tr>\n",
       "    <tr>\n",
       "      <th>14</th>\n",
       "      <td>jerusalem393</td>\n",
       "      <td>1</td>\n",
       "      <td>12</td>\n",
       "      <td>9</td>\n",
       "      <td>3</td>\n",
       "      <td>0</td>\n",
       "      <td>9</td>\n",
       "      <td>4</td>\n",
       "    </tr>\n",
       "    <tr>\n",
       "      <th>15</th>\n",
       "      <td>g067057895</td>\n",
       "      <td>1</td>\n",
       "      <td>10</td>\n",
       "      <td>1</td>\n",
       "      <td>9</td>\n",
       "      <td>0</td>\n",
       "      <td>1</td>\n",
       "      <td>0</td>\n",
       "    </tr>\n",
       "    <tr>\n",
       "      <th>16</th>\n",
       "      <td>52558000aaa</td>\n",
       "      <td>1</td>\n",
       "      <td>11</td>\n",
       "      <td>3</td>\n",
       "      <td>8</td>\n",
       "      <td>0</td>\n",
       "      <td>3</td>\n",
       "      <td>3</td>\n",
       "    </tr>\n",
       "    <tr>\n",
       "      <th>17</th>\n",
       "      <td>idofo673</td>\n",
       "      <td>1</td>\n",
       "      <td>8</td>\n",
       "      <td>5</td>\n",
       "      <td>3</td>\n",
       "      <td>0</td>\n",
       "      <td>5</td>\n",
       "      <td>3</td>\n",
       "    </tr>\n",
       "    <tr>\n",
       "      <th>18</th>\n",
       "      <td>6975038lp</td>\n",
       "      <td>1</td>\n",
       "      <td>9</td>\n",
       "      <td>2</td>\n",
       "      <td>7</td>\n",
       "      <td>0</td>\n",
       "      <td>2</td>\n",
       "      <td>0</td>\n",
       "    </tr>\n",
       "    <tr>\n",
       "      <th>19</th>\n",
       "      <td>sbl571017</td>\n",
       "      <td>1</td>\n",
       "      <td>9</td>\n",
       "      <td>3</td>\n",
       "      <td>6</td>\n",
       "      <td>0</td>\n",
       "      <td>3</td>\n",
       "      <td>0</td>\n",
       "    </tr>\n",
       "  </tbody>\n",
       "</table>\n",
       "</div>"
      ],
      "text/plain": [
       "            password  strength  password_length  password_letters  \\\n",
       "0           kzde5577         1                8                 4   \n",
       "1           kino3434         1                8                 4   \n",
       "2          visi7k1yr         1                9                 7   \n",
       "3           megzy123         1                8                 5   \n",
       "4        lamborghin1         1               11                10   \n",
       "5   AVYq1lDE4MgAZfNt         2               16                14   \n",
       "6           u6c8vhow         1                8                 6   \n",
       "7           v1118714         1                8                 1   \n",
       "8       universe2908         1               12                 8   \n",
       "9           as326159         1                8                 2   \n",
       "10          asv5o9yu         1                8                 6   \n",
       "11      612035180tok         1               12                 3   \n",
       "12        jytifok873         1               10                 7   \n",
       "13  WUt9IZzE0OQ7PkNE         2               16                13   \n",
       "14      jerusalem393         1               12                 9   \n",
       "15        g067057895         1               10                 1   \n",
       "16       52558000aaa         1               11                 3   \n",
       "17          idofo673         1                8                 5   \n",
       "18         6975038lp         1                9                 2   \n",
       "19         sbl571017         1                9                 3   \n",
       "\n",
       "    password_numbers  password_mayus  password_minus  password_vowels  \n",
       "0                  4               0               4                1  \n",
       "1                  4               0               4                2  \n",
       "2                  2               0               7                2  \n",
       "3                  3               0               5                1  \n",
       "4                  1               0              10                3  \n",
       "5                  2               9               5                0  \n",
       "6                  2               0               6                2  \n",
       "7                  7               0               1                0  \n",
       "8                  4               0               8                4  \n",
       "9                  6               0               2                1  \n",
       "10                 2               0               6                3  \n",
       "11                 9               0               3                1  \n",
       "12                 3               0               7                2  \n",
       "13                 3              10               3                0  \n",
       "14                 3               0               9                4  \n",
       "15                 9               0               1                0  \n",
       "16                 8               0               3                3  \n",
       "17                 3               0               5                3  \n",
       "18                 7               0               2                0  \n",
       "19                 6               0               3                0  "
      ]
     },
     "execution_count": 39,
     "metadata": {},
     "output_type": "execute_result"
    }
   ],
   "source": [
    "df.head(20)"
   ]
  },
  {
   "cell_type": "code",
   "execution_count": 14,
   "metadata": {
    "colab": {
     "base_uri": "https://localhost:8080/",
     "height": 355
    },
    "id": "zAo3vp_pMGFQ",
    "outputId": "5b27a8d2-4e1b-4d15-daa9-b32d9c41ca4b"
   },
   "outputs": [
    {
     "data": {
      "image/png": "[encoded data removed]",
      "text/plain": [
       "<Figure size 432x288 with 2 Axes>"
      ]
     },
     "metadata": {
      "needs_background": "light"
     },
     "output_type": "display_data"
    }
   ],
   "source": [
    "#se genera un grafico de correlaciones para observar la relacion entre las variables y deducir si es posible eliminar algunas sin perder informacion\n",
    "fig = sns.heatmap(df.corr(),annot=True,cmap='RdYlGn',linewidths=0.1) #df_train.corr()-->correlation matrix"
   ]
  },
  {
   "cell_type": "code",
   "execution_count": 15,
   "metadata": {
    "id": "4qZ3IUBfaprr"
   },
   "outputs": [],
   "source": [
    "#eliminamos el parametros de baja correlacion\n",
    "#cols = ['password_vowels']\n",
    "\n",
    "\n",
    "#df = df.drop(cols, axis=1)"
   ]
  },
  {
   "cell_type": "code",
   "execution_count": 40,
   "metadata": {
    "id": "QSOYOHykbimd"
   },
   "outputs": [],
   "source": [
    "#se separan los datos en valores de entrada (features) y los valores de salida (para este caso, el diagnositco)\n",
    "X_df = df                                                     #features\n",
    "X_df = X_df.drop(['strength','password'], axis=1)                        #eliminamos el valor de salida de las features\n",
    "y_df = df['strength']           #vector columna de diagnostico (valor de salida)"
   ]
  },
  {
   "cell_type": "code",
   "execution_count": 41,
   "metadata": {
    "colab": {
     "base_uri": "https://localhost:8080/",
     "height": 215
    },
    "id": "204CFsrGby0z",
    "outputId": "cbe73bd5-4280-411c-e50c-3eb2cec6502a"
   },
   "outputs": [
    {
     "name": "stdout",
     "output_type": "stream",
     "text": [
      "[1 2 0]\n"
     ]
    },
    {
     "data": {
      "text/html": [
       "<div>\n",
       "<style scoped>\n",
       "    .dataframe tbody tr th:only-of-type {\n",
       "        vertical-align: middle;\n",
       "    }\n",
       "\n",
       "    .dataframe tbody tr th {\n",
       "        vertical-align: top;\n",
       "    }\n",
       "\n",
       "    .dataframe thead th {\n",
       "        text-align: right;\n",
       "    }\n",
       "</style>\n",
       "<table border=\"1\" class=\"dataframe\">\n",
       "  <thead>\n",
       "    <tr style=\"text-align: right;\">\n",
       "      <th></th>\n",
       "      <th>password_length</th>\n",
       "      <th>password_letters</th>\n",
       "      <th>password_numbers</th>\n",
       "      <th>password_mayus</th>\n",
       "      <th>password_minus</th>\n",
       "      <th>password_vowels</th>\n",
       "    </tr>\n",
       "  </thead>\n",
       "  <tbody>\n",
       "    <tr>\n",
       "      <th>0</th>\n",
       "      <td>8</td>\n",
       "      <td>4</td>\n",
       "      <td>4</td>\n",
       "      <td>0</td>\n",
       "      <td>4</td>\n",
       "      <td>1</td>\n",
       "    </tr>\n",
       "    <tr>\n",
       "      <th>1</th>\n",
       "      <td>8</td>\n",
       "      <td>4</td>\n",
       "      <td>4</td>\n",
       "      <td>0</td>\n",
       "      <td>4</td>\n",
       "      <td>2</td>\n",
       "    </tr>\n",
       "    <tr>\n",
       "      <th>2</th>\n",
       "      <td>9</td>\n",
       "      <td>7</td>\n",
       "      <td>2</td>\n",
       "      <td>0</td>\n",
       "      <td>7</td>\n",
       "      <td>2</td>\n",
       "    </tr>\n",
       "    <tr>\n",
       "      <th>3</th>\n",
       "      <td>8</td>\n",
       "      <td>5</td>\n",
       "      <td>3</td>\n",
       "      <td>0</td>\n",
       "      <td>5</td>\n",
       "      <td>1</td>\n",
       "    </tr>\n",
       "    <tr>\n",
       "      <th>4</th>\n",
       "      <td>11</td>\n",
       "      <td>10</td>\n",
       "      <td>1</td>\n",
       "      <td>0</td>\n",
       "      <td>10</td>\n",
       "      <td>3</td>\n",
       "    </tr>\n",
       "  </tbody>\n",
       "</table>\n",
       "</div>"
      ],
      "text/plain": [
       "   password_length  password_letters  password_numbers  password_mayus  \\\n",
       "0                8                 4                 4               0   \n",
       "1                8                 4                 4               0   \n",
       "2                9                 7                 2               0   \n",
       "3                8                 5                 3               0   \n",
       "4               11                10                 1               0   \n",
       "\n",
       "   password_minus  password_vowels  \n",
       "0               4                1  \n",
       "1               4                2  \n",
       "2               7                2  \n",
       "3               5                1  \n",
       "4              10                3  "
      ]
     },
     "execution_count": 41,
     "metadata": {},
     "output_type": "execute_result"
    }
   ],
   "source": [
    "print(y_df.unique())\n",
    "X_df.head()"
   ]
  },
  {
   "cell_type": "code",
   "execution_count": 42,
   "metadata": {
    "colab": {
     "base_uri": "https://localhost:8080/"
    },
    "id": "gQuZIBsJb4lT",
    "outputId": "ebf15763-0df8-4a42-db51-d97a134c26f4"
   },
   "outputs": [
    {
     "name": "stdout",
     "output_type": "stream",
     "text": [
      "(2500, 6)\n",
      "(7500, 6)\n",
      "(2500, 1)\n",
      "(7500, 1)\n"
     ]
    }
   ],
   "source": [
    "#se utiliza la funcion train_test_split para separar los datos aleatoriamente en cuatro sets: dosde entrenamiento (70%) y otros dos de prueba (30%), tanto features como valores de salida\n",
    "\n",
    "x_tr, x_ts, y_tr, y_ts = train_test_split(X_df, y_df, test_size = 0.25, random_state = 42)   #generacion de arreglos aleatorios de features y valores de salida de entrenamiento y de prueba\n",
    "\n",
    "y_tr = np.asarray(y_tr, dtype = np.int)   #cambiamos las variables al tipo numpy int\n",
    "y_ts = np.asarray(y_ts, dtype = np.int)   \n",
    "\n",
    "y_tr = np.reshape(y_tr, [len(y_tr),1])          #reacomodamos el arreglo según el numero de valores en el dataset\n",
    "y_ts = np.reshape(y_ts, [len(y_ts),1])          \n",
    "\n",
    "print(x_ts.shape)\n",
    "print(x_tr.shape)\n",
    "print(y_ts.shape)\n",
    "print(y_tr.shape)"
   ]
  },
  {
   "cell_type": "code",
   "execution_count": 43,
   "metadata": {},
   "outputs": [],
   "source": [
    "# procedimiento para convertir las categorias a ONE-HOT encoding   (ejemplo  3 -> (0,0,1))\n",
    "from keras.utils import np_utils\n",
    "n_classes = 3\n",
    "y_tr = np_utils.to_categorical(y_tr,n_classes)  \n",
    "y_ts = np_utils.to_categorical(y_ts,n_classes)"
   ]
  },
  {
   "cell_type": "code",
   "execution_count": 44,
   "metadata": {},
   "outputs": [
    {
     "data": {
      "text/plain": [
       "array([[1., 0., 0.],\n",
       "       [1., 0., 0.],\n",
       "       [0., 1., 0.],\n",
       "       ...,\n",
       "       [0., 1., 0.],\n",
       "       [0., 1., 0.],\n",
       "       [0., 1., 0.]], dtype=float32)"
      ]
     },
     "execution_count": 44,
     "metadata": {},
     "output_type": "execute_result"
    }
   ],
   "source": [
    "y_tr.shape\n",
    "y_tr"
   ]
  },
  {
   "cell_type": "code",
   "execution_count": 45,
   "metadata": {
    "colab": {
     "base_uri": "https://localhost:8080/"
    },
    "id": "JrKKasLRcPeR",
    "outputId": "2bba00b4-6dee-45ae-fb0e-dc2aea95aeec"
   },
   "outputs": [
    {
     "name": "stdout",
     "output_type": "stream",
     "text": [
      "Training Data : (7500, 6)\n",
      "Testing Data : (2500, 6)\n"
     ]
    }
   ],
   "source": [
    "# Training Data\n",
    "x_tr = MinMaxScaler().fit_transform(x_tr) #reescalamos el dataframe de valores de entrenamiento como un arreglo de valores entre 0 y 1    \n",
    "y_tr = MinMaxScaler().fit_transform(y_tr) #reescalamos el dataframe de valores de entrenamiento como un arreglo de valores entre 0 y 1             \n",
    "print(\"Training Data :\", x_tr.shape)\n",
    "\n",
    "# Testing Data\n",
    "x_ts = MinMaxScaler().fit_transform(x_ts) #reescalamos el dataframe de valores de prueba como un arreglo de valores entre 0 y 1   \n",
    "y_ts = MinMaxScaler().fit_transform(y_ts) #reescalamos el dataframe de valores de prueba como un arreglo de valores entre 0 y 1  \n",
    "print(\"Testing Data :\", x_ts.shape)"
   ]
  },
  {
   "cell_type": "code",
   "execution_count": 46,
   "metadata": {},
   "outputs": [
    {
     "data": {
      "text/plain": [
       "array([[0.09677419, 0.16129032, 0.125     , 0.        , 0.2173913 ,\n",
       "        0.22222222],\n",
       "       [0.09677419, 0.16129032, 0.125     , 0.        , 0.2173913 ,\n",
       "        0.55555556],\n",
       "       [0.12903226, 0.16129032, 0.1875    , 0.        , 0.2173913 ,\n",
       "        0.22222222],\n",
       "       ...,\n",
       "       [0.29032258, 0.35483871, 0.125     , 0.        , 0.47826087,\n",
       "        0.55555556],\n",
       "       [0.16129032, 0.22580645, 0.125     , 0.        , 0.30434783,\n",
       "        0.33333333],\n",
       "       [0.19354839, 0.12903226, 0.375     , 0.        , 0.17391304,\n",
       "        0.22222222]])"
      ]
     },
     "execution_count": 46,
     "metadata": {},
     "output_type": "execute_result"
    }
   ],
   "source": [
    "x_tr"
   ]
  },
  {
   "cell_type": "code",
   "execution_count": 49,
   "metadata": {
    "id": "hioKYc1sX8q_"
   },
   "outputs": [
    {
     "name": "stdout",
     "output_type": "stream",
     "text": [
      "Model: \"sequential_5\"\n",
      "_________________________________________________________________\n",
      "Layer (type)                 Output Shape              Param #   \n",
      "=================================================================\n",
      "dense_15 (Dense)             (None, 20)                140       \n",
      "_________________________________________________________________\n",
      "dropout_6 (Dropout)          (None, 20)                0         \n",
      "_________________________________________________________________\n",
      "dense_16 (Dense)             (None, 10)                210       \n",
      "_________________________________________________________________\n",
      "dense_17 (Dense)             (None, 3)                 33        \n",
      "=================================================================\n",
      "Total params: 383\n",
      "Trainable params: 383\n",
      "Non-trainable params: 0\n",
      "_________________________________________________________________\n",
      "Epoch 1/100\n",
      "59/59 [==============================] - 0s 3ms/step - loss: 0.8124 - accuracy: 0.7340 - val_loss: 0.7412 - val_accuracy: 0.7456\n",
      "Epoch 2/100\n",
      "59/59 [==============================] - 0s 1ms/step - loss: 0.7622 - accuracy: 0.7345 - val_loss: 0.7385 - val_accuracy: 0.7456\n",
      "Epoch 3/100\n",
      "59/59 [==============================] - 0s 1ms/step - loss: 0.7615 - accuracy: 0.7345 - val_loss: 0.7365 - val_accuracy: 0.7456\n",
      "Epoch 4/100\n",
      "59/59 [==============================] - 0s 1ms/step - loss: 0.7589 - accuracy: 0.7345 - val_loss: 0.7348 - val_accuracy: 0.7456\n",
      "Epoch 5/100\n",
      "59/59 [==============================] - 0s 1ms/step - loss: 0.7559 - accuracy: 0.7345 - val_loss: 0.7333 - val_accuracy: 0.7456\n",
      "Epoch 6/100\n",
      "59/59 [==============================] - 0s 1ms/step - loss: 0.7529 - accuracy: 0.7345 - val_loss: 0.7315 - val_accuracy: 0.7456\n",
      "Epoch 7/100\n",
      "59/59 [==============================] - 0s 1ms/step - loss: 0.7487 - accuracy: 0.7345 - val_loss: 0.7289 - val_accuracy: 0.7456\n",
      "Epoch 8/100\n",
      "59/59 [==============================] - 0s 1ms/step - loss: 0.7458 - accuracy: 0.7345 - val_loss: 0.7253 - val_accuracy: 0.7456\n",
      "Epoch 9/100\n",
      "59/59 [==============================] - 0s 1ms/step - loss: 0.7404 - accuracy: 0.7345 - val_loss: 0.7217 - val_accuracy: 0.7456\n",
      "Epoch 10/100\n",
      "59/59 [==============================] - 0s 1ms/step - loss: 0.7340 - accuracy: 0.7345 - val_loss: 0.7166 - val_accuracy: 0.7456\n",
      "Epoch 11/100\n",
      "59/59 [==============================] - 0s 1ms/step - loss: 0.7285 - accuracy: 0.7345 - val_loss: 0.7111 - val_accuracy: 0.7456\n",
      "Epoch 12/100\n",
      "59/59 [==============================] - 0s 1ms/step - loss: 0.7184 - accuracy: 0.7345 - val_loss: 0.7042 - val_accuracy: 0.7456\n",
      "Epoch 13/100\n",
      "59/59 [==============================] - 0s 1ms/step - loss: 0.7070 - accuracy: 0.7345 - val_loss: 0.6954 - val_accuracy: 0.7456\n",
      "Epoch 14/100\n",
      "59/59 [==============================] - 0s 1ms/step - loss: 0.7034 - accuracy: 0.7351 - val_loss: 0.6874 - val_accuracy: 0.7456\n",
      "Epoch 15/100\n",
      "59/59 [==============================] - 0s 1ms/step - loss: 0.6812 - accuracy: 0.7377 - val_loss: 0.6790 - val_accuracy: 0.7456\n",
      "Epoch 16/100\n",
      "59/59 [==============================] - 0s 1ms/step - loss: 0.6706 - accuracy: 0.7429 - val_loss: 0.6678 - val_accuracy: 0.7460\n",
      "Epoch 17/100\n",
      "59/59 [==============================] - 0s 1ms/step - loss: 0.6588 - accuracy: 0.7543 - val_loss: 0.6639 - val_accuracy: 0.7460\n",
      "Epoch 18/100\n",
      "59/59 [==============================] - 0s 1ms/step - loss: 0.6451 - accuracy: 0.7613 - val_loss: 0.6537 - val_accuracy: 0.7460\n",
      "Epoch 19/100\n",
      "59/59 [==============================] - 0s 1ms/step - loss: 0.6232 - accuracy: 0.7759 - val_loss: 0.6518 - val_accuracy: 0.7460\n",
      "Epoch 20/100\n",
      "59/59 [==============================] - 0s 1ms/step - loss: 0.6163 - accuracy: 0.7771 - val_loss: 0.6369 - val_accuracy: 0.7460\n",
      "Epoch 21/100\n",
      "59/59 [==============================] - 0s 1ms/step - loss: 0.6014 - accuracy: 0.7877 - val_loss: 0.6383 - val_accuracy: 0.7460\n",
      "Epoch 22/100\n",
      "59/59 [==============================] - 0s 1ms/step - loss: 0.5844 - accuracy: 0.7947 - val_loss: 0.6301 - val_accuracy: 0.7460\n",
      "Epoch 23/100\n",
      "59/59 [==============================] - 0s 1ms/step - loss: 0.5727 - accuracy: 0.7996 - val_loss: 0.6243 - val_accuracy: 0.7460\n",
      "Epoch 24/100\n",
      "59/59 [==============================] - 0s 1ms/step - loss: 0.5647 - accuracy: 0.8005 - val_loss: 0.6192 - val_accuracy: 0.7464\n",
      "Epoch 25/100\n",
      "59/59 [==============================] - 0s 1ms/step - loss: 0.5556 - accuracy: 0.8051 - val_loss: 0.6150 - val_accuracy: 0.7476\n",
      "Epoch 26/100\n",
      "59/59 [==============================] - 0s 1ms/step - loss: 0.5485 - accuracy: 0.8065 - val_loss: 0.6198 - val_accuracy: 0.7476\n",
      "Epoch 27/100\n",
      "59/59 [==============================] - 0s 1ms/step - loss: 0.5383 - accuracy: 0.8071 - val_loss: 0.6178 - val_accuracy: 0.7484\n",
      "Epoch 28/100\n",
      "59/59 [==============================] - 0s 1ms/step - loss: 0.5324 - accuracy: 0.8120 - val_loss: 0.6099 - val_accuracy: 0.7488\n",
      "Epoch 29/100\n",
      "59/59 [==============================] - 0s 1ms/step - loss: 0.5140 - accuracy: 0.8171 - val_loss: 0.6159 - val_accuracy: 0.7488\n",
      "Epoch 30/100\n",
      "59/59 [==============================] - 0s 1ms/step - loss: 0.5136 - accuracy: 0.8153 - val_loss: 0.6058 - val_accuracy: 0.7496\n",
      "Epoch 31/100\n",
      "59/59 [==============================] - 0s 1ms/step - loss: 0.5044 - accuracy: 0.8188 - val_loss: 0.6032 - val_accuracy: 0.7500\n",
      "Epoch 32/100\n",
      "59/59 [==============================] - 0s 1ms/step - loss: 0.4955 - accuracy: 0.8203 - val_loss: 0.5930 - val_accuracy: 0.7544\n",
      "Epoch 33/100\n",
      "59/59 [==============================] - 0s 1ms/step - loss: 0.4867 - accuracy: 0.8241 - val_loss: 0.5961 - val_accuracy: 0.7532\n",
      "Epoch 34/100\n",
      "59/59 [==============================] - 0s 1ms/step - loss: 0.4825 - accuracy: 0.8225 - val_loss: 0.5953 - val_accuracy: 0.7544\n",
      "Epoch 35/100\n",
      "59/59 [==============================] - 0s 980us/step - loss: 0.4871 - accuracy: 0.8193 - val_loss: 0.5919 - val_accuracy: 0.7532\n",
      "Epoch 36/100\n",
      "59/59 [==============================] - 0s 1ms/step - loss: 0.4804 - accuracy: 0.8216 - val_loss: 0.5914 - val_accuracy: 0.7532\n",
      "Epoch 37/100\n",
      "59/59 [==============================] - 0s 1ms/step - loss: 0.4627 - accuracy: 0.8267 - val_loss: 0.5848 - val_accuracy: 0.7540\n",
      "Epoch 38/100\n",
      "59/59 [==============================] - 0s 997us/step - loss: 0.4648 - accuracy: 0.8240 - val_loss: 0.5961 - val_accuracy: 0.7508\n",
      "Epoch 39/100\n",
      "59/59 [==============================] - 0s 1ms/step - loss: 0.4580 - accuracy: 0.8304 - val_loss: 0.5840 - val_accuracy: 0.7508\n",
      "Epoch 40/100\n",
      "59/59 [==============================] - 0s 980us/step - loss: 0.4503 - accuracy: 0.8265 - val_loss: 0.5886 - val_accuracy: 0.7508\n",
      "Epoch 41/100\n",
      "59/59 [==============================] - 0s 1ms/step - loss: 0.4450 - accuracy: 0.8284 - val_loss: 0.5927 - val_accuracy: 0.7508\n",
      "Epoch 42/100\n",
      "59/59 [==============================] - 0s 1ms/step - loss: 0.4410 - accuracy: 0.8292 - val_loss: 0.5909 - val_accuracy: 0.7508\n",
      "Epoch 43/100\n",
      "59/59 [==============================] - 0s 1ms/step - loss: 0.4428 - accuracy: 0.8279 - val_loss: 0.5908 - val_accuracy: 0.7508\n",
      "Epoch 44/100\n",
      "59/59 [==============================] - 0s 1ms/step - loss: 0.4313 - accuracy: 0.8299 - val_loss: 0.5861 - val_accuracy: 0.7508\n",
      "Epoch 45/100\n",
      "59/59 [==============================] - 0s 980us/step - loss: 0.4283 - accuracy: 0.8319 - val_loss: 0.5793 - val_accuracy: 0.7508\n",
      "Epoch 46/100\n",
      "59/59 [==============================] - 0s 1ms/step - loss: 0.4253 - accuracy: 0.8316 - val_loss: 0.5889 - val_accuracy: 0.7500\n",
      "Epoch 47/100\n",
      "59/59 [==============================] - 0s 1ms/step - loss: 0.4135 - accuracy: 0.8343 - val_loss: 0.5851 - val_accuracy: 0.7500\n",
      "Epoch 48/100\n",
      "59/59 [==============================] - 0s 1ms/step - loss: 0.4131 - accuracy: 0.8331 - val_loss: 0.5915 - val_accuracy: 0.7500\n",
      "Epoch 49/100\n",
      "59/59 [==============================] - 0s 1ms/step - loss: 0.4067 - accuracy: 0.8360 - val_loss: 0.5808 - val_accuracy: 0.7504\n",
      "Epoch 50/100\n",
      "59/59 [==============================] - 0s 1ms/step - loss: 0.4013 - accuracy: 0.8369 - val_loss: 0.5859 - val_accuracy: 0.7504\n",
      "Epoch 51/100\n",
      "59/59 [==============================] - 0s 980us/step - loss: 0.3972 - accuracy: 0.8387 - val_loss: 0.5825 - val_accuracy: 0.7504\n",
      "Epoch 52/100\n"
     ]
    },
    {
     "name": "stdout",
     "output_type": "stream",
     "text": [
      "59/59 [==============================] - 0s 1ms/step - loss: 0.3938 - accuracy: 0.8439 - val_loss: 0.5777 - val_accuracy: 0.7508\n",
      "Epoch 53/100\n",
      "59/59 [==============================] - 0s 1ms/step - loss: 0.3833 - accuracy: 0.8424 - val_loss: 0.5904 - val_accuracy: 0.7500\n",
      "Epoch 54/100\n",
      "59/59 [==============================] - 0s 1ms/step - loss: 0.3805 - accuracy: 0.8459 - val_loss: 0.5834 - val_accuracy: 0.7512\n",
      "Epoch 55/100\n",
      "59/59 [==============================] - 0s 1ms/step - loss: 0.3804 - accuracy: 0.8479 - val_loss: 0.5942 - val_accuracy: 0.7508\n",
      "Epoch 56/100\n",
      "59/59 [==============================] - 0s 1ms/step - loss: 0.3747 - accuracy: 0.8509 - val_loss: 0.6101 - val_accuracy: 0.8080\n",
      "Epoch 57/100\n",
      "59/59 [==============================] - 0s 1ms/step - loss: 0.3672 - accuracy: 0.8556 - val_loss: 0.5821 - val_accuracy: 0.8096\n",
      "Epoch 58/100\n",
      "59/59 [==============================] - 0s 1ms/step - loss: 0.3692 - accuracy: 0.8527 - val_loss: 0.6102 - val_accuracy: 0.8180\n",
      "Epoch 59/100\n",
      "59/59 [==============================] - 0s 997us/step - loss: 0.3640 - accuracy: 0.8560 - val_loss: 0.6032 - val_accuracy: 0.8780\n",
      "Epoch 60/100\n",
      "59/59 [==============================] - 0s 1ms/step - loss: 0.3553 - accuracy: 0.8585 - val_loss: 0.6008 - val_accuracy: 0.8868\n",
      "Epoch 61/100\n",
      "59/59 [==============================] - 0s 1ms/step - loss: 0.3511 - accuracy: 0.8632 - val_loss: 0.6176 - val_accuracy: 0.8864\n",
      "Epoch 62/100\n",
      "59/59 [==============================] - 0s 1ms/step - loss: 0.3490 - accuracy: 0.8621 - val_loss: 0.6160 - val_accuracy: 0.8868\n",
      "Epoch 63/100\n",
      "59/59 [==============================] - 0s 1ms/step - loss: 0.3428 - accuracy: 0.8661 - val_loss: 0.6142 - val_accuracy: 0.8868\n",
      "Epoch 64/100\n",
      "59/59 [==============================] - 0s 1ms/step - loss: 0.3416 - accuracy: 0.8652 - val_loss: 0.6371 - val_accuracy: 0.8732\n",
      "Epoch 65/100\n",
      "59/59 [==============================] - 0s 1ms/step - loss: 0.3390 - accuracy: 0.8645 - val_loss: 0.6384 - val_accuracy: 0.8380\n",
      "Epoch 66/100\n",
      "59/59 [==============================] - 0s 1ms/step - loss: 0.3338 - accuracy: 0.8684 - val_loss: 0.6260 - val_accuracy: 0.8564\n",
      "Epoch 67/100\n",
      "59/59 [==============================] - 0s 1ms/step - loss: 0.3250 - accuracy: 0.8692 - val_loss: 0.6394 - val_accuracy: 0.7832\n",
      "Epoch 68/100\n",
      "59/59 [==============================] - 0s 1ms/step - loss: 0.3303 - accuracy: 0.8687 - val_loss: 0.6465 - val_accuracy: 0.7640\n",
      "Epoch 69/100\n",
      "59/59 [==============================] - 0s 1ms/step - loss: 0.3242 - accuracy: 0.8736 - val_loss: 0.6563 - val_accuracy: 0.7640\n",
      "Epoch 70/100\n",
      "59/59 [==============================] - 0s 1ms/step - loss: 0.3198 - accuracy: 0.8784 - val_loss: 0.6478 - val_accuracy: 0.7640\n",
      "Epoch 71/100\n",
      "59/59 [==============================] - 0s 1ms/step - loss: 0.3263 - accuracy: 0.8684 - val_loss: 0.6664 - val_accuracy: 0.7388\n",
      "Epoch 72/100\n",
      "59/59 [==============================] - 0s 1ms/step - loss: 0.3136 - accuracy: 0.8785 - val_loss: 0.6691 - val_accuracy: 0.7372\n",
      "Epoch 73/100\n",
      "59/59 [==============================] - 0s 1ms/step - loss: 0.3121 - accuracy: 0.8807 - val_loss: 0.6765 - val_accuracy: 0.7376\n",
      "Epoch 74/100\n",
      "59/59 [==============================] - 0s 1ms/step - loss: 0.3095 - accuracy: 0.8721 - val_loss: 0.6825 - val_accuracy: 0.7272\n",
      "Epoch 75/100\n",
      "59/59 [==============================] - 0s 1ms/step - loss: 0.3080 - accuracy: 0.8779 - val_loss: 0.7261 - val_accuracy: 0.6832\n",
      "Epoch 76/100\n",
      "59/59 [==============================] - 0s 1ms/step - loss: 0.3031 - accuracy: 0.8807 - val_loss: 0.6670 - val_accuracy: 0.7212\n",
      "Epoch 77/100\n",
      "59/59 [==============================] - 0s 1ms/step - loss: 0.3015 - accuracy: 0.8857 - val_loss: 0.6824 - val_accuracy: 0.7184\n",
      "Epoch 78/100\n",
      "59/59 [==============================] - 0s 1ms/step - loss: 0.2928 - accuracy: 0.8840 - val_loss: 0.7126 - val_accuracy: 0.6872\n",
      "Epoch 79/100\n",
      "59/59 [==============================] - 0s 1ms/step - loss: 0.2958 - accuracy: 0.8869 - val_loss: 0.7273 - val_accuracy: 0.6736\n",
      "Epoch 80/100\n",
      "59/59 [==============================] - 0s 1ms/step - loss: 0.2931 - accuracy: 0.8816 - val_loss: 0.7400 - val_accuracy: 0.6392\n",
      "Epoch 81/100\n",
      "59/59 [==============================] - 0s 1ms/step - loss: 0.2873 - accuracy: 0.8868 - val_loss: 0.7425 - val_accuracy: 0.6644\n",
      "Epoch 82/100\n",
      "59/59 [==============================] - 0s 1ms/step - loss: 0.2846 - accuracy: 0.8857 - val_loss: 0.7653 - val_accuracy: 0.6352\n",
      "Epoch 83/100\n",
      "59/59 [==============================] - 0s 1ms/step - loss: 0.2875 - accuracy: 0.8869 - val_loss: 0.7619 - val_accuracy: 0.6372\n",
      "Epoch 84/100\n",
      "59/59 [==============================] - 0s 1ms/step - loss: 0.2825 - accuracy: 0.8887 - val_loss: 0.7492 - val_accuracy: 0.6580\n",
      "Epoch 85/100\n",
      "59/59 [==============================] - 0s 1ms/step - loss: 0.2756 - accuracy: 0.8905 - val_loss: 0.7553 - val_accuracy: 0.6580\n",
      "Epoch 86/100\n",
      "59/59 [==============================] - 0s 1ms/step - loss: 0.2719 - accuracy: 0.8916 - val_loss: 0.7614 - val_accuracy: 0.6372\n",
      "Epoch 87/100\n",
      "59/59 [==============================] - 0s 1ms/step - loss: 0.2687 - accuracy: 0.8960 - val_loss: 0.7902 - val_accuracy: 0.6024\n",
      "Epoch 88/100\n",
      "59/59 [==============================] - 0s 1ms/step - loss: 0.2700 - accuracy: 0.8920 - val_loss: 0.7848 - val_accuracy: 0.6028\n",
      "Epoch 89/100\n",
      "59/59 [==============================] - 0s 1ms/step - loss: 0.2673 - accuracy: 0.8972 - val_loss: 0.7926 - val_accuracy: 0.6028\n",
      "Epoch 90/100\n",
      "59/59 [==============================] - 0s 1ms/step - loss: 0.2675 - accuracy: 0.8987 - val_loss: 0.7900 - val_accuracy: 0.6032\n",
      "Epoch 91/100\n",
      "59/59 [==============================] - 0s 1ms/step - loss: 0.2666 - accuracy: 0.8943 - val_loss: 0.8388 - val_accuracy: 0.5600\n",
      "Epoch 92/100\n",
      "59/59 [==============================] - 0s 1ms/step - loss: 0.2677 - accuracy: 0.8899 - val_loss: 0.8141 - val_accuracy: 0.6024\n",
      "Epoch 93/100\n",
      "59/59 [==============================] - 0s 1ms/step - loss: 0.2577 - accuracy: 0.8959 - val_loss: 0.8294 - val_accuracy: 0.5648\n",
      "Epoch 94/100\n",
      "59/59 [==============================] - 0s 1ms/step - loss: 0.2553 - accuracy: 0.8992 - val_loss: 0.8405 - val_accuracy: 0.5596\n",
      "Epoch 95/100\n",
      "59/59 [==============================] - 0s 1ms/step - loss: 0.2619 - accuracy: 0.8968 - val_loss: 0.8694 - val_accuracy: 0.5592\n",
      "Epoch 96/100\n",
      "59/59 [==============================] - 0s 1ms/step - loss: 0.2531 - accuracy: 0.8997 - val_loss: 0.8436 - val_accuracy: 0.5596\n",
      "Epoch 97/100\n",
      "59/59 [==============================] - 0s 1ms/step - loss: 0.2516 - accuracy: 0.9011 - val_loss: 0.9113 - val_accuracy: 0.5364\n",
      "Epoch 98/100\n",
      "59/59 [==============================] - 0s 1ms/step - loss: 0.2555 - accuracy: 0.8996 - val_loss: 0.8701 - val_accuracy: 0.5596\n",
      "Epoch 99/100\n",
      "59/59 [==============================] - 0s 1ms/step - loss: 0.2428 - accuracy: 0.9065 - val_loss: 0.8983 - val_accuracy: 0.5380\n",
      "Epoch 100/100\n",
      "59/59 [==============================] - 0s 1ms/step - loss: 0.2423 - accuracy: 0.9053 - val_loss: 0.9096 - val_accuracy: 0.5380\n"
     ]
    },
    {
     "data": {
      "image/png": "[encoded data removed]",
      "text/plain": [
       "<Figure size 432x288 with 1 Axes>"
      ]
     },
     "metadata": {
      "needs_background": "light"
     },
     "output_type": "display_data"
    },
    {
     "data": {
      "image/png": "[encoded data removed]",
      "text/plain": [
       "<Figure size 432x288 with 1 Axes>"
      ]
     },
     "metadata": {
      "needs_background": "light"
     },
     "output_type": "display_data"
    }
   ],
   "source": [
    "from matplotlib import pyplot as plt\n",
    "from keras.models import Sequential\n",
    "from keras.layers.core import Dense\n",
    "from keras.layers import Dropout\n",
    "\n",
    "# create a model\n",
    "def create_model():\n",
    "    model = tf.keras.Sequential()\n",
    "    # Hidden layer\n",
    "    model.add(tf.keras.layers.Dense(20, input_dim=6,activation='sigmoid'))\n",
    "    model.add(Dropout(0.5))\n",
    "    model.add(tf.keras.layers.Dense(10, input_dim=10,activation='sigmoid'))\n",
    "\n",
    "    # Output layer\n",
    "    model.add(tf.keras.layers.Dense(3, activation='softmax'))\n",
    "\n",
    "    # Compile a model\n",
    "    model.compile(loss='categorical_crossentropy', metrics=['accuracy'], optimizer='adam')\n",
    "    return model\n",
    "\n",
    "model = create_model()\n",
    "model.summary()\n",
    "\n",
    "\n",
    "# training the model for 10 epochs\n",
    "results = model.fit(x_tr, y_tr, batch_size=128, epochs=100, validation_data=(x_ts, y_ts))\n",
    "\n",
    "\n",
    "# summarize history for accuracy\n",
    "plt.plot(results.history['accuracy'])\n",
    "plt.plot(results.history['val_accuracy'])\n",
    "plt.title('model accuracy')\n",
    "plt.ylabel('accuracy')\n",
    "plt.xlabel('epoch')\n",
    "plt.legend(['train', 'test'])\n",
    "plt.show()\n",
    "\n",
    "# summarize history for loss\n",
    "plt.plot(results.history['loss'])\n",
    "plt.plot(results.history['val_loss'])\n",
    "plt.title('model loss')\n",
    "plt.ylabel('loss')\n",
    "plt.xlabel('epoch')\n",
    "plt.legend(['train', 'test'])\n",
    "plt.show()\n",
    "\n"
   ]
  },
  {
   "cell_type": "code",
   "execution_count": null,
   "metadata": {},
   "outputs": [],
   "source": []
  },
  {
   "cell_type": "code",
   "execution_count": null,
   "metadata": {},
   "outputs": [],
   "source": []
  }
 ],
 "metadata": {
  "colab": {
   "include_colab_link": true,
   "name": "rn_passwords_evaluacionparcial.ipynb",
   "provenance": []
  },
  "kernelspec": {
   "display_name": "Python 3",
   "language": "python",
   "name": "python3"
  },
  "language_info": {
   "codemirror_mode": {
    "name": "ipython",
    "version": 3
   },
   "file_extension": ".py",
   "mimetype": "text/x-python",
   "name": "python",
   "nbconvert_exporter": "python",
   "pygments_lexer": "ipython3",
   "version": "3.8.5"
  }
 },
 "nbformat": 4,
 "nbformat_minor": 1
}
